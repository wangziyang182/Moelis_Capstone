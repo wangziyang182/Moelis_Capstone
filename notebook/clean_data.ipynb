{
 "cells": [
  {
   "cell_type": "code",
   "execution_count": null,
   "metadata": {},
   "outputs": [],
   "source": [
    "import numpy as np\n",
    "import pandas as pd\n",
    "import plotnine as gg"
   ]
  },
  {
   "cell_type": "code",
   "execution_count": null,
   "metadata": {},
   "outputs": [],
   "source": [
    "def clean_column_name(column_name):\n",
    "    return (\n",
    "        column_name\n",
    "        .strip()\n",
    "        .lower()\n",
    "        .replace(' ', '_')\n",
    "        .replace('-', '_')\n",
    "        .replace('\\n', '_')\n",
    "        .replace('(', '')\n",
    "        .replace(')', '')\n",
    "        .replace('%', 'pecent')\n",
    "        .replace('/', '_or_')\n",
    "        .replace('?', '')\n",
    "        .replace('__', '_')\n",
    "        .replace('_dates', '_date')\n",
    "    )\n",
    "\n",
    "dict_manual_renamings = {\n",
    "    'campaign_symbol': 'campaign_id',\n",
    "    'activist': 'activist_name',\n",
    "    'campaign_announce_date': 'campaign_announcement_date',\n",
    "    'in_force_prior_to_announcement_poison_pill': 'poison_pill_in_force_prior_to_announcement',\n",
    "    'adopted_in_response_to_campaign_poison_pill': 'poison_pill_adopted_in_response_to_campaign',\n",
    "}\n",
    "\n",
    "list_drop_columns = [\n",
    "    \n",
    "    # repeat of campaign_announce_date\n",
    "    'announcement_date_date', \n",
    "    \n",
    "    # unused for now\n",
    "    '18_months_pre_date_stock_price',\n",
    "    '1_year_pre_date_stock_price',\n",
    "    '6_months_pre_date_stock_price',\n",
    "    '90_days_pre_date_stock_price',\n",
    "    \n",
    "    '18_months_pre_date_dividends',\n",
    "    '1_year_pre_date_dividends',\n",
    "    '6_months_pre_date_dividends',\n",
    "    '90_days_pre_date_dividends',\n",
    "    \n",
    "    '6_months_post_date_stock_price',\n",
    "    '1_year_post_date_stock_price',\n",
    "    '18_months_post_date_stock_price',\n",
    "    \n",
    "    '6_months_post_date_dividends',\n",
    "    '1_year_post_date_dividends',\n",
    "    '18_months_post_date_dividends'\n",
    "    \n",
    "]\n",
    "\n",
    "list_percentage_columns = [\n",
    "    '18_months_pre_date_total_return',\n",
    "    '1_year_pre_date_total_return',\n",
    "    '6_months_pre_date_total_return',\n",
    "    '90_days_pre_date_total_return',\n",
    "    'ownership_pecent_on_announcements',\n",
    "    '6_months_post_date_total_return',\n",
    "    '1_year_post_date_total_return',\n",
    "    '18_months_post_date_total_return',\n",
    "]\n",
    "\n",
    "list_column_order = [\n",
    "    \n",
    "    # campaign\n",
    "    'campaign_id',\n",
    "    'campaign_announcement_date',\n",
    "    'campaign_title',\n",
    "    \n",
    "    # campaign objective\n",
    "    'campaign_objective_primary',\n",
    "    'value_demand',\n",
    "    'governance_demand',\n",
    "    'activist_campaign_tactic',\n",
    "    'activist_campaign_results',  # y variable\n",
    "    \n",
    "    # campaign objective details - board seats\n",
    "    'total_number_of_board_seats',\n",
    "    'number_of_board_seats_sought',\n",
    "    'number_of_board_seats_gained',   # y variable\n",
    "    'short_or_majority_or_full_slate',   # y variable\n",
    "    \n",
    "    # campaign objective details - proxy\n",
    "    'proxy_proposal',\n",
    "    'glass_lewis_support',\n",
    "    'iss_support',\n",
    "    'proxy_campaign_winner_or_result',  # y variable\n",
    "    \n",
    "    # activist\n",
    "    'activist_id',\n",
    "    'activist_name',\n",
    "    'activist_group',\n",
    "    \n",
    "    # activist holding information\n",
    "    'first_trade_date',\n",
    "    'last_trade_date',\n",
    "    'ownership_pecent_on_announcements',\n",
    "    \n",
    "    # company\n",
    "    'company_id',\n",
    "    'company_name',\n",
    "    'sector',\n",
    "    \n",
    "    # comapny fundamentals\n",
    "    'price_at_announcement',\n",
    "    'ltm_eps_at_announcement',\n",
    "    'earnings_yield_at_announcement',\n",
    "    \n",
    "    # company features\n",
    "    'current_entity_status',\n",
    "    'current_entity_detail',\n",
    "    'public_before_or_after_campaign_announcement',\n",
    "    'poison_pill_in_force_prior_to_announcement',\n",
    "    'poison_pill_adopted_in_response_to_campaign',\n",
    "    \n",
    "    # dates\n",
    "    '18_months_pre_announcement_date',\n",
    "    '1_year_pre_announcement_date',\n",
    "    '6_months_pre_announcement_date',\n",
    "    '90_days_pre_announcement_date',\n",
    "    '6_months_post_announcement_date',\n",
    "    '1_year_post_announcement_date',\n",
    "    '18_months_post_announcement_date',\n",
    "\n",
    "    # company returns\n",
    "    '18_months_pre_date_total_return',\n",
    "    '1_year_pre_date_total_return',\n",
    "    '6_months_pre_date_total_return',\n",
    "    '90_days_pre_date_total_return',\n",
    "    '6_months_post_date_total_return',  # y variable\n",
    "    '1_year_post_date_total_return',  # y variable\n",
    "    '18_months_post_date_total_return'  # y variable\n",
    "\n",
    "]"
   ]
  },
  {
   "cell_type": "markdown",
   "metadata": {},
   "source": [
    "# Read Raw Data"
   ]
  },
  {
   "cell_type": "code",
   "execution_count": null,
   "metadata": {},
   "outputs": [],
   "source": [
    "df_raw = pd.read_excel('../data/FactSet_Campaign v8.xlsx', skiprows=2, na_values=['', ' ', '_', '-', 'na', 'NA', 'n.a.'])"
   ]
  },
  {
   "cell_type": "code",
   "execution_count": null,
   "metadata": {},
   "outputs": [],
   "source": [
    "df_raw.iloc[0]"
   ]
  },
  {
   "cell_type": "markdown",
   "metadata": {},
   "source": [
    "# Clean Data"
   ]
  },
  {
   "cell_type": "code",
   "execution_count": null,
   "metadata": {},
   "outputs": [],
   "source": [
    "df_cleaning = (\n",
    "    \n",
    "    df_raw\n",
    "    \n",
    "    # rename \n",
    "    .rename(columns=clean_column_name)\n",
    "    .rename(columns=dict_manual_renamings)\n",
    "    \n",
    "    # drop\n",
    "    .drop(axis='columns', labels=list_drop_columns)\n",
    "    \n",
    "    # convert strings to dates based on format\n",
    "    # note this fails silently for malformed dates for now\n",
    "    .assign(campaign_announcement_date=lambda df: pd.to_datetime(df.campaign_announcement_date, format='%Y%m%d'))\n",
    "    .assign(first_trade_date=lambda df: pd.to_datetime(df.first_trade_date, format='%Y-%m-%d %H:%M:%S'))\n",
    "    .assign(last_trade_date=lambda df: pd.to_datetime(df.last_trade_date.astype(str), format='%m/%d/%Y', errors='coerce'))\n",
    "    \n",
    "    # extract company name and activist group from campaign title\n",
    "    # note that what comes after the / can be a list of comma separated activist names, I call this activist group\n",
    "    .assign(company_name=lambda df: df.campaign_title.str.split(' / ', n=1, expand=True)[0])\n",
    "    .assign(activist_group=lambda df: df.campaign_title.str.split(' / ', n=1, expand=True)[1])\n",
    "    \n",
    "    # for categoricals, standardize to Title case\n",
    "    .assign(sector=lambda df: df.sector.str.title())\n",
    "    .assign(public_before_or_after_campaign_announcement=lambda df: df.public_before_or_after_campaign_announcement.str.title())\n",
    "    .assign(current_entity_status=lambda df: df.current_entity_status.str.title())\n",
    "    .assign(current_entity_detail=lambda df: df.current_entity_detail.str.title())\n",
    "    \n",
    "    # light features\n",
    "    .assign(earnings_yield_at_announcement=lambda df: df.ltm_eps_at_announcement / df.price_at_announcement)\n",
    "    \n",
    ")\n",
    "\n",
    "# from percentages to raw units\n",
    "for percentage_column in list_percentage_columns:\n",
    "    df_cleaning[percentage_column] = df_cleaning[percentage_column] / 100\n",
    "\n",
    "# reorder\n",
    "df_cleaning = (\n",
    "    df_cleaning\n",
    "    .loc[:, list_column_order]\n",
    "    .sort_values(['campaign_id', 'campaign_announcement_date', 'campaign_title'])\n",
    ")\n",
    "    \n",
    "df_clean = df_cleaning"
   ]
  },
  {
   "cell_type": "code",
   "execution_count": null,
   "metadata": {},
   "outputs": [],
   "source": [
    "df_clean.iloc[0]"
   ]
  },
  {
   "cell_type": "code",
   "execution_count": null,
   "metadata": {},
   "outputs": [],
   "source": [
    "df_clean.dtypes"
   ]
  },
  {
   "cell_type": "code",
   "execution_count": null,
   "metadata": {},
   "outputs": [],
   "source": [
    "len(df_clean)"
   ]
  },
  {
   "cell_type": "markdown",
   "metadata": {},
   "source": [
    "# Write Clean Data"
   ]
  },
  {
   "cell_type": "code",
   "execution_count": null,
   "metadata": {},
   "outputs": [],
   "source": [
    "df_clean.to_csv('../data/clean_factset_campaign_data.csv')"
   ]
  },
  {
   "cell_type": "markdown",
   "metadata": {},
   "source": [
    "# Check Data"
   ]
  },
  {
   "cell_type": "markdown",
   "metadata": {},
   "source": [
    "# Campaigns\n",
    "\n",
    "Keyed by `(campaign_id, activist_id, company_id)`."
   ]
  },
  {
   "cell_type": "code",
   "execution_count": null,
   "metadata": {},
   "outputs": [],
   "source": [
    "df_clean.campaign_id.nunique()"
   ]
  },
  {
   "cell_type": "code",
   "execution_count": null,
   "metadata": {},
   "outputs": [],
   "source": [
    "df_campaign = (\n",
    "    df_clean\n",
    "    .groupby('campaign_id')\n",
    "    .last()\n",
    "    .reset_index()\n",
    ")"
   ]
  },
  {
   "cell_type": "code",
   "execution_count": null,
   "metadata": {},
   "outputs": [],
   "source": [
    "df_campaign.head(5)"
   ]
  },
  {
   "cell_type": "code",
   "execution_count": null,
   "metadata": {},
   "outputs": [],
   "source": [
    "df_campaign.groupby('campaign_objective_primary').campaign_id.count().sort_values(ascending=False).to_frame('count')"
   ]
  },
  {
   "cell_type": "code",
   "execution_count": null,
   "metadata": {},
   "outputs": [],
   "source": [
    "df_campaign.groupby('value_demand').campaign_id.count().sort_values(ascending=False).to_frame('count')"
   ]
  },
  {
   "cell_type": "code",
   "execution_count": null,
   "metadata": {},
   "outputs": [],
   "source": [
    "df_campaign.groupby('governance_demand').campaign_id.count().sort_values(ascending=False).to_frame('count')"
   ]
  },
  {
   "cell_type": "code",
   "execution_count": null,
   "metadata": {},
   "outputs": [],
   "source": [
    "df_campaign[[c for c in df_campaign if 'return' in c]].describe()"
   ]
  },
  {
   "cell_type": "markdown",
   "metadata": {},
   "source": [
    "# Tactics\n",
    "\n",
    "Keyed by `(campaign_id, activist_id, company_id, activist_campaign_tactic)`."
   ]
  },
  {
   "cell_type": "code",
   "execution_count": null,
   "metadata": {},
   "outputs": [],
   "source": [
    "df_tactic = (\n",
    "    df_clean\n",
    "    .groupby('campaign_id')\n",
    "    [\n",
    "        'activist_id',\n",
    "        'company_id',\n",
    "        'activist_campaign_tactic'\n",
    "    ]\n",
    "    .last()\n",
    "    .reset_index()\n",
    "    .assign(activist_campaign_tactic=lambda df: df.activist_campaign_tactic.fillna('No or Unknown'))\n",
    "    .assign(activist_campaign_tactic=lambda df: df.activist_campaign_tactic.str.split(', '))\n",
    "    .explode('activist_campaign_tactic')\n",
    "    .assign(activist_campaign_tactic_indicator=1)\n",
    ")"
   ]
  },
  {
   "cell_type": "code",
   "execution_count": null,
   "metadata": {},
   "outputs": [],
   "source": [
    "df_tactic.head()"
   ]
  },
  {
   "cell_type": "code",
   "execution_count": null,
   "metadata": {},
   "outputs": [],
   "source": [
    "df_tactic.groupby('activist_campaign_tactic').campaign_id.count().sort_values(ascending=False).to_frame('count')"
   ]
  },
  {
   "cell_type": "code",
   "execution_count": null,
   "metadata": {},
   "outputs": [],
   "source": [
    "df_tactics_indicators = (\n",
    "    pd.pivot_table(df_tactic_indicators, index=['campaign_id'], columns=['activist_campaign_tactic'], values='activist_campaign_tactic_indicator')\n",
    "    .rename(columns=clean_column_name)\n",
    "    .rename(columns=lambda c: 'used_' + c + '_tactic')\n",
    ")"
   ]
  },
  {
   "cell_type": "code",
   "execution_count": null,
   "metadata": {},
   "outputs": [],
   "source": [
    "df_tactics_indicators.head(10)"
   ]
  },
  {
   "cell_type": "markdown",
   "metadata": {},
   "source": [
    "# Activists\n",
    "\n",
    "Keyed by `(activist_id)`."
   ]
  },
  {
   "cell_type": "code",
   "execution_count": null,
   "metadata": {},
   "outputs": [],
   "source": [
    "df_clean.activist_id.nunique()"
   ]
  },
  {
   "cell_type": "code",
   "execution_count": null,
   "metadata": {},
   "outputs": [],
   "source": [
    "df_activist = (\n",
    "    df_clean\n",
    "    .groupby('activist_id')\n",
    "    ['activist_name', 'activist_group']\n",
    "    .last()\n",
    "    .reset_index()\n",
    ")\n",
    "\n",
    "df_activist.head(5)"
   ]
  },
  {
   "cell_type": "code",
   "execution_count": null,
   "metadata": {},
   "outputs": [],
   "source": [
    "(\n",
    "    pd.merge(\n",
    "        df_activist,\n",
    "        df_campaign.groupby('activist_id').campaign_id.count().to_frame('campaign_count'),\n",
    "        how='left',\n",
    "        on=['activist_id']\n",
    "    )\n",
    "    .sort_values(by='campaign_count', ascending=False)\n",
    "    .head(10)\n",
    ")"
   ]
  },
  {
   "cell_type": "markdown",
   "metadata": {},
   "source": [
    "# Targets\n",
    "\n",
    "Keyed by `(company_id)`."
   ]
  },
  {
   "cell_type": "code",
   "execution_count": null,
   "metadata": {},
   "outputs": [],
   "source": [
    "df_clean.company_id.nunique()"
   ]
  },
  {
   "cell_type": "code",
   "execution_count": null,
   "metadata": {},
   "outputs": [],
   "source": [
    "df_company = (\n",
    "    df_clean\n",
    "    .groupby('company_id')\n",
    "    [\n",
    "        'company_name',\n",
    "        'sector',\n",
    "        'current_entity_status',\n",
    "        'current_entity_detail'\n",
    "    ]\n",
    "    .last()\n",
    "    .reset_index()\n",
    ")"
   ]
  },
  {
   "cell_type": "code",
   "execution_count": null,
   "metadata": {},
   "outputs": [],
   "source": [
    "df_company.head(10)"
   ]
  }
 ],
 "metadata": {
  "kernelspec": {
   "display_name": "Python 3",
   "language": "python",
   "name": "python3"
  },
  "language_info": {
   "codemirror_mode": {
    "name": "ipython",
    "version": 3
   },
   "file_extension": ".py",
   "mimetype": "text/x-python",
   "name": "python",
   "nbconvert_exporter": "python",
   "pygments_lexer": "ipython3",
   "version": "3.7.3"
  }
 },
 "nbformat": 4,
 "nbformat_minor": 4
}
