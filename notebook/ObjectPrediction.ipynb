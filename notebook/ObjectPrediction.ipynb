{
 "cells": [
  {
   "cell_type": "code",
   "execution_count": 180,
   "metadata": {},
   "outputs": [],
   "source": [
    "import pandas as pd\n",
    "import numpy as np\n",
    "import matplotlib.pyplot as plt\n",
    "from sklearn.linear_model import LogisticRegression\n",
    "from sklearn.model_selection import train_test_split, cross_val_score, GridSearchCV\n",
    "from sklearn.preprocessing import OneHotEncoder, StandardScaler, MinMaxScaler\n",
    "from sklearn.compose import make_column_transformer\n",
    "from sklearn.pipeline import make_pipeline\n",
    "from sklearn.impute import SimpleImputer\n",
    "from sklearn.ensemble import RandomForestClassifier\n",
    "from sklearn.metrics import confusion_matrix"
   ]
  },
  {
   "cell_type": "code",
   "execution_count": 145,
   "metadata": {},
   "outputs": [],
   "source": [
    "data = pd.read_csv('clean_factset_campaign_data.csv')"
   ]
  },
  {
   "cell_type": "code",
   "execution_count": 146,
   "metadata": {},
   "outputs": [
    {
     "data": {
      "text/html": [
       "<div>\n",
       "<style scoped>\n",
       "    .dataframe tbody tr th:only-of-type {\n",
       "        vertical-align: middle;\n",
       "    }\n",
       "\n",
       "    .dataframe tbody tr th {\n",
       "        vertical-align: top;\n",
       "    }\n",
       "\n",
       "    .dataframe thead th {\n",
       "        text-align: right;\n",
       "    }\n",
       "</style>\n",
       "<table border=\"1\" class=\"dataframe\">\n",
       "  <thead>\n",
       "    <tr style=\"text-align: right;\">\n",
       "      <th></th>\n",
       "      <th>campaign_id</th>\n",
       "      <th>campaign_announcement_date</th>\n",
       "      <th>campaign_title</th>\n",
       "      <th>campaign_objective_primary</th>\n",
       "      <th>value_demand</th>\n",
       "      <th>governance_demand</th>\n",
       "      <th>activist_campaign_tactic</th>\n",
       "      <th>activist_campaign_results</th>\n",
       "      <th>total_number_of_board_seats</th>\n",
       "      <th>number_of_board_seats_sought</th>\n",
       "      <th>...</th>\n",
       "      <th>6_months_post_announcement_date</th>\n",
       "      <th>1_year_post_announcement_date</th>\n",
       "      <th>18_months_post_announcement_date</th>\n",
       "      <th>18_months_pre_date_total_return</th>\n",
       "      <th>1_year_pre_date_total_return</th>\n",
       "      <th>6_months_pre_date_total_return</th>\n",
       "      <th>90_days_pre_date_total_return</th>\n",
       "      <th>6_months_post_date_total_return</th>\n",
       "      <th>1_year_post_date_total_return</th>\n",
       "      <th>18_months_post_date_total_return</th>\n",
       "    </tr>\n",
       "  </thead>\n",
       "  <tbody>\n",
       "    <tr>\n",
       "      <td>0</td>\n",
       "      <td>0000054704C</td>\n",
       "      <td>2007-09-24</td>\n",
       "      <td>Catalytica Energy Systems, Inc. / AWM Investme...</td>\n",
       "      <td>Vote/Activism Against a Merger</td>\n",
       "      <td>Block Acquisition/Agitate for Lower Price (Sha...</td>\n",
       "      <td>NaN</td>\n",
       "      <td>Publicly Disclosed Letter to Board/Management</td>\n",
       "      <td>Campaign to vote against proposed merger with ...</td>\n",
       "      <td>0</td>\n",
       "      <td>0</td>\n",
       "      <td>...</td>\n",
       "      <td>2008-03-24</td>\n",
       "      <td>2008-09-24</td>\n",
       "      <td>2009-03-24</td>\n",
       "      <td>NaN</td>\n",
       "      <td>NaN</td>\n",
       "      <td>NaN</td>\n",
       "      <td>NaN</td>\n",
       "      <td>NaN</td>\n",
       "      <td>NaN</td>\n",
       "      <td>NaN</td>\n",
       "    </tr>\n",
       "    <tr>\n",
       "      <td>1</td>\n",
       "      <td>0000396364C</td>\n",
       "      <td>2008-01-22</td>\n",
       "      <td>Circuit City Stores, Inc. / Wattles Capital Ma...</td>\n",
       "      <td>Board Control</td>\n",
       "      <td>Review Strategic Alternatives</td>\n",
       "      <td>Remove Director(s)</td>\n",
       "      <td>Propose Binding Proposal, Publicly Disclosed L...</td>\n",
       "      <td>Proxy fight to remove and replace the board se...</td>\n",
       "      <td>12</td>\n",
       "      <td>5</td>\n",
       "      <td>...</td>\n",
       "      <td>2008-07-22</td>\n",
       "      <td>2009-01-22</td>\n",
       "      <td>2009-07-22</td>\n",
       "      <td>-0.007917</td>\n",
       "      <td>-0.007622</td>\n",
       "      <td>-0.006603</td>\n",
       "      <td>-0.004190</td>\n",
       "      <td>-0.004637</td>\n",
       "      <td>-0.009898</td>\n",
       "      <td>-0.009892</td>\n",
       "    </tr>\n",
       "    <tr>\n",
       "      <td>2</td>\n",
       "      <td>0000411278C</td>\n",
       "      <td>2012-05-29</td>\n",
       "      <td>Reading International Inc. / Capstone Equities...</td>\n",
       "      <td>Maximize Shareholder Value</td>\n",
       "      <td>Breakup Company, Divest Assets/Divisions</td>\n",
       "      <td>Other Governance Enhancements</td>\n",
       "      <td>Publicly Disclosed Letter to Board/Management</td>\n",
       "      <td>Capstone urged a breakup, saying that a sum-of...</td>\n",
       "      <td>0</td>\n",
       "      <td>0</td>\n",
       "      <td>...</td>\n",
       "      <td>2012-11-29</td>\n",
       "      <td>2013-05-29</td>\n",
       "      <td>2013-11-29</td>\n",
       "      <td>0.001575</td>\n",
       "      <td>0.002124</td>\n",
       "      <td>0.004033</td>\n",
       "      <td>0.002952</td>\n",
       "      <td>-0.000323</td>\n",
       "      <td>0.000459</td>\n",
       "      <td>0.002398</td>\n",
       "    </tr>\n",
       "    <tr>\n",
       "      <td>3</td>\n",
       "      <td>0000556550C</td>\n",
       "      <td>2008-03-24</td>\n",
       "      <td>Coinstar, Inc. / Shamrock Partners Activist Va...</td>\n",
       "      <td>Board Representation</td>\n",
       "      <td>NaN</td>\n",
       "      <td>Other Governance Enhancements</td>\n",
       "      <td>Nominate Slate of Directors, Letter to Stockho...</td>\n",
       "      <td>Proxy fight for 3 of 7 seats settled in exchan...</td>\n",
       "      <td>7</td>\n",
       "      <td>3</td>\n",
       "      <td>...</td>\n",
       "      <td>2008-09-24</td>\n",
       "      <td>2009-03-24</td>\n",
       "      <td>2009-09-24</td>\n",
       "      <td>0.000496</td>\n",
       "      <td>-0.000649</td>\n",
       "      <td>-0.001156</td>\n",
       "      <td>-0.000070</td>\n",
       "      <td>0.001723</td>\n",
       "      <td>0.000214</td>\n",
       "      <td>0.001033</td>\n",
       "    </tr>\n",
       "    <tr>\n",
       "      <td>4</td>\n",
       "      <td>0000719478C</td>\n",
       "      <td>2011-08-05</td>\n",
       "      <td>Arch Chemicals, Inc. / GAMCO Investors</td>\n",
       "      <td>13D Filer - No Publicly Disclosed Activism</td>\n",
       "      <td>NaN</td>\n",
       "      <td>NaN</td>\n",
       "      <td>NaN</td>\n",
       "      <td>13D Filer - No Publicly Disclosed Activism</td>\n",
       "      <td>0</td>\n",
       "      <td>0</td>\n",
       "      <td>...</td>\n",
       "      <td>2012-02-05</td>\n",
       "      <td>2012-08-05</td>\n",
       "      <td>2013-02-05</td>\n",
       "      <td>0.006649</td>\n",
       "      <td>0.003445</td>\n",
       "      <td>0.003305</td>\n",
       "      <td>0.003133</td>\n",
       "      <td>NaN</td>\n",
       "      <td>NaN</td>\n",
       "      <td>NaN</td>\n",
       "    </tr>\n",
       "  </tbody>\n",
       "</table>\n",
       "<p>5 rows × 47 columns</p>\n",
       "</div>"
      ],
      "text/plain": [
       "   campaign_id campaign_announcement_date  \\\n",
       "0  0000054704C                 2007-09-24   \n",
       "1  0000396364C                 2008-01-22   \n",
       "2  0000411278C                 2012-05-29   \n",
       "3  0000556550C                 2008-03-24   \n",
       "4  0000719478C                 2011-08-05   \n",
       "\n",
       "                                      campaign_title  \\\n",
       "0  Catalytica Energy Systems, Inc. / AWM Investme...   \n",
       "1  Circuit City Stores, Inc. / Wattles Capital Ma...   \n",
       "2  Reading International Inc. / Capstone Equities...   \n",
       "3  Coinstar, Inc. / Shamrock Partners Activist Va...   \n",
       "4             Arch Chemicals, Inc. / GAMCO Investors   \n",
       "\n",
       "                   campaign_objective_primary  \\\n",
       "0              Vote/Activism Against a Merger   \n",
       "1                               Board Control   \n",
       "2                  Maximize Shareholder Value   \n",
       "3                        Board Representation   \n",
       "4  13D Filer - No Publicly Disclosed Activism   \n",
       "\n",
       "                                        value_demand  \\\n",
       "0  Block Acquisition/Agitate for Lower Price (Sha...   \n",
       "1                      Review Strategic Alternatives   \n",
       "2           Breakup Company, Divest Assets/Divisions   \n",
       "3                                                NaN   \n",
       "4                                                NaN   \n",
       "\n",
       "               governance_demand  \\\n",
       "0                            NaN   \n",
       "1             Remove Director(s)   \n",
       "2  Other Governance Enhancements   \n",
       "3  Other Governance Enhancements   \n",
       "4                            NaN   \n",
       "\n",
       "                            activist_campaign_tactic  \\\n",
       "0      Publicly Disclosed Letter to Board/Management   \n",
       "1  Propose Binding Proposal, Publicly Disclosed L...   \n",
       "2      Publicly Disclosed Letter to Board/Management   \n",
       "3  Nominate Slate of Directors, Letter to Stockho...   \n",
       "4                                                NaN   \n",
       "\n",
       "                           activist_campaign_results  \\\n",
       "0  Campaign to vote against proposed merger with ...   \n",
       "1  Proxy fight to remove and replace the board se...   \n",
       "2  Capstone urged a breakup, saying that a sum-of...   \n",
       "3  Proxy fight for 3 of 7 seats settled in exchan...   \n",
       "4         13D Filer - No Publicly Disclosed Activism   \n",
       "\n",
       "   total_number_of_board_seats  number_of_board_seats_sought  ...  \\\n",
       "0                            0                             0  ...   \n",
       "1                           12                             5  ...   \n",
       "2                            0                             0  ...   \n",
       "3                            7                             3  ...   \n",
       "4                            0                             0  ...   \n",
       "\n",
       "   6_months_post_announcement_date 1_year_post_announcement_date  \\\n",
       "0                       2008-03-24                    2008-09-24   \n",
       "1                       2008-07-22                    2009-01-22   \n",
       "2                       2012-11-29                    2013-05-29   \n",
       "3                       2008-09-24                    2009-03-24   \n",
       "4                       2012-02-05                    2012-08-05   \n",
       "\n",
       "  18_months_post_announcement_date 18_months_pre_date_total_return  \\\n",
       "0                       2009-03-24                             NaN   \n",
       "1                       2009-07-22                       -0.007917   \n",
       "2                       2013-11-29                        0.001575   \n",
       "3                       2009-09-24                        0.000496   \n",
       "4                       2013-02-05                        0.006649   \n",
       "\n",
       "  1_year_pre_date_total_return 6_months_pre_date_total_return  \\\n",
       "0                          NaN                            NaN   \n",
       "1                    -0.007622                      -0.006603   \n",
       "2                     0.002124                       0.004033   \n",
       "3                    -0.000649                      -0.001156   \n",
       "4                     0.003445                       0.003305   \n",
       "\n",
       "  90_days_pre_date_total_return 6_months_post_date_total_return  \\\n",
       "0                           NaN                             NaN   \n",
       "1                     -0.004190                       -0.004637   \n",
       "2                      0.002952                       -0.000323   \n",
       "3                     -0.000070                        0.001723   \n",
       "4                      0.003133                             NaN   \n",
       "\n",
       "  1_year_post_date_total_return 18_months_post_date_total_return  \n",
       "0                           NaN                              NaN  \n",
       "1                     -0.009898                        -0.009892  \n",
       "2                      0.000459                         0.002398  \n",
       "3                      0.000214                         0.001033  \n",
       "4                           NaN                              NaN  \n",
       "\n",
       "[5 rows x 47 columns]"
      ]
     },
     "execution_count": 146,
     "metadata": {},
     "output_type": "execute_result"
    }
   ],
   "source": [
    "data.head()"
   ]
  },
  {
   "cell_type": "markdown",
   "metadata": {},
   "source": [
    "# 1. Data Processing"
   ]
  },
  {
   "cell_type": "markdown",
   "metadata": {},
   "source": [
    "## 1.1 Scale Return"
   ]
  },
  {
   "cell_type": "code",
   "execution_count": 174,
   "metadata": {},
   "outputs": [],
   "source": [
    "## Correction\n",
    "for i in data.columns[-7:]:\n",
    "    data[i] = data[i].apply(lambda x : 100 * x)"
   ]
  },
  {
   "cell_type": "markdown",
   "metadata": {},
   "source": [
    "## 1.2 X Variables"
   ]
  },
  {
   "cell_type": "code",
   "execution_count": 151,
   "metadata": {},
   "outputs": [],
   "source": [
    "## X Variables Category\n",
    "Target_Variables = ['price_at_announcement', 'ltm_eps_at_announcement', \n",
    "                    'earnings_yield_at_announcement', '18_months_pre_date_total_return', \n",
    "                   '1_year_pre_date_total_return', '6_months_pre_date_total_return',\n",
    "                   '90_days_pre_date_total_return', 'sector']\n",
    "Activist_Variables = ['activist_id', 'ownership_pecent_on_announcements']\n",
    "X_Variables = Target_Variables + Activist_Variables"
   ]
  },
  {
   "cell_type": "markdown",
   "metadata": {},
   "source": [
    "**Since we are predicting the campaign objective, we can only use variables that is finalized by the time activists approaching the target companies. So we remove variables like 'in_force_prior_to_announcement_poison_pill', 'adopted_in_response_to_campaign_poison_pill', 'activist_campaign_tactic' and Campaign related variables.**"
   ]
  },
  {
   "cell_type": "code",
   "execution_count": 152,
   "metadata": {},
   "outputs": [],
   "source": [
    "## X Variables Type\n",
    "Categorical_Variables = ['sector', 'activist_id']\n",
    "Continuous_Variables = [i for i in X_Variables if i not in Categorical_Variables]"
   ]
  },
  {
   "cell_type": "markdown",
   "metadata": {},
   "source": [
    "## 1.3 Y Variable"
   ]
  },
  {
   "cell_type": "code",
   "execution_count": 153,
   "metadata": {},
   "outputs": [
    {
     "data": {
      "text/plain": [
       "Board Representation                                        0.222652\n",
       "Maximize Shareholder Value                                  0.217114\n",
       "13D Filer - No Publicly Disclosed Activism                  0.131230\n",
       "Vote For a Stockholder Proposal                             0.105423\n",
       "Board Control                                               0.082541\n",
       "Vote/Activism Against a Merger                              0.058719\n",
       "Hostile/Unsolicited Acquisition                             0.058092\n",
       "Vote Against a Management Proposal                          0.037823\n",
       "Enhance Corporate Governance                                0.028210\n",
       "Public Short Position/Bear Raid                             0.018284\n",
       "Support Dissident Group in Proxy Fight                      0.013896\n",
       "Vote For a Management Proposal/Support Management           0.010762\n",
       "Remove Director(s), No Dissident Nominee to Fill Vacancy    0.010135\n",
       "Remove Officer(s)                                           0.005120\n",
       "Name: campaign_objective_primary, dtype: float64"
      ]
     },
     "execution_count": 153,
     "metadata": {},
     "output_type": "execute_result"
    }
   ],
   "source": [
    "data.campaign_objective_primary.value_counts() / len(data)"
   ]
  },
  {
   "cell_type": "code",
   "execution_count": 204,
   "metadata": {},
   "outputs": [
    {
     "data": {
      "text/plain": [
       "Board Seats                                   2921\n",
       "Maximize Shareholder Value                    2078\n",
       "13D Filer - No Publicly Disclosed Activism    1256\n",
       "Vote For a Stockholder Proposal               1009\n",
       "Name: campaign_objective_primary, dtype: int64"
      ]
     },
     "execution_count": 204,
     "metadata": {},
     "output_type": "execute_result"
    }
   ],
   "source": [
    "data_processed.campaign_objective_primary.value_counts()"
   ]
  },
  {
   "cell_type": "code",
   "execution_count": 211,
   "metadata": {},
   "outputs": [
    {
     "data": {
      "text/plain": [
       "['Board Seats',\n",
       " 'Maximize Shareholder Value',\n",
       " '13D Filer - No Publicly Disclosed Activism',\n",
       " 'Vote For a Stockholder Proposal',\n",
       " 'Vote/Activism Against a Merger',\n",
       " 'Hostile/Unsolicited Acquisition']"
      ]
     },
     "execution_count": 211,
     "metadata": {},
     "output_type": "execute_result"
    }
   ],
   "source": [
    "Campaign_Objective"
   ]
  },
  {
   "cell_type": "code",
   "execution_count": 212,
   "metadata": {},
   "outputs": [],
   "source": [
    "## Y Variable\n",
    "## Remove if the campaign objective accounts for less than 6%\n",
    "Campaign_Objectives = data.campaign_objective_primary.value_counts().index[:7]\n",
    "data_processed = data[data.campaign_objective_primary.isin(Campaign_Objectives)] ## data size decrease from 9571 to 7264\n",
    "data_processed = data_processed[X_Variables + ['campaign_objective_primary']]\n",
    "## Merge Board Representation & Board Control\n",
    "data_processed.campaign_objective_primary = data_processed.campaign_objective_primary.apply(\n",
    "    lambda x: x if x not in ['Board Representation', 'Board Control'] else 'Board Seats')\n",
    "Campaign_Objective = ['Board Seats'] + list(Campaign_Objectives)[1:4] + list(Campaign_Objectives)[5:]"
   ]
  },
  {
   "cell_type": "markdown",
   "metadata": {},
   "source": [
    "* **Campaign Objectives:**\n",
    "    - Board Representation                            \n",
    "    - Maximize Shareholder Value                    \n",
    "    - 13D Filer - No Publicly Disclosed Activism    \n",
    "    - Vote For a Stockholder Proposal              \n",
    "    - Board Control                              \n",
    "    - Vote/Activism Against a Merger              \n",
    "    - Hostile/Unsolicited Acquisition          "
   ]
  },
  {
   "cell_type": "code",
   "execution_count": 213,
   "metadata": {},
   "outputs": [
    {
     "data": {
      "text/html": [
       "<div>\n",
       "<style scoped>\n",
       "    .dataframe tbody tr th:only-of-type {\n",
       "        vertical-align: middle;\n",
       "    }\n",
       "\n",
       "    .dataframe tbody tr th {\n",
       "        vertical-align: top;\n",
       "    }\n",
       "\n",
       "    .dataframe thead th {\n",
       "        text-align: right;\n",
       "    }\n",
       "</style>\n",
       "<table border=\"1\" class=\"dataframe\">\n",
       "  <thead>\n",
       "    <tr style=\"text-align: right;\">\n",
       "      <th></th>\n",
       "      <th>price_at_announcement</th>\n",
       "      <th>ltm_eps_at_announcement</th>\n",
       "      <th>earnings_yield_at_announcement</th>\n",
       "      <th>18_months_pre_date_total_return</th>\n",
       "      <th>1_year_pre_date_total_return</th>\n",
       "      <th>6_months_pre_date_total_return</th>\n",
       "      <th>90_days_pre_date_total_return</th>\n",
       "      <th>sector</th>\n",
       "      <th>activist_id</th>\n",
       "      <th>ownership_pecent_on_announcements</th>\n",
       "      <th>campaign_objective_primary</th>\n",
       "    </tr>\n",
       "  </thead>\n",
       "  <tbody>\n",
       "    <tr>\n",
       "      <td>0</td>\n",
       "      <td>NaN</td>\n",
       "      <td>NaN</td>\n",
       "      <td>NaN</td>\n",
       "      <td>NaN</td>\n",
       "      <td>NaN</td>\n",
       "      <td>NaN</td>\n",
       "      <td>NaN</td>\n",
       "      <td>Producer Manufacturing</td>\n",
       "      <td>002HVP-E</td>\n",
       "      <td>0.2190</td>\n",
       "      <td>Vote/Activism Against a Merger</td>\n",
       "    </tr>\n",
       "    <tr>\n",
       "      <td>1</td>\n",
       "      <td>4.55</td>\n",
       "      <td>-2.02</td>\n",
       "      <td>-0.443956</td>\n",
       "      <td>-79.173910</td>\n",
       "      <td>-76.224130</td>\n",
       "      <td>-66.030815</td>\n",
       "      <td>-41.898735</td>\n",
       "      <td>Retail Trade</td>\n",
       "      <td>006SZN-E</td>\n",
       "      <td>0.0650</td>\n",
       "      <td>Board Seats</td>\n",
       "    </tr>\n",
       "    <tr>\n",
       "      <td>2</td>\n",
       "      <td>5.88</td>\n",
       "      <td>0.46</td>\n",
       "      <td>0.078231</td>\n",
       "      <td>15.748035</td>\n",
       "      <td>21.237123</td>\n",
       "      <td>40.334130</td>\n",
       "      <td>29.515420</td>\n",
       "      <td>Finance</td>\n",
       "      <td>00DFB7-E</td>\n",
       "      <td>NaN</td>\n",
       "      <td>Maximize Shareholder Value</td>\n",
       "    </tr>\n",
       "    <tr>\n",
       "      <td>3</td>\n",
       "      <td>28.55</td>\n",
       "      <td>-0.80</td>\n",
       "      <td>-0.028021</td>\n",
       "      <td>4.963231</td>\n",
       "      <td>-6.485426</td>\n",
       "      <td>-11.555141</td>\n",
       "      <td>-0.695658</td>\n",
       "      <td>Consumer Services</td>\n",
       "      <td>007SD0-E</td>\n",
       "      <td>0.1339</td>\n",
       "      <td>Board Seats</td>\n",
       "    </tr>\n",
       "    <tr>\n",
       "      <td>4</td>\n",
       "      <td>46.50</td>\n",
       "      <td>2.29</td>\n",
       "      <td>0.049247</td>\n",
       "      <td>66.492140</td>\n",
       "      <td>34.451400</td>\n",
       "      <td>33.049644</td>\n",
       "      <td>31.327332</td>\n",
       "      <td>Process Industries</td>\n",
       "      <td>000KVL-E</td>\n",
       "      <td>0.0522</td>\n",
       "      <td>13D Filer - No Publicly Disclosed Activism</td>\n",
       "    </tr>\n",
       "  </tbody>\n",
       "</table>\n",
       "</div>"
      ],
      "text/plain": [
       "   price_at_announcement  ltm_eps_at_announcement  \\\n",
       "0                    NaN                      NaN   \n",
       "1                   4.55                    -2.02   \n",
       "2                   5.88                     0.46   \n",
       "3                  28.55                    -0.80   \n",
       "4                  46.50                     2.29   \n",
       "\n",
       "   earnings_yield_at_announcement  18_months_pre_date_total_return  \\\n",
       "0                             NaN                              NaN   \n",
       "1                       -0.443956                       -79.173910   \n",
       "2                        0.078231                        15.748035   \n",
       "3                       -0.028021                         4.963231   \n",
       "4                        0.049247                        66.492140   \n",
       "\n",
       "   1_year_pre_date_total_return  6_months_pre_date_total_return  \\\n",
       "0                           NaN                             NaN   \n",
       "1                    -76.224130                      -66.030815   \n",
       "2                     21.237123                       40.334130   \n",
       "3                     -6.485426                      -11.555141   \n",
       "4                     34.451400                       33.049644   \n",
       "\n",
       "   90_days_pre_date_total_return                  sector activist_id  \\\n",
       "0                            NaN  Producer Manufacturing    002HVP-E   \n",
       "1                     -41.898735            Retail Trade    006SZN-E   \n",
       "2                      29.515420                 Finance    00DFB7-E   \n",
       "3                      -0.695658       Consumer Services    007SD0-E   \n",
       "4                      31.327332      Process Industries    000KVL-E   \n",
       "\n",
       "   ownership_pecent_on_announcements  \\\n",
       "0                             0.2190   \n",
       "1                             0.0650   \n",
       "2                                NaN   \n",
       "3                             0.1339   \n",
       "4                             0.0522   \n",
       "\n",
       "                   campaign_objective_primary  \n",
       "0              Vote/Activism Against a Merger  \n",
       "1                                 Board Seats  \n",
       "2                  Maximize Shareholder Value  \n",
       "3                                 Board Seats  \n",
       "4  13D Filer - No Publicly Disclosed Activism  "
      ]
     },
     "execution_count": 213,
     "metadata": {},
     "output_type": "execute_result"
    }
   ],
   "source": [
    "data_processed.head()"
   ]
  },
  {
   "cell_type": "markdown",
   "metadata": {},
   "source": [
    "## 1.4 Missing Value"
   ]
  },
  {
   "cell_type": "code",
   "execution_count": 214,
   "metadata": {},
   "outputs": [
    {
     "data": {
      "text/plain": [
       "price_at_announcement                 476\n",
       "ltm_eps_at_announcement               966\n",
       "earnings_yield_at_announcement       1106\n",
       "18_months_pre_date_total_return       827\n",
       "1_year_pre_date_total_return          687\n",
       "6_months_pre_date_total_return        609\n",
       "90_days_pre_date_total_return         586\n",
       "sector                                  7\n",
       "activist_id                            52\n",
       "ownership_pecent_on_announcements    1765\n",
       "campaign_objective_primary              0\n",
       "dtype: int64"
      ]
     },
     "execution_count": 214,
     "metadata": {},
     "output_type": "execute_result"
    }
   ],
   "source": [
    "## Missing Value\n",
    "data_processed.isnull().sum()"
   ]
  },
  {
   "cell_type": "markdown",
   "metadata": {},
   "source": [
    "## 1.5 Feature Engineering"
   ]
  },
  {
   "cell_type": "code",
   "execution_count": 215,
   "metadata": {},
   "outputs": [],
   "source": [
    "## only keep top 200 activists, and change the rest to 'others'\n",
    "top200_activists = data_processed.activist_id.value_counts().index[:200]\n",
    "data_processed.activist_id = data_processed.activist_id.apply(lambda x : x if x in top200_activists else 'others')"
   ]
  },
  {
   "cell_type": "code",
   "execution_count": 216,
   "metadata": {},
   "outputs": [
    {
     "data": {
      "text/plain": [
       "others      3914\n",
       "000KVL-E     557\n",
       "000D7G-E     119\n",
       "001TNS-E     112\n",
       "0B8HNJ-E     112\n",
       "            ... \n",
       "0FYLYX-E       6\n",
       "0044B3-E       6\n",
       "003KZ8-E       6\n",
       "001TLD-E       6\n",
       "0GTQZB-E       6\n",
       "Name: activist_id, Length: 201, dtype: int64"
      ]
     },
     "execution_count": 216,
     "metadata": {},
     "output_type": "execute_result"
    }
   ],
   "source": [
    "data_processed.activist_id.value_counts()"
   ]
  },
  {
   "cell_type": "markdown",
   "metadata": {},
   "source": [
    "# 2. Modeling"
   ]
  },
  {
   "cell_type": "markdown",
   "metadata": {},
   "source": [
    "## 2.1 Split Training Set & Test Set"
   ]
  },
  {
   "cell_type": "code",
   "execution_count": 217,
   "metadata": {},
   "outputs": [],
   "source": [
    "## split to training set and test set\n",
    "X = data_processed.drop(columns=['campaign_objective_primary'])\n",
    "y = data_processed['campaign_objective_primary']\n",
    "X_train, X_test, y_train, y_test = train_test_split(X, y, random_state=0, test_size=0.2)"
   ]
  },
  {
   "cell_type": "markdown",
   "metadata": {},
   "source": [
    "## 2.2 Data Process Pipeline"
   ]
  },
  {
   "cell_type": "code",
   "execution_count": 218,
   "metadata": {},
   "outputs": [],
   "source": [
    "## process pipeline\n",
    "process_scale = make_column_transformer(\n",
    "    (make_pipeline(SimpleImputer(strategy='median'), StandardScaler()), \n",
    "     Continuous_Variables),\n",
    "    (make_pipeline(SimpleImputer(strategy='most_frequent'), OneHotEncoder(handle_unknown='ignore')), \n",
    "     Categorical_Variables))"
   ]
  },
  {
   "cell_type": "markdown",
   "metadata": {},
   "source": [
    "## 2.3 Logistic Regression Classifier"
   ]
  },
  {
   "cell_type": "code",
   "execution_count": 233,
   "metadata": {},
   "outputs": [],
   "source": [
    "## Logistic Regression\n",
    "pipeline_lr = make_pipeline(process_scale, LogisticRegression(\n",
    "    max_iter=10000, verbose=0, multi_class='multinomial', solver='newton-cg'))\n",
    "## Grid Search\n",
    "param_grid_lr = {'logisticregression__C': np.logspace(-3, 3, 7)}\n",
    "grid_lr = GridSearchCV(pipeline_lr, param_grid_lr, cv=5, scoring='accuracy')"
   ]
  },
  {
   "cell_type": "code",
   "execution_count": 234,
   "metadata": {},
   "outputs": [
    {
     "data": {
      "text/plain": [
       "GridSearchCV(cv=5, error_score='raise-deprecating',\n",
       "             estimator=Pipeline(memory=None,\n",
       "                                steps=[('columntransformer',\n",
       "                                        ColumnTransformer(n_jobs=None,\n",
       "                                                          remainder='drop',\n",
       "                                                          sparse_threshold=0.3,\n",
       "                                                          transformer_weights=None,\n",
       "                                                          transformers=[('pipeline-1',\n",
       "                                                                         Pipeline(memory=None,\n",
       "                                                                                  steps=[('simpleimputer',\n",
       "                                                                                          SimpleImputer(add_indicator=False,\n",
       "                                                                                                        copy=True,\n",
       "                                                                                                        fill_value=None,\n",
       "                                                                                                        missing_values=...\n",
       "                                                           multi_class='multinomial',\n",
       "                                                           n_jobs=None,\n",
       "                                                           penalty='l2',\n",
       "                                                           random_state=None,\n",
       "                                                           solver='newton-cg',\n",
       "                                                           tol=0.0001,\n",
       "                                                           verbose=0,\n",
       "                                                           warm_start=False))],\n",
       "                                verbose=False),\n",
       "             iid='warn', n_jobs=None,\n",
       "             param_grid={'logisticregression__C': array([1.e-03, 1.e-02, 1.e-01, 1.e+00, 1.e+01, 1.e+02, 1.e+03])},\n",
       "             pre_dispatch='2*n_jobs', refit=True, return_train_score=False,\n",
       "             scoring='accuracy', verbose=0)"
      ]
     },
     "execution_count": 234,
     "metadata": {},
     "output_type": "execute_result"
    }
   ],
   "source": [
    "grid_lr.fit(X_train, y_train.values.reshape(-1,))"
   ]
  },
  {
   "cell_type": "code",
   "execution_count": 235,
   "metadata": {},
   "outputs": [
    {
     "data": {
      "text/plain": [
       "0.5378652355396542"
      ]
     },
     "execution_count": 235,
     "metadata": {},
     "output_type": "execute_result"
    }
   ],
   "source": [
    "## Test Score\n",
    "grid_lr.score(X_test, y_test.values.reshape(-1,))"
   ]
  },
  {
   "cell_type": "markdown",
   "metadata": {},
   "source": [
    "## 2.4 Random Forest Classifier"
   ]
  },
  {
   "cell_type": "code",
   "execution_count": 236,
   "metadata": {},
   "outputs": [],
   "source": [
    "## Random Forest\n",
    "pipeline_rf = make_pipeline(process_scale, \n",
    "                            RandomForestClassifier(random_state = 1))\n",
    "## Grid Search\n",
    "param_grid_rf = {'randomforestclassifier__n_estimators': [100, 300, 500],\n",
    "                'randomforestclassifier__max_features': ['auto', 'sqrt', 'log2']}\n",
    "grid_rf = GridSearchCV(pipeline_rf, param_grid_rf, cv=3, scoring='accuracy')"
   ]
  },
  {
   "cell_type": "code",
   "execution_count": 237,
   "metadata": {},
   "outputs": [
    {
     "data": {
      "text/plain": [
       "GridSearchCV(cv=3, error_score='raise-deprecating',\n",
       "             estimator=Pipeline(memory=None,\n",
       "                                steps=[('columntransformer',\n",
       "                                        ColumnTransformer(n_jobs=None,\n",
       "                                                          remainder='drop',\n",
       "                                                          sparse_threshold=0.3,\n",
       "                                                          transformer_weights=None,\n",
       "                                                          transformers=[('pipeline-1',\n",
       "                                                                         Pipeline(memory=None,\n",
       "                                                                                  steps=[('simpleimputer',\n",
       "                                                                                          SimpleImputer(add_indicator=False,\n",
       "                                                                                                        copy=True,\n",
       "                                                                                                        fill_value=None,\n",
       "                                                                                                        missing_values=...\n",
       "                                                               min_weight_fraction_leaf=0.0,\n",
       "                                                               n_estimators='warn',\n",
       "                                                               n_jobs=None,\n",
       "                                                               oob_score=False,\n",
       "                                                               random_state=1,\n",
       "                                                               verbose=0,\n",
       "                                                               warm_start=False))],\n",
       "                                verbose=False),\n",
       "             iid='warn', n_jobs=None,\n",
       "             param_grid={'randomforestclassifier__max_features': ['auto',\n",
       "                                                                  'sqrt',\n",
       "                                                                  'log2'],\n",
       "                         'randomforestclassifier__n_estimators': [100, 300,\n",
       "                                                                  500]},\n",
       "             pre_dispatch='2*n_jobs', refit=True, return_train_score=False,\n",
       "             scoring='accuracy', verbose=0)"
      ]
     },
     "execution_count": 237,
     "metadata": {},
     "output_type": "execute_result"
    }
   ],
   "source": [
    "grid_rf.fit(X_train, y_train.values.reshape(-1,))"
   ]
  },
  {
   "cell_type": "code",
   "execution_count": 238,
   "metadata": {},
   "outputs": [
    {
     "data": {
      "text/plain": [
       "0.5533691115086464"
      ]
     },
     "execution_count": 238,
     "metadata": {},
     "output_type": "execute_result"
    }
   ],
   "source": [
    "grid_rf.score(X_test, y_test.values.reshape(-1,))"
   ]
  },
  {
   "cell_type": "code",
   "execution_count": 241,
   "metadata": {},
   "outputs": [
    {
     "data": {
      "text/plain": [
       "['Board Seats',\n",
       " 'Maximize Shareholder Value',\n",
       " '13D Filer - No Publicly Disclosed Activism',\n",
       " 'Vote For a Stockholder Proposal',\n",
       " 'Vote/Activism Against a Merger',\n",
       " 'Hostile/Unsolicited Acquisition']"
      ]
     },
     "execution_count": 241,
     "metadata": {},
     "output_type": "execute_result"
    }
   ],
   "source": [
    "Campaign_Objective"
   ]
  },
  {
   "cell_type": "code",
   "execution_count": 242,
   "metadata": {},
   "outputs": [
    {
     "data": {
      "text/plain": [
       "array([[447,  99,  22,  11,   5,  16],\n",
       "       [204, 149,  25,  15,   6,   4],\n",
       "       [ 53,  22, 183,   1,   2,   0],\n",
       "       [ 49,  17,   5, 124,   0,   5],\n",
       "       [ 58,  21,   8,   4,  12,   4],\n",
       "       [ 73,  13,   0,   4,   3,  13]])"
      ]
     },
     "execution_count": 242,
     "metadata": {},
     "output_type": "execute_result"
    }
   ],
   "source": [
    "confusion_matrix(y_test.values.reshape(-1,), grid_rf.predict(X_test), labels=Campaign_Objective)"
   ]
  },
  {
   "cell_type": "markdown",
   "metadata": {},
   "source": [
    "**55% accuracy for 6-class classification. **"
   ]
  },
  {
   "cell_type": "markdown",
   "metadata": {},
   "source": [
    "# 3. Next Step\n",
    "* **X Variables:**            \n",
    "    - Map avtivist_id to its aum & measure of past success  \n",
    "    - Use daily based stock value \n",
    "    - Take market performance into consideration                      \n",
    "    - Extra Data Source\n",
    "* **Y Variable:**   \n",
    "    - Better way to summarize campaign objectives since the difference between some objectives are ambiguous \n",
    "    - Imbalanced data\n",
    "* **Feature Engineering:**\n",
    "    - Transformation(polinomial/log/box-cox)                         \n",
    "    - Dimension Reduction \n",
    "* **Modeling:**\n",
    "    - PGM and other state-of-the-art models"
   ]
  },
  {
   "cell_type": "code",
   "execution_count": null,
   "metadata": {},
   "outputs": [],
   "source": []
  }
 ],
 "metadata": {
  "kernelspec": {
   "display_name": "Python 3",
   "language": "python",
   "name": "python3"
  },
  "language_info": {
   "codemirror_mode": {
    "name": "ipython",
    "version": 3
   },
   "file_extension": ".py",
   "mimetype": "text/x-python",
   "name": "python",
   "nbconvert_exporter": "python",
   "pygments_lexer": "ipython3",
   "version": "3.7.2"
  }
 },
 "nbformat": 4,
 "nbformat_minor": 2
}
