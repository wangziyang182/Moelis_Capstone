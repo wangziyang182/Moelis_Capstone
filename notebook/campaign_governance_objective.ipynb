{
 "cells": [
  {
   "cell_type": "code",
   "execution_count": 2,
   "metadata": {},
   "outputs": [],
   "source": [
    "import pandas as pd\n",
    "import numpy as np\n",
    "import matplotlib.pyplot as plt\n",
    "from sklearn.linear_model import LogisticRegression\n",
    "from sklearn.model_selection import train_test_split, cross_val_score, GridSearchCV\n",
    "from sklearn.preprocessing import OneHotEncoder, StandardScaler, MinMaxScaler\n",
    "from sklearn.compose import make_column_transformer\n",
    "from sklearn.pipeline import make_pipeline\n",
    "from sklearn.impute import SimpleImputer\n",
    "from sklearn.ensemble import RandomForestClassifier\n",
    "from sklearn.metrics import confusion_matrix\n",
    "from imblearn.over_sampling import SMOTENC\n",
    "from sklearn.ensemble import RandomForestClassifier, VotingClassifier"
   ]
  },
  {
   "cell_type": "markdown",
   "metadata": {},
   "source": [
    "## Part 1 : Reading Data"
   ]
  },
  {
   "cell_type": "code",
   "execution_count": 3,
   "metadata": {},
   "outputs": [],
   "source": [
    "data = pd.read_csv('new_data.csv')"
   ]
  },
  {
   "cell_type": "code",
   "execution_count": 4,
   "metadata": {},
   "outputs": [
    {
     "data": {
      "text/plain": [
       "Index(['campaign_id', 'campaign_announcement_date', 'campaign_title',\n",
       "       'campaign_objective_primary', 'value_demand', 'governance_demand',\n",
       "       'activist_campaign_tactic', 'total_number_of_board_seats',\n",
       "       'number_of_board_seats_sought', 'short_or_majority_or_full_slate',\n",
       "       ...\n",
       "       'post_12m_residual_return', 'post_18m_residual_return',\n",
       "       'cumulative_6m_residual_return', 'cumulative_12m_residual_return',\n",
       "       'cumulative_18m_residual_return', 'lagged_campaign_announcement_date',\n",
       "       'past_return_successes', 'board_seats_percentage_sought',\n",
       "       'board_seat_percentage_gained', 'board_seat_result_group'],\n",
       "      dtype='object', length=119)"
      ]
     },
     "execution_count": 4,
     "metadata": {},
     "output_type": "execute_result"
    }
   ],
   "source": [
    "data.columns"
   ]
  },
  {
   "cell_type": "code",
   "execution_count": 5,
   "metadata": {},
   "outputs": [
    {
     "data": {
      "text/plain": [
       "119"
      ]
     },
     "execution_count": 5,
     "metadata": {},
     "output_type": "execute_result"
    }
   ],
   "source": [
    "len(data.columns)"
   ]
  },
  {
   "cell_type": "markdown",
   "metadata": {},
   "source": [
    "## Part 2 : Data Cleaning"
   ]
  },
  {
   "cell_type": "code",
   "execution_count": 6,
   "metadata": {},
   "outputs": [],
   "source": [
    "for i in data.columns[-7:]:\n",
    "    data[i] = data[i].apply(lambda x : 100 * x)"
   ]
  },
  {
   "cell_type": "code",
   "execution_count": 7,
   "metadata": {},
   "outputs": [],
   "source": [
    "X_Variables = ['price_at_announcement', 'ltm_eps_at_announcement', \n",
    "                    'earnings_yield_at_announcement', 'pre_18m_stock_price', \n",
    "                    'pre_18m_price_to_earnings', 'pre_12m_price_to_earnings', 'pre_6m_price_to_earnings',\n",
    "                    'pre_3m_price_to_earnings', 'pre_18m_dividends', 'pre_12m_dividends', 'pre_6m_dividends',\n",
    "                    'pre_3m_dividends', 'pre_18m_total_return', 'pre_12m_total_return',\n",
    "                    'pre_6m_total_return', 'pre_3m_total_return', 'sector',\n",
    "                    'pre_6m_residual_return', 'pre_12m_residual_return', 'pre_18m_residual_return','past_return_successes']\n",
    "Categorical_Variables = ['sector']\n",
    "Continuous_Variables = [i for i in X_Variables if i not in Categorical_Variables]"
   ]
  },
  {
   "cell_type": "code",
   "execution_count": 8,
   "metadata": {},
   "outputs": [],
   "source": [
    "# X_Variables =['price_at_announcement', 'ltm_eps_at_announcement', \n",
    "#                     'earnings_yield_at_announcement', \n",
    "#                     'pre_18m_stock_price', 'pre_12m_stock_price', 'pre_6m_stock_price','pre_3m_stock_price',\n",
    "#                     'pre_18m_price_to_earnings', 'pre_12m_price_to_earnings', 'pre_6m_price_to_earnings',\n",
    "#                     'pre_3m_price_to_earnings', 'pre_18m_dividends', 'pre_12m_dividends', 'pre_6m_dividends',\n",
    "#                     'pre_3m_dividends', 'pre_18m_total_return', 'pre_12m_total_return',\n",
    "#                     'pre_6m_total_return', 'pre_3m_total_return', 'sector',\n",
    "#                     'pre_6m_residual_return', 'pre_12m_residual_return', 'pre_18m_residual_return',\n",
    "#                    'pre_18m_price_return', 'pre_12m_price_return', 'pre_6m_price_return', 'pre_3m_price_return',\n",
    "#                    'poison_pill_in_force_prior_to_announcement']"
   ]
  },
  {
   "cell_type": "code",
   "execution_count": 9,
   "metadata": {},
   "outputs": [
    {
     "data": {
      "text/plain": [
       "['price_at_announcement',\n",
       " 'ltm_eps_at_announcement',\n",
       " 'earnings_yield_at_announcement',\n",
       " 'pre_18m_stock_price',\n",
       " 'pre_18m_price_to_earnings',\n",
       " 'pre_12m_price_to_earnings',\n",
       " 'pre_6m_price_to_earnings',\n",
       " 'pre_3m_price_to_earnings',\n",
       " 'pre_18m_dividends',\n",
       " 'pre_12m_dividends',\n",
       " 'pre_6m_dividends',\n",
       " 'pre_3m_dividends',\n",
       " 'pre_18m_total_return',\n",
       " 'pre_12m_total_return',\n",
       " 'pre_6m_total_return',\n",
       " 'pre_3m_total_return',\n",
       " 'pre_6m_residual_return',\n",
       " 'pre_12m_residual_return',\n",
       " 'pre_18m_residual_return',\n",
       " 'past_return_successes']"
      ]
     },
     "execution_count": 9,
     "metadata": {},
     "output_type": "execute_result"
    }
   ],
   "source": [
    "Categorical_Variables\n",
    "Continuous_Variables"
   ]
  },
  {
   "cell_type": "code",
   "execution_count": 10,
   "metadata": {},
   "outputs": [
    {
     "data": {
      "text/plain": [
       "list"
      ]
     },
     "execution_count": 10,
     "metadata": {},
     "output_type": "execute_result"
    }
   ],
   "source": [
    "y_Varaibles = [\"governance_demand\"]\n",
    "type(y_Varaibles)"
   ]
  },
  {
   "cell_type": "code",
   "execution_count": 11,
   "metadata": {},
   "outputs": [
    {
     "data": {
      "text/plain": [
       "['Board Seats (activist group)',\n",
       " 'Other Governance Enhancements',\n",
       " 'Compensation Related Enhancements',\n",
       " 'Remove Director(s)',\n",
       " 'Social/Environmental/Political Issues',\n",
       " 'Remove Takeover Defenses',\n",
       " 'Add Independent Directors',\n",
       " 'Remove Officer(s)']"
      ]
     },
     "execution_count": 11,
     "metadata": {},
     "output_type": "execute_result"
    }
   ],
   "source": [
    "governance_demand = ['Board Seats (activist group)','Other Governance Enhancements','Compensation Related Enhancements',\n",
    "                    \"Remove Director(s)\",\"Social/Environmental/Political Issues\",\"Remove Takeover Defenses\",\"Add Independent Directors\",\n",
    "                     \"Remove Officer(s)\"\n",
    "                    ]\n",
    "governance_demand"
   ]
  },
  {
   "cell_type": "code",
   "execution_count": 12,
   "metadata": {},
   "outputs": [],
   "source": [
    "data.governance_demand = data.governance_demand.apply(lambda x : x if x in governance_demand else 'others')"
   ]
  },
  {
   "cell_type": "code",
   "execution_count": 13,
   "metadata": {},
   "outputs": [
    {
     "data": {
      "text/plain": [
       "others                                   0.514471\n",
       "Board Seats (activist group)             0.187128\n",
       "Other Governance Enhancements            0.085049\n",
       "Compensation Related Enhancements        0.069167\n",
       "Remove Director(s)                       0.039599\n",
       "Social/Environmental/Political Issues    0.037196\n",
       "Remove Takeover Defenses                 0.031031\n",
       "Add Independent Directors                0.028315\n",
       "Remove Officer(s)                        0.008045\n",
       "Name: governance_demand, dtype: float64"
      ]
     },
     "execution_count": 13,
     "metadata": {},
     "output_type": "execute_result"
    }
   ],
   "source": [
    "data.governance_demand.value_counts() / len(data)"
   ]
  },
  {
   "cell_type": "code",
   "execution_count": 14,
   "metadata": {},
   "outputs": [],
   "source": [
    "gover_demand_dict = {\n",
    "    \"Remove Officer(s)\" : \"Officer_demand\",\n",
    "    \"Add Independent Directors\" : \"Officer_demand\",\n",
    "    \"Remove Director(s)\" : \"Officer_demand\",\n",
    "    \"Other Governance Enhancements\" : \"operations\",\n",
    "    \"Compensation Related Enhancements\" : \"operations\",\n",
    "    'Social/Environmental/Political Issues': \"operations\",\n",
    "    \"Remove Takeover Defenses\" : \"operations\",\n",
    "    'Board Seats (activist group)' : \"Board\",\n",
    "    \"others\" : \"others\"\n",
    "}"
   ]
  },
  {
   "cell_type": "code",
   "execution_count": 15,
   "metadata": {},
   "outputs": [],
   "source": [
    "data[\"governance_demand_group\"] = data.governance_demand.apply(lambda x : gover_demand_dict[x])"
   ]
  },
  {
   "cell_type": "code",
   "execution_count": 16,
   "metadata": {},
   "outputs": [
    {
     "data": {
      "text/plain": [
       "others            0.514471\n",
       "operations        0.222443\n",
       "Board             0.187128\n",
       "Officer_demand    0.075959\n",
       "Name: governance_demand_group, dtype: float64"
      ]
     },
     "execution_count": 16,
     "metadata": {},
     "output_type": "execute_result"
    }
   ],
   "source": [
    "data.governance_demand_group.value_counts()/len(data)"
   ]
  },
  {
   "cell_type": "code",
   "execution_count": 17,
   "metadata": {},
   "outputs": [],
   "source": [
    "data2 = data[data['governance_demand_group'] != 'others']"
   ]
  },
  {
   "cell_type": "code",
   "execution_count": 18,
   "metadata": {},
   "outputs": [],
   "source": [
    "process_not_scale = make_column_transformer(\n",
    "    (make_pipeline(SimpleImputer(strategy='median')), \n",
    "     Continuous_Variables),\n",
    "    (make_pipeline(SimpleImputer(strategy='most_frequent'), OneHotEncoder(handle_unknown='ignore')), \n",
    "     Categorical_Variables))"
   ]
  },
  {
   "cell_type": "code",
   "execution_count": 19,
   "metadata": {},
   "outputs": [],
   "source": [
    "process_scale = make_column_transformer(\n",
    "    (make_pipeline(SimpleImputer(strategy='median'),StandardScaler()), \n",
    "     Continuous_Variables),\n",
    "    (make_pipeline(SimpleImputer(strategy='most_frequent'), OneHotEncoder(handle_unknown='ignore')), \n",
    "     Categorical_Variables))"
   ]
  },
  {
   "cell_type": "code",
   "execution_count": 20,
   "metadata": {},
   "outputs": [],
   "source": [
    "data1 = data[data['governance_demand'] != 'others']"
   ]
  },
  {
   "cell_type": "code",
   "execution_count": 21,
   "metadata": {},
   "outputs": [],
   "source": [
    "X = data.drop(columns=['governance_demand'])\n",
    "y = data['governance_demand']\n",
    "\n",
    "X1 = data1.drop(columns=['governance_demand'])\n",
    "y1 = data1['governance_demand']\n",
    "\n",
    "X2 = data2.drop(columns=['governance_demand_group'])\n",
    "y2 = data2['governance_demand_group']"
   ]
  },
  {
   "cell_type": "code",
   "execution_count": 22,
   "metadata": {},
   "outputs": [],
   "source": [
    "ys = pd.DataFrame(y,columns=['governance_demand'])\n",
    "ys1 = pd.DataFrame(y1,columns=['governance_demand'])\n",
    "ys2 = pd.DataFrame(y2,columns=['governance_demand_group'])"
   ]
  },
  {
   "cell_type": "code",
   "execution_count": 23,
   "metadata": {},
   "outputs": [],
   "source": [
    "X_train, X_test, y_train, y_test = train_test_split(X, ys, random_state=0, test_size=0.2)\n",
    "#y_train.value_counts()\n",
    "\n",
    "X_train1, X_test1, y_train1, y_test1 = train_test_split(X1, ys1, random_state=0, test_size=0.2)\n",
    "#y_train.value_counts()\n",
    "\n",
    "X_train2, X_test2, y_train2, y_test2 = train_test_split(X2, ys2, random_state=0, test_size=0.2)"
   ]
  },
  {
   "cell_type": "markdown",
   "metadata": {},
   "source": [
    "## Part 3 : Model Part"
   ]
  },
  {
   "cell_type": "markdown",
   "metadata": {},
   "source": [
    "### Logistic Regression"
   ]
  },
  {
   "cell_type": "code",
   "execution_count": 22,
   "metadata": {},
   "outputs": [],
   "source": [
    "def produce_confusion_matrix(x_test,y_test,model):\n",
    "    pred = model.predict(x_test)\n",
    "    matrix = confusion_matrix(y_test, pred, labels=y_test['governance_demand'].unique())\n",
    "    precision = [matrix[i,i] / sum(matrix[:,i]) for i in range(matrix.shape[1])]\n",
    "    recall = [matrix[i,i] / sum(matrix[i,:]) for i in range(matrix.shape[1])]\n",
    "    d1 = pd.DataFrame(precision, columns=['Precision'], index = y_test['governance_demand'].unique())\n",
    "    d2 = pd.DataFrame(recall, columns=['Recall'], index = y_test['governance_demand'].unique())\n",
    "    precision_recall = pd.concat([d1,d2], axis=1)\n",
    "    return matrix, precision_recall"
   ]
  },
  {
   "cell_type": "code",
   "execution_count": 29,
   "metadata": {},
   "outputs": [
    {
     "data": {
      "text/plain": [
       "GridSearchCV(cv=5, error_score='raise-deprecating',\n",
       "             estimator=Pipeline(memory=None,\n",
       "                                steps=[('columntransformer',\n",
       "                                        ColumnTransformer(n_jobs=None,\n",
       "                                                          remainder='drop',\n",
       "                                                          sparse_threshold=0.3,\n",
       "                                                          transformer_weights=None,\n",
       "                                                          transformers=[('pipeline-1',\n",
       "                                                                         Pipeline(memory=None,\n",
       "                                                                                  steps=[('simpleimputer',\n",
       "                                                                                          SimpleImputer(add_indicator=False,\n",
       "                                                                                                        copy=True,\n",
       "                                                                                                        fill_value=None,\n",
       "                                                                                                        missing_values=...\n",
       "                                                           multi_class='multinomial',\n",
       "                                                           n_jobs=None,\n",
       "                                                           penalty='l2',\n",
       "                                                           random_state=None,\n",
       "                                                           solver='newton-cg',\n",
       "                                                           tol=0.0001,\n",
       "                                                           verbose=0,\n",
       "                                                           warm_start=False))],\n",
       "                                verbose=False),\n",
       "             iid='warn', n_jobs=None,\n",
       "             param_grid={'logisticregression__C': array([1.e-03, 1.e-02, 1.e-01, 1.e+00, 1.e+01, 1.e+02, 1.e+03])},\n",
       "             pre_dispatch='2*n_jobs', refit=True, return_train_score=False,\n",
       "             scoring='accuracy', verbose=0)"
      ]
     },
     "execution_count": 29,
     "metadata": {},
     "output_type": "execute_result"
    }
   ],
   "source": [
    "# Logistic Regression\n",
    "pipeline_lr = make_pipeline(process_scale, LogisticRegression(\n",
    "    max_iter=10000, verbose=0, multi_class='multinomial', solver='newton-cg'))\n",
    "## Grid Search\n",
    "param_grid_lr = {'logisticregression__C': np.logspace(-3, 3, 7)}\n",
    "grid_lr = GridSearchCV(pipeline_lr, param_grid_lr, cv=5, scoring='accuracy')\n",
    "#X_train\n",
    "#y_train\n",
    "grid_lr.fit(X_train, y_train.values.reshape(-1,))"
   ]
  },
  {
   "cell_type": "code",
   "execution_count": 31,
   "metadata": {},
   "outputs": [
    {
     "name": "stdout",
     "output_type": "stream",
     "text": [
      "The best parameter for Logistic is {'logisticregression__C': 0.1}\n",
      "Training accuracy for Logistic Regression is 0.51998\n",
      "Testing accuracy for Logistic Regression is 0.53055\n"
     ]
    }
   ],
   "source": [
    "grid_lr.score(X_test, y_test)\n",
    "print(\"The best parameter for Logistic is {}\".format(grid_lr.best_params_))\n",
    "print(\"Training accuracy for Logistic Regression is {}\".format(round(grid_lr.score(X_train, y_train),5)))\n",
    "print(\"Testing accuracy for Logistic Regression is {}\".format(round(grid_lr.score(X_test, y_test),5)))"
   ]
  },
  {
   "cell_type": "code",
   "execution_count": 32,
   "metadata": {},
   "outputs": [],
   "source": [
    "# index = y_test['governance_demand'].unique()"
   ]
  },
  {
   "cell_type": "code",
   "execution_count": 33,
   "metadata": {},
   "outputs": [
    {
     "name": "stderr",
     "output_type": "stream",
     "text": [
      "/Users/jiezheng/anaconda3/lib/python3.7/site-packages/ipykernel_launcher.py:4: RuntimeWarning: invalid value encountered in long_scalars\n",
      "  after removing the cwd from sys.path.\n"
     ]
    },
    {
     "data": {
      "text/plain": [
       "array([[  0, 334,   0,   0,   2,   0,   0,   0,   2],\n",
       "       [  1, 995,   0,   0,   3,   0,   0,   0,   1],\n",
       "       [  0,  15,   0,   0,   0,   0,   0,   0,   0],\n",
       "       [  0, 137,   0,   0,   4,   0,   0,   0,   1],\n",
       "       [  0,  55,   0,   0,  19,   0,   0,   0,   0],\n",
       "       [  0,  51,   0,   0,   0,   0,   0,   0,   0],\n",
       "       [  0, 155,   0,   0,   3,   0,   0,   0,   0],\n",
       "       [  0,  61,   0,   0,   0,   0,   0,   0,   0],\n",
       "       [  0,  74,   0,   0,   0,   0,   0,   0,   2]])"
      ]
     },
     "execution_count": 33,
     "metadata": {},
     "output_type": "execute_result"
    }
   ],
   "source": [
    "conf, pre_recall = produce_confusion_matrix(X_test, y_test, grid_lr) \n",
    "conf"
   ]
  },
  {
   "cell_type": "code",
   "execution_count": 34,
   "metadata": {},
   "outputs": [
    {
     "data": {
      "text/html": [
       "<div>\n",
       "<style scoped>\n",
       "    .dataframe tbody tr th:only-of-type {\n",
       "        vertical-align: middle;\n",
       "    }\n",
       "\n",
       "    .dataframe tbody tr th {\n",
       "        vertical-align: top;\n",
       "    }\n",
       "\n",
       "    .dataframe thead th {\n",
       "        text-align: right;\n",
       "    }\n",
       "</style>\n",
       "<table border=\"1\" class=\"dataframe\">\n",
       "  <thead>\n",
       "    <tr style=\"text-align: right;\">\n",
       "      <th></th>\n",
       "      <th>Precision</th>\n",
       "      <th>Recall</th>\n",
       "    </tr>\n",
       "  </thead>\n",
       "  <tbody>\n",
       "    <tr>\n",
       "      <th>Board Seats (activist group)</th>\n",
       "      <td>0.000000</td>\n",
       "      <td>0.000000</td>\n",
       "    </tr>\n",
       "    <tr>\n",
       "      <th>others</th>\n",
       "      <td>0.530101</td>\n",
       "      <td>0.995000</td>\n",
       "    </tr>\n",
       "    <tr>\n",
       "      <th>Remove Officer(s)</th>\n",
       "      <td>NaN</td>\n",
       "      <td>0.000000</td>\n",
       "    </tr>\n",
       "    <tr>\n",
       "      <th>Compensation Related Enhancements</th>\n",
       "      <td>NaN</td>\n",
       "      <td>0.000000</td>\n",
       "    </tr>\n",
       "    <tr>\n",
       "      <th>Social/Environmental/Political Issues</th>\n",
       "      <td>0.612903</td>\n",
       "      <td>0.256757</td>\n",
       "    </tr>\n",
       "    <tr>\n",
       "      <th>Add Independent Directors</th>\n",
       "      <td>NaN</td>\n",
       "      <td>0.000000</td>\n",
       "    </tr>\n",
       "    <tr>\n",
       "      <th>Other Governance Enhancements</th>\n",
       "      <td>NaN</td>\n",
       "      <td>0.000000</td>\n",
       "    </tr>\n",
       "    <tr>\n",
       "      <th>Remove Takeover Defenses</th>\n",
       "      <td>NaN</td>\n",
       "      <td>0.000000</td>\n",
       "    </tr>\n",
       "    <tr>\n",
       "      <th>Remove Director(s)</th>\n",
       "      <td>0.333333</td>\n",
       "      <td>0.026316</td>\n",
       "    </tr>\n",
       "  </tbody>\n",
       "</table>\n",
       "</div>"
      ],
      "text/plain": [
       "                                       Precision    Recall\n",
       "Board Seats (activist group)            0.000000  0.000000\n",
       "others                                  0.530101  0.995000\n",
       "Remove Officer(s)                            NaN  0.000000\n",
       "Compensation Related Enhancements            NaN  0.000000\n",
       "Social/Environmental/Political Issues   0.612903  0.256757\n",
       "Add Independent Directors                    NaN  0.000000\n",
       "Other Governance Enhancements                NaN  0.000000\n",
       "Remove Takeover Defenses                     NaN  0.000000\n",
       "Remove Director(s)                      0.333333  0.026316"
      ]
     },
     "execution_count": 34,
     "metadata": {},
     "output_type": "execute_result"
    }
   ],
   "source": [
    "pre_recall"
   ]
  },
  {
   "cell_type": "markdown",
   "metadata": {},
   "source": [
    "### Eight types classfier (lg)"
   ]
  },
  {
   "cell_type": "code",
   "execution_count": 35,
   "metadata": {},
   "outputs": [
    {
     "data": {
      "text/plain": [
       "GridSearchCV(cv=5, error_score='raise-deprecating',\n",
       "             estimator=Pipeline(memory=None,\n",
       "                                steps=[('columntransformer',\n",
       "                                        ColumnTransformer(n_jobs=None,\n",
       "                                                          remainder='drop',\n",
       "                                                          sparse_threshold=0.3,\n",
       "                                                          transformer_weights=None,\n",
       "                                                          transformers=[('pipeline-1',\n",
       "                                                                         Pipeline(memory=None,\n",
       "                                                                                  steps=[('simpleimputer',\n",
       "                                                                                          SimpleImputer(add_indicator=False,\n",
       "                                                                                                        copy=True,\n",
       "                                                                                                        fill_value=None,\n",
       "                                                                                                        missing_values=...\n",
       "                                                           multi_class='multinomial',\n",
       "                                                           n_jobs=None,\n",
       "                                                           penalty='l2',\n",
       "                                                           random_state=None,\n",
       "                                                           solver='newton-cg',\n",
       "                                                           tol=0.0001,\n",
       "                                                           verbose=0,\n",
       "                                                           warm_start=False))],\n",
       "                                verbose=False),\n",
       "             iid='warn', n_jobs=None,\n",
       "             param_grid={'logisticregression__C': array([1.e-03, 1.e-02, 1.e-01, 1.e+00, 1.e+01, 1.e+02, 1.e+03])},\n",
       "             pre_dispatch='2*n_jobs', refit=True, return_train_score=False,\n",
       "             scoring='accuracy', verbose=0)"
      ]
     },
     "execution_count": 35,
     "metadata": {},
     "output_type": "execute_result"
    }
   ],
   "source": [
    "grid_lr.fit(X_train1, y_train1.values.reshape(-1,))"
   ]
  },
  {
   "cell_type": "code",
   "execution_count": 36,
   "metadata": {},
   "outputs": [
    {
     "name": "stdout",
     "output_type": "stream",
     "text": [
      "The best parameter for Logistic is {'logisticregression__C': 1.0}\n",
      "Training accuracy for Logistic Regression is 0.42965\n",
      "Testing accuracy for Logistic Regression is 0.43118\n"
     ]
    }
   ],
   "source": [
    "#grid.score(X_test, y_test)\n",
    "print(\"The best parameter for Logistic is {}\".format(grid_lr.best_params_))\n",
    "print(\"Training accuracy for Logistic Regression is {}\".format(round(grid_lr.score(X_train1, y_train1),5)))\n",
    "print(\"Testing accuracy for Logistic Regression is {}\".format(round(grid_lr.score(X_test1, y_test1),5)))"
   ]
  },
  {
   "cell_type": "code",
   "execution_count": 37,
   "metadata": {},
   "outputs": [
    {
     "name": "stderr",
     "output_type": "stream",
     "text": [
      "/Users/jiezheng/anaconda3/lib/python3.7/site-packages/ipykernel_launcher.py:4: RuntimeWarning: invalid value encountered in long_scalars\n",
      "  after removing the cwd from sys.path.\n"
     ]
    },
    {
     "data": {
      "text/plain": [
       "array([[315,   0,   0,   0,   6,   0,   8,   0,   9],\n",
       "       [882,   0,   0,  11,  31,   0,  40,   6,  30],\n",
       "       [ 13,   0,   0,   0,   0,   0,   1,   0,   1],\n",
       "       [114,   0,   0,   3,   8,   0,  12,   0,   5],\n",
       "       [ 30,   0,   0,   2,  35,   0,   7,   0,   0],\n",
       "       [ 43,   0,   0,   0,   4,   0,   1,   0,   3],\n",
       "       [128,   0,   0,   0,  13,   0,  13,   0,   4],\n",
       "       [ 54,   0,   0,   0,   4,   0,   2,   0,   1],\n",
       "       [ 50,   0,   0,   1,   2,   0,   0,   0,  23]])"
      ]
     },
     "execution_count": 37,
     "metadata": {},
     "output_type": "execute_result"
    }
   ],
   "source": [
    "conf, pre_recall = produce_confusion_matrix(X_test, y_test, grid_lr) \n",
    "conf"
   ]
  },
  {
   "cell_type": "code",
   "execution_count": 38,
   "metadata": {},
   "outputs": [
    {
     "data": {
      "text/html": [
       "<div>\n",
       "<style scoped>\n",
       "    .dataframe tbody tr th:only-of-type {\n",
       "        vertical-align: middle;\n",
       "    }\n",
       "\n",
       "    .dataframe tbody tr th {\n",
       "        vertical-align: top;\n",
       "    }\n",
       "\n",
       "    .dataframe thead th {\n",
       "        text-align: right;\n",
       "    }\n",
       "</style>\n",
       "<table border=\"1\" class=\"dataframe\">\n",
       "  <thead>\n",
       "    <tr style=\"text-align: right;\">\n",
       "      <th></th>\n",
       "      <th>Precision</th>\n",
       "      <th>Recall</th>\n",
       "    </tr>\n",
       "  </thead>\n",
       "  <tbody>\n",
       "    <tr>\n",
       "      <th>Board Seats (activist group)</th>\n",
       "      <td>0.193370</td>\n",
       "      <td>0.931953</td>\n",
       "    </tr>\n",
       "    <tr>\n",
       "      <th>others</th>\n",
       "      <td>NaN</td>\n",
       "      <td>0.000000</td>\n",
       "    </tr>\n",
       "    <tr>\n",
       "      <th>Remove Officer(s)</th>\n",
       "      <td>NaN</td>\n",
       "      <td>0.000000</td>\n",
       "    </tr>\n",
       "    <tr>\n",
       "      <th>Compensation Related Enhancements</th>\n",
       "      <td>0.176471</td>\n",
       "      <td>0.021127</td>\n",
       "    </tr>\n",
       "    <tr>\n",
       "      <th>Social/Environmental/Political Issues</th>\n",
       "      <td>0.339806</td>\n",
       "      <td>0.472973</td>\n",
       "    </tr>\n",
       "    <tr>\n",
       "      <th>Add Independent Directors</th>\n",
       "      <td>NaN</td>\n",
       "      <td>0.000000</td>\n",
       "    </tr>\n",
       "    <tr>\n",
       "      <th>Other Governance Enhancements</th>\n",
       "      <td>0.154762</td>\n",
       "      <td>0.082278</td>\n",
       "    </tr>\n",
       "    <tr>\n",
       "      <th>Remove Takeover Defenses</th>\n",
       "      <td>0.000000</td>\n",
       "      <td>0.000000</td>\n",
       "    </tr>\n",
       "    <tr>\n",
       "      <th>Remove Director(s)</th>\n",
       "      <td>0.302632</td>\n",
       "      <td>0.302632</td>\n",
       "    </tr>\n",
       "  </tbody>\n",
       "</table>\n",
       "</div>"
      ],
      "text/plain": [
       "                                       Precision    Recall\n",
       "Board Seats (activist group)            0.193370  0.931953\n",
       "others                                       NaN  0.000000\n",
       "Remove Officer(s)                            NaN  0.000000\n",
       "Compensation Related Enhancements       0.176471  0.021127\n",
       "Social/Environmental/Political Issues   0.339806  0.472973\n",
       "Add Independent Directors                    NaN  0.000000\n",
       "Other Governance Enhancements           0.154762  0.082278\n",
       "Remove Takeover Defenses                0.000000  0.000000\n",
       "Remove Director(s)                      0.302632  0.302632"
      ]
     },
     "execution_count": 38,
     "metadata": {},
     "output_type": "execute_result"
    }
   ],
   "source": [
    "pre_recall"
   ]
  },
  {
   "cell_type": "markdown",
   "metadata": {},
   "source": [
    "### Three types classfier (lg)"
   ]
  },
  {
   "cell_type": "code",
   "execution_count": 32,
   "metadata": {},
   "outputs": [
    {
     "data": {
      "text/plain": [
       "GridSearchCV(cv=5, error_score='raise-deprecating',\n",
       "             estimator=Pipeline(memory=None,\n",
       "                                steps=[('columntransformer',\n",
       "                                        ColumnTransformer(n_jobs=None,\n",
       "                                                          remainder='drop',\n",
       "                                                          sparse_threshold=0.3,\n",
       "                                                          transformer_weights=None,\n",
       "                                                          transformers=[('pipeline-1',\n",
       "                                                                         Pipeline(memory=None,\n",
       "                                                                                  steps=[('simpleimputer',\n",
       "                                                                                          SimpleImputer(add_indicator=False,\n",
       "                                                                                                        copy=True,\n",
       "                                                                                                        fill_value=None,\n",
       "                                                                                                        missing_values=...\n",
       "                                                           multi_class='multinomial',\n",
       "                                                           n_jobs=None,\n",
       "                                                           penalty='l2',\n",
       "                                                           random_state=None,\n",
       "                                                           solver='newton-cg',\n",
       "                                                           tol=0.0001,\n",
       "                                                           verbose=0,\n",
       "                                                           warm_start=False))],\n",
       "                                verbose=False),\n",
       "             iid='warn', n_jobs=None,\n",
       "             param_grid={'logisticregression__C': array([1.e-03, 1.e-02, 1.e-01, 1.e+00, 1.e+01, 1.e+02, 1.e+03])},\n",
       "             pre_dispatch='2*n_jobs', refit=True, return_train_score=False,\n",
       "             scoring='accuracy', verbose=0)"
      ]
     },
     "execution_count": 32,
     "metadata": {},
     "output_type": "execute_result"
    }
   ],
   "source": [
    "pipeline_lr = make_pipeline(process_scale, LogisticRegression(\n",
    "    max_iter=10000, verbose=0, multi_class='multinomial', solver='newton-cg'))\n",
    "## Grid Search\n",
    "param_grid_lr = {'logisticregression__C': np.logspace(-3, 3, 7)}\n",
    "grid_lr = GridSearchCV(pipeline_lr, param_grid_lr, cv=5, scoring='accuracy')\n",
    "#X_train\n",
    "#y_train\n",
    "grid_lr.fit(X_train2, y_train2.values.reshape(-1,))"
   ]
  },
  {
   "cell_type": "code",
   "execution_count": 250,
   "metadata": {},
   "outputs": [
    {
     "name": "stdout",
     "output_type": "stream",
     "text": [
      "The best parameter for Logistic is {'logisticregression__C': 0.1}\n",
      "Training accuracy for Logistic Regression is 0.50256\n",
      "Testing accuracy for Logistic Regression is 0.49892\n"
     ]
    }
   ],
   "source": [
    "print(\"The best parameter for Logistic is {}\".format(grid_lr.best_params_))\n",
    "print(\"Training accuracy for Logistic Regression is {}\".format(round(grid_lr.score(X_train2, y_train2),5)))\n",
    "print(\"Testing accuracy for Logistic Regression is {}\".format(round(grid_lr.score(X_test2, y_test2),5)))"
   ]
  },
  {
   "cell_type": "code",
   "execution_count": 251,
   "metadata": {},
   "outputs": [],
   "source": [
    "def produce_confusion_matrix(x_test,y_test,model):\n",
    "    pred = model.predict(x_test)\n",
    "    matrix = confusion_matrix(y_test, pred, labels=y_test['governance_demand_group'].unique())\n",
    "    precision = [matrix[i,i] / sum(matrix[:,i]) for i in range(matrix.shape[1])]\n",
    "    recall = [matrix[i,i] / sum(matrix[i,:]) for i in range(matrix.shape[1])]\n",
    "    d1 = pd.DataFrame(precision, columns=['Precision'], index = y_test['governance_demand_group'].unique())\n",
    "    d2 = pd.DataFrame(recall, columns=['Recall'], index = y_test['governance_demand_group'].unique())\n",
    "    precision_recall = pd.concat([d1,d2], axis=1)\n",
    "    return matrix, precision_recall"
   ]
  },
  {
   "cell_type": "code",
   "execution_count": 253,
   "metadata": {},
   "outputs": [
    {
     "data": {
      "text/plain": [
       "array([[120, 232,   4],\n",
       "       [ 99, 330,  10],\n",
       "       [ 36,  85,  14]])"
      ]
     },
     "execution_count": 253,
     "metadata": {},
     "output_type": "execute_result"
    }
   ],
   "source": [
    "conf, pre_recall = produce_confusion_matrix(X_test2, y_test2, grid_lr) \n",
    "conf"
   ]
  },
  {
   "cell_type": "code",
   "execution_count": 254,
   "metadata": {},
   "outputs": [
    {
     "data": {
      "text/html": [
       "<div>\n",
       "<style scoped>\n",
       "    .dataframe tbody tr th:only-of-type {\n",
       "        vertical-align: middle;\n",
       "    }\n",
       "\n",
       "    .dataframe tbody tr th {\n",
       "        vertical-align: top;\n",
       "    }\n",
       "\n",
       "    .dataframe thead th {\n",
       "        text-align: right;\n",
       "    }\n",
       "</style>\n",
       "<table border=\"1\" class=\"dataframe\">\n",
       "  <thead>\n",
       "    <tr style=\"text-align: right;\">\n",
       "      <th></th>\n",
       "      <th>Precision</th>\n",
       "      <th>Recall</th>\n",
       "    </tr>\n",
       "  </thead>\n",
       "  <tbody>\n",
       "    <tr>\n",
       "      <th>Board</th>\n",
       "      <td>0.470588</td>\n",
       "      <td>0.337079</td>\n",
       "    </tr>\n",
       "    <tr>\n",
       "      <th>operations</th>\n",
       "      <td>0.510046</td>\n",
       "      <td>0.751708</td>\n",
       "    </tr>\n",
       "    <tr>\n",
       "      <th>Officer_demand</th>\n",
       "      <td>0.500000</td>\n",
       "      <td>0.103704</td>\n",
       "    </tr>\n",
       "  </tbody>\n",
       "</table>\n",
       "</div>"
      ],
      "text/plain": [
       "                Precision    Recall\n",
       "Board            0.470588  0.337079\n",
       "operations       0.510046  0.751708\n",
       "Officer_demand   0.500000  0.103704"
      ]
     },
     "execution_count": 254,
     "metadata": {},
     "output_type": "execute_result"
    }
   ],
   "source": [
    "pre_recall"
   ]
  },
  {
   "cell_type": "markdown",
   "metadata": {},
   "source": [
    "### TreeModel (random forest and XGboost)"
   ]
  },
  {
   "cell_type": "code",
   "execution_count": 24,
   "metadata": {},
   "outputs": [],
   "source": [
    "## Random Forest\n",
    "pipeline_rf = make_pipeline(process_not_scale, \n",
    "                            RandomForestClassifier(random_state = 1))\n",
    "## Grid Search\n",
    "param_grid_rf = {'randomforestclassifier__n_estimators': [100, 300],\n",
    "                'randomforestclassifier__max_features': ['auto', 'sqrt']}\n",
    "grid_rf = GridSearchCV(pipeline_rf, param_grid_rf, cv=3, scoring='accuracy')"
   ]
  },
  {
   "cell_type": "code",
   "execution_count": 25,
   "metadata": {},
   "outputs": [
    {
     "data": {
      "text/plain": [
       "GridSearchCV(cv=3, error_score='raise-deprecating',\n",
       "             estimator=Pipeline(memory=None,\n",
       "                                steps=[('columntransformer',\n",
       "                                        ColumnTransformer(n_jobs=None,\n",
       "                                                          remainder='drop',\n",
       "                                                          sparse_threshold=0.3,\n",
       "                                                          transformer_weights=None,\n",
       "                                                          transformers=[('pipeline-1',\n",
       "                                                                         Pipeline(memory=None,\n",
       "                                                                                  steps=[('simpleimputer',\n",
       "                                                                                          SimpleImputer(add_indicator=False,\n",
       "                                                                                                        copy=True,\n",
       "                                                                                                        fill_value=None,\n",
       "                                                                                                        missing_values=...\n",
       "                                                               min_weight_fraction_leaf=0.0,\n",
       "                                                               n_estimators='warn',\n",
       "                                                               n_jobs=None,\n",
       "                                                               oob_score=False,\n",
       "                                                               random_state=1,\n",
       "                                                               verbose=0,\n",
       "                                                               warm_start=False))],\n",
       "                                verbose=False),\n",
       "             iid='warn', n_jobs=None,\n",
       "             param_grid={'randomforestclassifier__max_features': ['auto',\n",
       "                                                                  'sqrt'],\n",
       "                         'randomforestclassifier__n_estimators': [100, 300]},\n",
       "             pre_dispatch='2*n_jobs', refit=True, return_train_score=False,\n",
       "             scoring='accuracy', verbose=0)"
      ]
     },
     "execution_count": 25,
     "metadata": {},
     "output_type": "execute_result"
    }
   ],
   "source": [
    "grid_rf.fit(X_train, y_train.values.reshape(-1,))"
   ]
  },
  {
   "cell_type": "code",
   "execution_count": 26,
   "metadata": {},
   "outputs": [
    {
     "name": "stdout",
     "output_type": "stream",
     "text": [
      "The best parameter for Logistic is {'randomforestclassifier__max_features': 'auto', 'randomforestclassifier__n_estimators': 300}\n",
      "Training accuracy for Random Forest is 0.98602\n",
      "Testing accuracy for Random Forest is 0.54413\n"
     ]
    }
   ],
   "source": [
    "print(\"The best parameter for Logistic is {}\".format(grid_rf.best_params_))\n",
    "print(\"Training accuracy for Random Forest is {}\".format(round(grid_rf.score(X_train, y_train),5)))\n",
    "print(\"Testing accuracy for Random Forest is {}\".format(round(grid_rf.score(X_test, y_test),5)))"
   ]
  },
  {
   "cell_type": "markdown",
   "metadata": {},
   "source": [
    "### Eight Type classfiers(rf)"
   ]
  },
  {
   "cell_type": "code",
   "execution_count": 42,
   "metadata": {},
   "outputs": [
    {
     "data": {
      "text/plain": [
       "GridSearchCV(cv=3, error_score='raise-deprecating',\n",
       "             estimator=Pipeline(memory=None,\n",
       "                                steps=[('columntransformer',\n",
       "                                        ColumnTransformer(n_jobs=None,\n",
       "                                                          remainder='drop',\n",
       "                                                          sparse_threshold=0.3,\n",
       "                                                          transformer_weights=None,\n",
       "                                                          transformers=[('pipeline-1',\n",
       "                                                                         Pipeline(memory=None,\n",
       "                                                                                  steps=[('simpleimputer',\n",
       "                                                                                          SimpleImputer(add_indicator=False,\n",
       "                                                                                                        copy=True,\n",
       "                                                                                                        fill_value=None,\n",
       "                                                                                                        missing_values=...\n",
       "                                                               min_weight_fraction_leaf=0.0,\n",
       "                                                               n_estimators='warn',\n",
       "                                                               n_jobs=None,\n",
       "                                                               oob_score=False,\n",
       "                                                               random_state=1,\n",
       "                                                               verbose=0,\n",
       "                                                               warm_start=False))],\n",
       "                                verbose=False),\n",
       "             iid='warn', n_jobs=None,\n",
       "             param_grid={'randomforestclassifier__max_features': ['auto',\n",
       "                                                                  'sqrt'],\n",
       "                         'randomforestclassifier__n_estimators': [100, 300]},\n",
       "             pre_dispatch='2*n_jobs', refit=True, return_train_score=False,\n",
       "             scoring='accuracy', verbose=0)"
      ]
     },
     "execution_count": 42,
     "metadata": {},
     "output_type": "execute_result"
    }
   ],
   "source": [
    "grid_rf.fit(X_train1, y_train1.values.reshape(-1,))"
   ]
  },
  {
   "cell_type": "code",
   "execution_count": 43,
   "metadata": {},
   "outputs": [
    {
     "name": "stdout",
     "output_type": "stream",
     "text": [
      "The best parameter for Logistic is {'randomforestclassifier__max_features': 'auto', 'randomforestclassifier__n_estimators': 300}\n",
      "Training accuracy for Random Forest is 0.9887\n",
      "Testing accuracy for Random Forest is 0.46882\n"
     ]
    }
   ],
   "source": [
    "print(\"The best parameter for Logistic is {}\".format(grid_rf.best_params_))\n",
    "print(\"Training accuracy for Random Forest is {}\".format(round(grid_rf.score(X_train1, y_train1),5)))\n",
    "print(\"Testing accuracy for Random Forest is {}\".format(round(grid_rf.score(X_test1, y_test1),5)))"
   ]
  },
  {
   "cell_type": "code",
   "execution_count": 44,
   "metadata": {},
   "outputs": [],
   "source": [
    "## Random Forest\n",
    "pipeline_rf = make_pipeline(process_not_scale, \n",
    "                            RandomForestClassifier(random_state = 1))\n",
    "## Grid Search\n",
    "param_grid_rf = {'randomforestclassifier__n_estimators': [100, 300],\n",
    "                'randomforestclassifier__max_features': ['auto', 'sqrt']}\n",
    "grid_rf = GridSearchCV(pipeline_rf, param_grid_rf, cv=3, scoring='accuracy')"
   ]
  },
  {
   "cell_type": "markdown",
   "metadata": {},
   "source": [
    "### Three Type classfiers (rf)"
   ]
  },
  {
   "cell_type": "code",
   "execution_count": 27,
   "metadata": {},
   "outputs": [
    {
     "data": {
      "text/plain": [
       "GridSearchCV(cv=3, error_score='raise-deprecating',\n",
       "             estimator=Pipeline(memory=None,\n",
       "                                steps=[('columntransformer',\n",
       "                                        ColumnTransformer(n_jobs=None,\n",
       "                                                          remainder='drop',\n",
       "                                                          sparse_threshold=0.3,\n",
       "                                                          transformer_weights=None,\n",
       "                                                          transformers=[('pipeline-1',\n",
       "                                                                         Pipeline(memory=None,\n",
       "                                                                                  steps=[('simpleimputer',\n",
       "                                                                                          SimpleImputer(add_indicator=False,\n",
       "                                                                                                        copy=True,\n",
       "                                                                                                        fill_value=None,\n",
       "                                                                                                        missing_values=...\n",
       "                                                               min_weight_fraction_leaf=0.0,\n",
       "                                                               n_estimators='warn',\n",
       "                                                               n_jobs=None,\n",
       "                                                               oob_score=False,\n",
       "                                                               random_state=1,\n",
       "                                                               verbose=0,\n",
       "                                                               warm_start=False))],\n",
       "                                verbose=False),\n",
       "             iid='warn', n_jobs=None,\n",
       "             param_grid={'randomforestclassifier__max_features': ['auto',\n",
       "                                                                  'sqrt'],\n",
       "                         'randomforestclassifier__n_estimators': [100, 300]},\n",
       "             pre_dispatch='2*n_jobs', refit=True, return_train_score=False,\n",
       "             scoring='accuracy', verbose=0)"
      ]
     },
     "execution_count": 27,
     "metadata": {},
     "output_type": "execute_result"
    }
   ],
   "source": [
    "grid_rf.fit(X_train2, y_train2.values.reshape(-1,))"
   ]
  },
  {
   "cell_type": "code",
   "execution_count": 28,
   "metadata": {},
   "outputs": [
    {
     "name": "stdout",
     "output_type": "stream",
     "text": [
      "The best parameter for Logistic is {'randomforestclassifier__max_features': 'auto', 'randomforestclassifier__n_estimators': 300}\n",
      "Training accuracy for Random Forest is 0.99139\n",
      "Testing accuracy for Random Forest is 0.56882\n"
     ]
    }
   ],
   "source": [
    "print(\"The best parameter for Logistic is {}\".format(grid_rf.best_params_))\n",
    "print(\"Training accuracy for Random Forest is {}\".format(round(grid_rf.score(X_train2, y_train2),5)))\n",
    "print(\"Testing accuracy for Random Forest is {}\".format(round(grid_rf.score(X_test2, y_test2),5)))"
   ]
  },
  {
   "cell_type": "code",
   "execution_count": 29,
   "metadata": {},
   "outputs": [],
   "source": [
    "def produce_confusion_matrix(x_test,y_test,model):\n",
    "    pred = model.predict(x_test)\n",
    "    matrix = confusion_matrix(y_test, pred, labels=y_test['governance_demand_group'].unique())\n",
    "    precision = [matrix[i,i] / sum(matrix[:,i]) for i in range(matrix.shape[1])]\n",
    "    recall = [matrix[i,i] / sum(matrix[i,:]) for i in range(matrix.shape[1])]\n",
    "    d1 = pd.DataFrame(precision, columns=['Precision'], index = y_test['governance_demand_group'].unique())\n",
    "    d2 = pd.DataFrame(recall, columns=['Recall'], index = y_test['governance_demand_group'].unique())\n",
    "    precision_recall = pd.concat([d1,d2], axis=1)\n",
    "    return matrix, precision_recall"
   ]
  },
  {
   "cell_type": "code",
   "execution_count": 30,
   "metadata": {},
   "outputs": [
    {
     "data": {
      "text/plain": [
       "array([[194, 150,  12],\n",
       "       [127, 291,  21],\n",
       "       [ 51,  40,  44]])"
      ]
     },
     "execution_count": 30,
     "metadata": {},
     "output_type": "execute_result"
    }
   ],
   "source": [
    "conf, pre_recall = produce_confusion_matrix(X_test2, y_test2, grid_rf) \n",
    "conf"
   ]
  },
  {
   "cell_type": "code",
   "execution_count": 31,
   "metadata": {},
   "outputs": [
    {
     "data": {
      "text/html": [
       "<div>\n",
       "<style scoped>\n",
       "    .dataframe tbody tr th:only-of-type {\n",
       "        vertical-align: middle;\n",
       "    }\n",
       "\n",
       "    .dataframe tbody tr th {\n",
       "        vertical-align: top;\n",
       "    }\n",
       "\n",
       "    .dataframe thead th {\n",
       "        text-align: right;\n",
       "    }\n",
       "</style>\n",
       "<table border=\"1\" class=\"dataframe\">\n",
       "  <thead>\n",
       "    <tr style=\"text-align: right;\">\n",
       "      <th></th>\n",
       "      <th>Precision</th>\n",
       "      <th>Recall</th>\n",
       "    </tr>\n",
       "  </thead>\n",
       "  <tbody>\n",
       "    <tr>\n",
       "      <th>Board</th>\n",
       "      <td>0.521505</td>\n",
       "      <td>0.544944</td>\n",
       "    </tr>\n",
       "    <tr>\n",
       "      <th>operations</th>\n",
       "      <td>0.604990</td>\n",
       "      <td>0.662870</td>\n",
       "    </tr>\n",
       "    <tr>\n",
       "      <th>Officer_demand</th>\n",
       "      <td>0.571429</td>\n",
       "      <td>0.325926</td>\n",
       "    </tr>\n",
       "  </tbody>\n",
       "</table>\n",
       "</div>"
      ],
      "text/plain": [
       "                Precision    Recall\n",
       "Board            0.521505  0.544944\n",
       "operations       0.604990  0.662870\n",
       "Officer_demand   0.571429  0.325926"
      ]
     },
     "execution_count": 31,
     "metadata": {},
     "output_type": "execute_result"
    }
   ],
   "source": [
    "pre_recall"
   ]
  },
  {
   "cell_type": "markdown",
   "metadata": {},
   "source": [
    "### Feature importance (rf)"
   ]
  },
  {
   "cell_type": "code",
   "execution_count": 32,
   "metadata": {},
   "outputs": [
    {
     "data": {
      "text/plain": [
       "GridSearchCV(cv=3, error_score='raise-deprecating',\n",
       "             estimator=Pipeline(memory=None,\n",
       "                                steps=[('columntransformer',\n",
       "                                        ColumnTransformer(n_jobs=None,\n",
       "                                                          remainder='drop',\n",
       "                                                          sparse_threshold=0.3,\n",
       "                                                          transformer_weights=None,\n",
       "                                                          transformers=[('pipeline-1',\n",
       "                                                                         Pipeline(memory=None,\n",
       "                                                                                  steps=[('simpleimputer',\n",
       "                                                                                          SimpleImputer(add_indicator=False,\n",
       "                                                                                                        copy=True,\n",
       "                                                                                                        fill_value=None,\n",
       "                                                                                                        missing_values=...\n",
       "                                                               min_weight_fraction_leaf=0.0,\n",
       "                                                               n_estimators='warn',\n",
       "                                                               n_jobs=None,\n",
       "                                                               oob_score=False,\n",
       "                                                               random_state=1,\n",
       "                                                               verbose=0,\n",
       "                                                               warm_start=False))],\n",
       "                                verbose=False),\n",
       "             iid='warn', n_jobs=None,\n",
       "             param_grid={'randomforestclassifier__max_features': ['auto',\n",
       "                                                                  'sqrt'],\n",
       "                         'randomforestclassifier__n_estimators': [100, 300]},\n",
       "             pre_dispatch='2*n_jobs', refit=True, return_train_score=False,\n",
       "             scoring='accuracy', verbose=0)"
      ]
     },
     "execution_count": 32,
     "metadata": {},
     "output_type": "execute_result"
    }
   ],
   "source": [
    "rf = RandomForestClassifier(n_estimators = 300,random_state = 1)\n",
    "grid_rf.fit(X_train2, y_train2.values.reshape(-1,))"
   ]
  },
  {
   "cell_type": "code",
   "execution_count": 33,
   "metadata": {},
   "outputs": [],
   "source": [
    "importance = grid_rf.best_estimator_.get_params()[\"randomforestclassifier\"].feature_importances_"
   ]
  },
  {
   "cell_type": "code",
   "execution_count": 34,
   "metadata": {},
   "outputs": [
    {
     "data": {
      "text/plain": [
       "array([0.07615968, 0.06480036, 0.04950005, 0.07450826, 0.04562511,\n",
       "       0.04580476, 0.04615895, 0.04915544, 0.017587  , 0.01869069,\n",
       "       0.02006869, 0.02336824, 0.0476659 , 0.04879073, 0.04864251,\n",
       "       0.05361751, 0.04919471, 0.04842317, 0.04858011, 0.04115837,\n",
       "       0.00463997, 0.00178623, 0.00324482, 0.00344611, 0.00527674,\n",
       "       0.00254909, 0.00575668, 0.00587515, 0.00662037, 0.00210751,\n",
       "       0.00543273, 0.00336918, 0.00512996, 0.00565666, 0.00393771,\n",
       "       0.00390474, 0.0040882 , 0.00544317, 0.00210835, 0.00212637])"
      ]
     },
     "execution_count": 34,
     "metadata": {},
     "output_type": "execute_result"
    }
   ],
   "source": [
    "importance"
   ]
  },
  {
   "cell_type": "code",
   "execution_count": 35,
   "metadata": {},
   "outputs": [],
   "source": [
    "Continuous_Variables = np.array(Continuous_Variables)\n",
    "#Continuous_Variables"
   ]
  },
  {
   "cell_type": "code",
   "execution_count": 36,
   "metadata": {},
   "outputs": [
    {
     "data": {
      "text/plain": [
       "array([0.07615968, 0.07450826, 0.06480036, 0.05361751, 0.04950005,\n",
       "       0.04919471, 0.04915544, 0.04879073, 0.04864251, 0.04858011,\n",
       "       0.04842317, 0.0476659 , 0.04615895, 0.04580476, 0.04562511,\n",
       "       0.04115837, 0.02336824, 0.02006869, 0.01869069, 0.017587  ,\n",
       "       0.00662037, 0.00587515, 0.00575668, 0.00565666, 0.00544317,\n",
       "       0.00543273, 0.00527674, 0.00512996, 0.00463997, 0.0040882 ,\n",
       "       0.00393771, 0.00390474, 0.00344611, 0.00336918, 0.00324482,\n",
       "       0.00254909, 0.00212637, 0.00210835, 0.00210751, 0.00178623])"
      ]
     },
     "execution_count": 36,
     "metadata": {},
     "output_type": "execute_result"
    }
   ],
   "source": [
    "importance.sort()\n",
    "importance[::-1]"
   ]
  },
  {
   "cell_type": "code",
   "execution_count": 37,
   "metadata": {},
   "outputs": [],
   "source": [
    "#Continuous_Variables[importance.argsort()[::-1][:10]]"
   ]
  },
  {
   "cell_type": "code",
   "execution_count": 38,
   "metadata": {},
   "outputs": [],
   "source": [
    "cat_names = grid_rf.best_estimator_.named_steps['columntransformer'].transformers_[1][1]\\\n",
    "   .named_steps['onehotencoder'].get_feature_names(Categorical_Variables)\n",
    "features_name = np.array(list(Continuous_Variables) + list(cat_names))"
   ]
  },
  {
   "cell_type": "code",
   "execution_count": 39,
   "metadata": {},
   "outputs": [
    {
     "data": {
      "text/plain": [
       "array(['sector_Utilities', 'sector_Transportation',\n",
       "       'sector_Technology Services', 'sector_Retail Trade',\n",
       "       'sector_Producer Manufacturing', 'sector_Process Industries',\n",
       "       'sector_Non-Energy Minerals', 'sector_Miscellaneous',\n",
       "       'sector_Industrial Services', 'sector_Health Technology',\n",
       "       'sector_Health Services', 'sector_Finance',\n",
       "       'sector_Energy Minerals', 'sector_Electronic Technology',\n",
       "       'sector_Distribution Services', 'sector_Consumer Services',\n",
       "       'sector_Consumer Non-Durables', 'sector_Consumer Durables',\n",
       "       'sector_Communications', 'sector_Commercial Services',\n",
       "       'past_return_successes', 'pre_18m_residual_return',\n",
       "       'pre_12m_residual_return', 'pre_6m_residual_return',\n",
       "       'pre_3m_total_return', 'pre_6m_total_return',\n",
       "       'pre_12m_total_return', 'pre_18m_total_return', 'pre_3m_dividends',\n",
       "       'pre_6m_dividends'], dtype='<U30')"
      ]
     },
     "execution_count": 39,
     "metadata": {},
     "output_type": "execute_result"
    }
   ],
   "source": [
    "indices = np.argsort(np.array(importance))[::-1][:30]\n",
    "features_name[indices]"
   ]
  },
  {
   "cell_type": "code",
   "execution_count": 40,
   "metadata": {},
   "outputs": [],
   "source": [
    "# name = ['pre_3m_stock_price', 'ltm_eps_at_announcement',\n",
    "#        'pre_6m_stock_price', 'pre_12m_stock_price', 'pre_18m_stock_price',\n",
    "#        'price_at_announcement', 'pre_3m_total_return',\n",
    "#        'earnings_yield_at_announcement', 'pre_6m_total_return',\n",
    "#        'pre_18m_total_return']"
   ]
  },
  {
   "cell_type": "code",
   "execution_count": 41,
   "metadata": {},
   "outputs": [],
   "source": [
    "# value = [0.07615968, 0.07450826, 0.06480036, 0.05361751, 0.04950005]"
   ]
  },
  {
   "cell_type": "code",
   "execution_count": 42,
   "metadata": {},
   "outputs": [],
   "source": [
    "# d = {'name': name, 'value': value}"
   ]
  },
  {
   "cell_type": "code",
   "execution_count": 43,
   "metadata": {},
   "outputs": [],
   "source": [
    "# df = pd.DataFrame(data=d)"
   ]
  },
  {
   "cell_type": "code",
   "execution_count": 44,
   "metadata": {},
   "outputs": [],
   "source": [
    "#df"
   ]
  },
  {
   "cell_type": "code",
   "execution_count": 45,
   "metadata": {},
   "outputs": [],
   "source": [
    "# import seaborn as sns\n",
    "# sns.set()\n",
    "# sns.set(rc={'figure.figsize':(12,10)})\n",
    "# #ax = plt.gca()\n",
    "# ax = df.plot.bar(x='name', y='value')\n",
    "# plt.title('Top 10 important features for Governance Demand')"
   ]
  },
  {
   "cell_type": "markdown",
   "metadata": {},
   "source": [
    "### SVM"
   ]
  },
  {
   "cell_type": "code",
   "execution_count": null,
   "metadata": {},
   "outputs": [],
   "source": [
    "from sklearn import svm\n",
    "svc = svm.SVC(kernel='rbf')\n",
    "svc.fit(X_train2,y_train2)\n",
    "conf, pre_recall = produce_confusion_matrix(X_test2, y_test2, svc) \n",
    "conf"
   ]
  },
  {
   "cell_type": "code",
   "execution_count": 308,
   "metadata": {},
   "outputs": [
    {
     "data": {
      "text/html": [
       "<div>\n",
       "<style scoped>\n",
       "    .dataframe tbody tr th:only-of-type {\n",
       "        vertical-align: middle;\n",
       "    }\n",
       "\n",
       "    .dataframe tbody tr th {\n",
       "        vertical-align: top;\n",
       "    }\n",
       "\n",
       "    .dataframe thead th {\n",
       "        text-align: right;\n",
       "    }\n",
       "</style>\n",
       "<table border=\"1\" class=\"dataframe\">\n",
       "  <thead>\n",
       "    <tr style=\"text-align: right;\">\n",
       "      <th></th>\n",
       "      <th>Precision</th>\n",
       "      <th>Recall</th>\n",
       "    </tr>\n",
       "  </thead>\n",
       "  <tbody>\n",
       "    <tr>\n",
       "      <th>Board</th>\n",
       "      <td>0.537313</td>\n",
       "      <td>0.303371</td>\n",
       "    </tr>\n",
       "    <tr>\n",
       "      <th>operations</th>\n",
       "      <td>0.539755</td>\n",
       "      <td>0.804100</td>\n",
       "    </tr>\n",
       "    <tr>\n",
       "      <th>Officer_demand</th>\n",
       "      <td>0.666667</td>\n",
       "      <td>0.370370</td>\n",
       "    </tr>\n",
       "  </tbody>\n",
       "</table>\n",
       "</div>"
      ],
      "text/plain": [
       "                Precision    Recall\n",
       "Board            0.537313  0.303371\n",
       "operations       0.539755  0.804100\n",
       "Officer_demand   0.666667  0.370370"
      ]
     },
     "execution_count": 308,
     "metadata": {},
     "output_type": "execute_result"
    }
   ],
   "source": [
    "\n",
    "\n",
    "pre_recall"
   ]
  },
  {
   "cell_type": "markdown",
   "metadata": {},
   "source": [
    "### Nearest "
   ]
  },
  {
   "cell_type": "code",
   "execution_count": 310,
   "metadata": {},
   "outputs": [],
   "source": [
    "from sklearn.neighbors import NearestCentroid"
   ]
  },
  {
   "cell_type": "code",
   "execution_count": 313,
   "metadata": {},
   "outputs": [
    {
     "name": "stdout",
     "output_type": "stream",
     "text": [
      "The best parameter for NearestCentroid is {'metric': 'manhattan'}\n",
      "Training accuracy for NearestCentroid is 0.43906\n",
      "Testing accuracy for NearestCentroid is 0.46882\n"
     ]
    }
   ],
   "source": [
    "nc = NearestCentroid()\n",
    "param_grid = {'metric':['euclidean','manhattan']}\n",
    "grid = GridSearchCV(nc, param_grid, cv=5)\n",
    "grid.fit(X_train2, y_train2)\n",
    "print(\"The best parameter for NearestCentroid is {}\".format(grid.best_params_))\n",
    "print(\"Training accuracy for NearestCentroid is {}\".format(round(grid.score(X_train2, y_train2),5)))\n",
    "print(\"Testing accuracy for NearestCentroid is {}\".format(round(grid.score(X_test2, y_test2),5)))"
   ]
  },
  {
   "cell_type": "code",
   "execution_count": 315,
   "metadata": {},
   "outputs": [
    {
     "data": {
      "text/plain": [
       "array([[ 91, 130, 135],\n",
       "       [ 61, 258, 120],\n",
       "       [ 21,  27,  87]])"
      ]
     },
     "execution_count": 315,
     "metadata": {},
     "output_type": "execute_result"
    }
   ],
   "source": [
    "conf, pre_recall = produce_confusion_matrix(X_test2, y_test2, grid) \n",
    "conf"
   ]
  },
  {
   "cell_type": "code",
   "execution_count": 316,
   "metadata": {},
   "outputs": [
    {
     "data": {
      "text/html": [
       "<div>\n",
       "<style scoped>\n",
       "    .dataframe tbody tr th:only-of-type {\n",
       "        vertical-align: middle;\n",
       "    }\n",
       "\n",
       "    .dataframe tbody tr th {\n",
       "        vertical-align: top;\n",
       "    }\n",
       "\n",
       "    .dataframe thead th {\n",
       "        text-align: right;\n",
       "    }\n",
       "</style>\n",
       "<table border=\"1\" class=\"dataframe\">\n",
       "  <thead>\n",
       "    <tr style=\"text-align: right;\">\n",
       "      <th></th>\n",
       "      <th>Precision</th>\n",
       "      <th>Recall</th>\n",
       "    </tr>\n",
       "  </thead>\n",
       "  <tbody>\n",
       "    <tr>\n",
       "      <th>Board</th>\n",
       "      <td>0.526012</td>\n",
       "      <td>0.255618</td>\n",
       "    </tr>\n",
       "    <tr>\n",
       "      <th>operations</th>\n",
       "      <td>0.621687</td>\n",
       "      <td>0.587699</td>\n",
       "    </tr>\n",
       "    <tr>\n",
       "      <th>Officer_demand</th>\n",
       "      <td>0.254386</td>\n",
       "      <td>0.644444</td>\n",
       "    </tr>\n",
       "  </tbody>\n",
       "</table>\n",
       "</div>"
      ],
      "text/plain": [
       "                Precision    Recall\n",
       "Board            0.526012  0.255618\n",
       "operations       0.621687  0.587699\n",
       "Officer_demand   0.254386  0.644444"
      ]
     },
     "execution_count": 316,
     "metadata": {},
     "output_type": "execute_result"
    }
   ],
   "source": [
    "pre_recall"
   ]
  },
  {
   "cell_type": "markdown",
   "metadata": {},
   "source": [
    "### Ensemble Model"
   ]
  },
  {
   "cell_type": "code",
   "execution_count": 323,
   "metadata": {},
   "outputs": [
    {
     "name": "stdout",
     "output_type": "stream",
     "text": [
      "Accuracy is 55.38%\n"
     ]
    }
   ],
   "source": [
    "import warnings\n",
    "warnings.filterwarnings(\"ignore\")\n",
    "X = data2.drop(columns=['governance_demand_group'])\n",
    "y = data2['governance_demand_group']\n",
    "X = process_not_scale.fit(X,y).transform(X)\n",
    "y = pd.DataFrame(y,columns=['governance_demand_group'])\n",
    "X_train2, X_test2, y_train2, y_test2 = train_test_split(X, y, random_state=0, test_size=0.2)\n",
    "eclf2 = VotingClassifier(estimators=[('lg', LogisticRegression(C = 0.1)), \n",
    "                                     ('rf', RandomForestClassifier(n_estimators = 300)),\n",
    "                                    ('nc', NearestCentroid(metric =  'manhattan')),\n",
    "                                    ('svc', svm.SVC(kernel='rbf'))], \n",
    "                         voting='hard')\n",
    "eclf2 = eclf2.fit(X_train2, y_train2)\n",
    "y_pred2 = eclf2.predict(X_test2)\n",
    "print(\"Accuracy is %.2f%%\" % ((np.sum(y_pred2 == np.array(y_test2).flatten()) / len(y_pred2))*100))"
   ]
  },
  {
   "cell_type": "code",
   "execution_count": 324,
   "metadata": {},
   "outputs": [],
   "source": [
    "def produce_confusion_matrix(x_test,y_test,model):\n",
    "    pred = model.predict(x_test)\n",
    "    matrix = confusion_matrix(y_test, pred, labels=y_test['governance_demand_group'].unique())\n",
    "    precision = [matrix[i,i] / sum(matrix[:,i]) for i in range(matrix.shape[1])]\n",
    "    recall = [matrix[i,i] / sum(matrix[i,:]) for i in range(matrix.shape[1])]\n",
    "    d1 = pd.DataFrame(precision, columns=['Precision'], index = y_test['governance_demand_group'].unique())\n",
    "    d2 = pd.DataFrame(recall, columns=['Recall'], index = y_test['governance_demand_group'].unique())\n",
    "    precision_recall = pd.concat([d1,d2], axis=1)\n",
    "    return matrix, precision_recall"
   ]
  },
  {
   "cell_type": "code",
   "execution_count": 325,
   "metadata": {},
   "outputs": [
    {
     "data": {
      "text/plain": [
       "array([[153, 176,  27],\n",
       "       [102, 304,  33],\n",
       "       [ 38,  39,  58]])"
      ]
     },
     "execution_count": 325,
     "metadata": {},
     "output_type": "execute_result"
    }
   ],
   "source": [
    "conf, pre_recall = produce_confusion_matrix(X_test2, y_test2, eclf2) \n",
    "conf"
   ]
  },
  {
   "cell_type": "code",
   "execution_count": 326,
   "metadata": {},
   "outputs": [
    {
     "data": {
      "text/html": [
       "<div>\n",
       "<style scoped>\n",
       "    .dataframe tbody tr th:only-of-type {\n",
       "        vertical-align: middle;\n",
       "    }\n",
       "\n",
       "    .dataframe tbody tr th {\n",
       "        vertical-align: top;\n",
       "    }\n",
       "\n",
       "    .dataframe thead th {\n",
       "        text-align: right;\n",
       "    }\n",
       "</style>\n",
       "<table border=\"1\" class=\"dataframe\">\n",
       "  <thead>\n",
       "    <tr style=\"text-align: right;\">\n",
       "      <th></th>\n",
       "      <th>Precision</th>\n",
       "      <th>Recall</th>\n",
       "    </tr>\n",
       "  </thead>\n",
       "  <tbody>\n",
       "    <tr>\n",
       "      <th>Board</th>\n",
       "      <td>0.522184</td>\n",
       "      <td>0.429775</td>\n",
       "    </tr>\n",
       "    <tr>\n",
       "      <th>operations</th>\n",
       "      <td>0.585742</td>\n",
       "      <td>0.692483</td>\n",
       "    </tr>\n",
       "    <tr>\n",
       "      <th>Officer_demand</th>\n",
       "      <td>0.491525</td>\n",
       "      <td>0.429630</td>\n",
       "    </tr>\n",
       "  </tbody>\n",
       "</table>\n",
       "</div>"
      ],
      "text/plain": [
       "                Precision    Recall\n",
       "Board            0.522184  0.429775\n",
       "operations       0.585742  0.692483\n",
       "Officer_demand   0.491525  0.429630"
      ]
     },
     "execution_count": 326,
     "metadata": {},
     "output_type": "execute_result"
    }
   ],
   "source": [
    "pre_recall"
   ]
  },
  {
   "cell_type": "code",
   "execution_count": null,
   "metadata": {},
   "outputs": [],
   "source": []
  }
 ],
 "metadata": {
  "kernelspec": {
   "display_name": "Python 3",
   "language": "python",
   "name": "python3"
  },
  "language_info": {
   "codemirror_mode": {
    "name": "ipython",
    "version": 3
   },
   "file_extension": ".py",
   "mimetype": "text/x-python",
   "name": "python",
   "nbconvert_exporter": "python",
   "pygments_lexer": "ipython3",
   "version": "3.7.3"
  }
 },
 "nbformat": 4,
 "nbformat_minor": 2
}
