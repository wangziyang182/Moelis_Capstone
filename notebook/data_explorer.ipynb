{
 "cells": [
  {
   "cell_type": "code",
   "execution_count": null,
   "metadata": {},
   "outputs": [],
   "source": [
    "import numpy as np\n",
    "import pandas as pd\n",
    "import plotnine as gg\n",
    "import pandas_datareader as pdr\n",
    "import twitter\n",
    "\n",
    "pd.options.display.max_rows = 1000"
   ]
  },
  {
   "cell_type": "code",
   "execution_count": null,
   "metadata": {},
   "outputs": [],
   "source": [
    "df_clean = pd.read_csv('../data/engineered_factset_campaign.csv', parse_dates=['campaign_announcement_date'])"
   ]
  },
  {
   "cell_type": "code",
   "execution_count": null,
   "metadata": {},
   "outputs": [],
   "source": [
    "df_clean.groupby(['activist_id', 'activist_name']).campaign_id.count().sort_values(ascending=False).to_clipboard()"
   ]
  },
  {
   "cell_type": "code",
   "execution_count": null,
   "metadata": {},
   "outputs": [],
   "source": [
    "df_clean.groupby(['company_id', 'company_name']).campaign_id.count().sort_values(ascending=False).to_clipboard()"
   ]
  },
  {
   "cell_type": "code",
   "execution_count": null,
   "metadata": {},
   "outputs": [],
   "source": [
    "df_clean[df_clean.activist_name == \"Carl Celian Icahn\"].head(5)"
   ]
  },
  {
   "cell_type": "code",
   "execution_count": null,
   "metadata": {},
   "outputs": [],
   "source": [
    "df_clean.iloc[0].to_frame('value')"
   ]
  },
  {
   "cell_type": "code",
   "execution_count": null,
   "metadata": {},
   "outputs": [],
   "source": [
    "df_clean.dtypes.to_frame('type')"
   ]
  },
  {
   "cell_type": "code",
   "execution_count": null,
   "metadata": {},
   "outputs": [],
   "source": [
    "len(df_clean)"
   ]
  },
  {
   "cell_type": "code",
   "execution_count": null,
   "metadata": {},
   "outputs": [],
   "source": [
    "df_clean[[c for c in df_clean.columns.tolist() if 'price_to_earnings' in c]].describe()"
   ]
  },
  {
   "cell_type": "code",
   "execution_count": null,
   "metadata": {},
   "outputs": [],
   "source": [
    "df_clean[[c for c in df_clean.columns.tolist() if 'return' in c]].isnull().sum()"
   ]
  },
  {
   "cell_type": "code",
   "execution_count": null,
   "metadata": {},
   "outputs": [],
   "source": [
    "df_clean.shape"
   ]
  },
  {
   "cell_type": "code",
   "execution_count": null,
   "metadata": {},
   "outputs": [],
   "source": [
    "df_clean.hist(figsize=(50, 50));"
   ]
  },
  {
   "cell_type": "markdown",
   "metadata": {},
   "source": [
    "# Twitter"
   ]
  },
  {
   "cell_type": "code",
   "execution_count": null,
   "metadata": {},
   "outputs": [],
   "source": [
    "api = twitter.Api(\n",
    "    consumer_key=\"2h4XsRFKDcCcPUocDkG56NziZ\",\n",
    "    consumer_secret=\"C6uYqGrwmVgBaQ6GxjKfL7XrRD9G7gNHd7W7GvfuLyfWWsIP3e\",\n",
    "    access_token_key=\"1198652056241877004-BgWT67aYNYXlePsQzYEFtkcvMwxK6D\",\n",
    "    access_token_secret=\"czxwtySpTHLZh6xh2YHwb42QTOywkANubHYCGYXCighOw\",\n",
    "    sleep_on_rate_limit=True\n",
    ")"
   ]
  },
  {
   "cell_type": "code",
   "execution_count": null,
   "metadata": {},
   "outputs": [],
   "source": [
    "def tweets_to_dataframe(tweets):\n",
    "    \n",
    "    df = pd.DataFrame.from_dict([t._json for t in timeline])\n",
    "    df = df.assign(created_at=lambda df: pd.to_datetime(df.created_at))\n",
    "    return df"
   ]
  },
  {
   "cell_type": "code",
   "execution_count": null,
   "metadata": {},
   "outputs": [],
   "source": [
    "timeline = api.GetUserTimeline(screen_name=\"Carl_C_Icahn\", count=5, include_rts=False, exclude_replies=True)\n",
    "tweets_to_dataframe(timeline)"
   ]
  },
  {
   "cell_type": "code",
   "execution_count": null,
   "metadata": {},
   "outputs": [],
   "source": [
    "search_string = \"Exxon Mobil Corporation \".replace(' ', '%20')\n",
    "since = \"2010-09-15\"\n",
    "until = \"2011-07-20\"\n",
    "query = f\"\"\"q={search_string}since%3A{since}&until%3A{until}&count=5\"\"\"\n",
    "results = api.GetSearch(raw_query=query, count=15)\n",
    "df_twitter = pd.DataFrame.from_dict([t._json for t in results])\n",
    "df_twitter = df_twitter.assign(created_at=lambda df: pd.to_datetime(df.created_at))"
   ]
  },
  {
   "cell_type": "code",
   "execution_count": null,
   "metadata": {},
   "outputs": [],
   "source": []
  },
  {
   "cell_type": "code",
   "execution_count": null,
   "metadata": {},
   "outputs": [],
   "source": [
    "dict_tweets = {}\n",
    "\n",
    "def clean_company_name(company_name):\n",
    "    return (\n",
    "        company_name\n",
    "        .replace('Co.', '')\n",
    "        .replace('Inc.', '')\n",
    "        .replace('(NRO)', '')\n",
    "        .replace('.', '')\n",
    "        .replace(',', '')\n",
    "        .replace('/', '')\n",
    "        .replace(' and ', '')\n",
    "        .replace(' & ', '')\n",
    "        .replace('\\'s', '')\n",
    "    )\n",
    "\n",
    "for campaign_id, gb in df_clean.groupby('campaign_id'):\n",
    "    \n",
    "    company_id = gb.company_id.iloc[0]\n",
    "    company_name = gb.company_name.iloc[0]\n",
    "    \n",
    "    if company_name and type(company_name) == str:\n",
    "    \n",
    "        campaign_date = gb.campaign_announcement_date.iloc[0]\n",
    "        start_date = campaign_date + pd.offsets.DateOffset(-60)\n",
    "        end_date = campaign_date + pd.offsets.DateOffset(-60)\n",
    "\n",
    "        print(f'getting tweets for {clean_company_name(company_name)}')\n",
    "\n",
    "        search_string = (clean_company_name(company_name) + ' ').replace(' ', '%20')\n",
    "        since = start_date.strftime('%Y-%m-%d')\n",
    "        until = end_date.strftime('%Y-%m-%d')\n",
    "\n",
    "        query = f\"\"\"q={search_string}since%3A{since}&until%3A{until}&count=100\"\"\"\n",
    "\n",
    "        try:\n",
    "            results = api.GetSearch(raw_query=query, count=15)\n",
    "            if results:\n",
    "                df_result = pd.DataFrame.from_dict([t._json for t in results])\n",
    "            else:\n",
    "                print(f'found no tweets for {company_name}')\n",
    "                df_result = None\n",
    "        except Exception:\n",
    "            print(f'request failed for {company_name}')\n",
    "            df_result = None\n",
    "            \n",
    "        if df_result is not None:\n",
    "            df_result = df_result.assign(company_id=company_id).assign(company_name=company_name)\n",
    "\n",
    "        dict_tweets[campaign_id] = df_result\n",
    "    \n",
    "df_tweets = pd.concat(dict_tweets, names=['campaign_id'], sort=False).reset_index()\n",
    "df_tweet_count = df_tweets.groupby(['campaign_id', 'company_id', 'company_name']).text.count().to_frame('tweet_count').reset_index()"
   ]
  },
  {
   "cell_type": "code",
   "execution_count": null,
   "metadata": {},
   "outputs": [],
   "source": [
    "df_tweets = pd.concat(dict_tweets, names=['campaign_id'], sort=False).reset_index()\n",
    "df_tweet_count = df_tweets.groupby(['campaign_id', 'company_id', 'company_name']).text.count().to_frame('tweet_count').reset_index()"
   ]
  },
  {
   "cell_type": "code",
   "execution_count": null,
   "metadata": {},
   "outputs": [],
   "source": [
    "df_tweets.head()"
   ]
  },
  {
   "cell_type": "code",
   "execution_count": null,
   "metadata": {},
   "outputs": [],
   "source": [
    "df_tweet_count"
   ]
  },
  {
   "cell_type": "code",
   "execution_count": null,
   "metadata": {},
   "outputs": [],
   "source": [
    "df_tweets.to_csv('../data/twitter_tweets.csv')"
   ]
  },
  {
   "cell_type": "code",
   "execution_count": null,
   "metadata": {},
   "outputs": [],
   "source": [
    "df_tweet_count.to_csv('../data/twitter_count.csv')"
   ]
  },
  {
   "cell_type": "markdown",
   "metadata": {},
   "source": [
    "# Pricing"
   ]
  },
  {
   "cell_type": "code",
   "execution_count": null,
   "metadata": {},
   "outputs": [],
   "source": [
    "df_pricing = pd.read_csv('../data/clean_factset_pricing.csv')"
   ]
  },
  {
   "cell_type": "code",
   "execution_count": null,
   "metadata": {},
   "outputs": [],
   "source": [
    "len(df_pricing)"
   ]
  },
  {
   "cell_type": "code",
   "execution_count": null,
   "metadata": {},
   "outputs": [],
   "source": [
    "len(df_pricing.company_id.unique())"
   ]
  },
  {
   "cell_type": "markdown",
   "metadata": {},
   "source": [
    "# Campaigns\n",
    "\n",
    "Keyed by `(campaign_id, activist_id, company_id)`."
   ]
  },
  {
   "cell_type": "code",
   "execution_count": null,
   "metadata": {},
   "outputs": [],
   "source": [
    "df_clean.campaign_id.nunique()"
   ]
  },
  {
   "cell_type": "code",
   "execution_count": null,
   "metadata": {},
   "outputs": [],
   "source": [
    "df_campaign = (\n",
    "    df_clean\n",
    "    .groupby('campaign_id')\n",
    "    .last()\n",
    "    .reset_index()\n",
    ")"
   ]
  },
  {
   "cell_type": "code",
   "execution_count": null,
   "metadata": {},
   "outputs": [],
   "source": [
    "df_campaign.head(5)"
   ]
  },
  {
   "cell_type": "code",
   "execution_count": null,
   "metadata": {},
   "outputs": [],
   "source": [
    "df_campaign.groupby('campaign_objective_primary').campaign_id.count().sort_values(ascending=False).to_frame('count')"
   ]
  },
  {
   "cell_type": "code",
   "execution_count": null,
   "metadata": {},
   "outputs": [],
   "source": [
    "df_campaign.groupby('value_demand').campaign_id.count().sort_values(ascending=False).to_frame('count')"
   ]
  },
  {
   "cell_type": "code",
   "execution_count": null,
   "metadata": {},
   "outputs": [],
   "source": [
    "df_campaign.groupby('governance_demand').campaign_id.count().sort_values(ascending=False).to_frame('count')"
   ]
  },
  {
   "cell_type": "code",
   "execution_count": null,
   "metadata": {},
   "outputs": [],
   "source": [
    "df_campaign[[c for c in df_campaign if 'return' in c]].describe()"
   ]
  },
  {
   "cell_type": "markdown",
   "metadata": {},
   "source": [
    "# Tactics\n",
    "\n",
    "Keyed by `(campaign_id, activist_id, company_id, activist_campaign_tactic)`."
   ]
  },
  {
   "cell_type": "code",
   "execution_count": null,
   "metadata": {},
   "outputs": [],
   "source": [
    "def clean_column_name(column_name):\n",
    "    return (\n",
    "        column_name\n",
    "        .strip()\n",
    "        .lower()\n",
    "        .replace(' ', '_')\n",
    "        .replace('-', '_')\n",
    "        .replace('\\n', '_')\n",
    "        .replace('(', '')\n",
    "        .replace(')', '')\n",
    "        .replace('%', 'pecent')\n",
    "        .replace('/', '_or_')\n",
    "        .replace('?', '')\n",
    "        .replace('__', '_')\n",
    "        .replace('_dates', '_date')\n",
    "        .replace('_announcements', '_announcement')\n",
    "        .replace('pre_date', 'pre')\n",
    "        .replace('post_date', 'post')\n",
    "        .replace('18_months_pre', 'pre_18m')\n",
    "        .replace('1_year_pre', 'pre_12m')\n",
    "        .replace('6_months_pre', 'pre_6m')\n",
    "        .replace('90_days_pre', 'pre_3m')\n",
    "        .replace('18_months_post', 'post_18m')\n",
    "        .replace('1_year_post', 'post_12m')\n",
    "        .replace('6_months_post', 'post_6m')\n",
    "        .replace('90_days_post', 'post_3m')        \n",
    "    )\n",
    "\n",
    "df_tactic = (\n",
    "    df_clean\n",
    "    .groupby('campaign_id')\n",
    "    [\n",
    "        'activist_id',\n",
    "        'company_id',\n",
    "        'activist_campaign_tactic'\n",
    "    ]\n",
    "    .last()\n",
    "    .reset_index()\n",
    "    .assign(activist_campaign_tactic=lambda df: df.activist_campaign_tactic.fillna('No or Unknown'))\n",
    "    .assign(activist_campaign_tactic=lambda df: df.activist_campaign_tactic.str.split(', '))\n",
    "    .explode('activist_campaign_tactic')\n",
    "    .assign(activist_campaign_tactic_indicator=1)\n",
    ")"
   ]
  },
  {
   "cell_type": "code",
   "execution_count": null,
   "metadata": {},
   "outputs": [],
   "source": [
    "df_tactic.head()"
   ]
  },
  {
   "cell_type": "code",
   "execution_count": null,
   "metadata": {},
   "outputs": [],
   "source": [
    "df_tactic.groupby('activist_campaign_tactic').campaign_id.count().sort_values(ascending=False).to_frame('count').to_clipboard()"
   ]
  },
  {
   "cell_type": "markdown",
   "metadata": {},
   "source": [
    "# Activists\n",
    "\n",
    "Keyed by `(activist_id)`."
   ]
  },
  {
   "cell_type": "code",
   "execution_count": null,
   "metadata": {},
   "outputs": [],
   "source": [
    "df_clean.activist_id.nunique()"
   ]
  },
  {
   "cell_type": "code",
   "execution_count": null,
   "metadata": {},
   "outputs": [],
   "source": [
    "df_activist = (\n",
    "    df_clean\n",
    "    .groupby('activist_id')\n",
    "    ['activist_name', 'activist_group']\n",
    "    .last()\n",
    "    .reset_index()\n",
    ")\n",
    "\n",
    "df_activist.head(5)"
   ]
  },
  {
   "cell_type": "code",
   "execution_count": null,
   "metadata": {},
   "outputs": [],
   "source": [
    "(\n",
    "    pd.merge(\n",
    "        df_activist,\n",
    "        df_campaign.groupby('activist_id').campaign_id.count().to_frame('campaign_count'),\n",
    "        how='left',\n",
    "        on=['activist_id']\n",
    "    )\n",
    "    .sort_values(by='campaign_count', ascending=False)\n",
    "    .head(10)\n",
    ")"
   ]
  },
  {
   "cell_type": "markdown",
   "metadata": {},
   "source": [
    "# Targets\n",
    "\n",
    "Keyed by `(company_id)`."
   ]
  },
  {
   "cell_type": "code",
   "execution_count": null,
   "metadata": {},
   "outputs": [],
   "source": [
    "df_clean.company_id.nunique()"
   ]
  },
  {
   "cell_type": "code",
   "execution_count": null,
   "metadata": {},
   "outputs": [],
   "source": [
    "df_company = (\n",
    "    df_clean\n",
    "    .groupby('company_id')\n",
    "    [\n",
    "        'company_name',\n",
    "        'sector',\n",
    "        'current_entity_status',\n",
    "        'current_entity_detail'\n",
    "    ]\n",
    "    .last()\n",
    "    .reset_index()\n",
    ")"
   ]
  },
  {
   "cell_type": "code",
   "execution_count": null,
   "metadata": {},
   "outputs": [],
   "source": [
    "df_company.head(10)"
   ]
  }
 ],
 "metadata": {
  "kernelspec": {
   "display_name": "Python 3",
   "language": "python",
   "name": "python3"
  },
  "language_info": {
   "codemirror_mode": {
    "name": "ipython",
    "version": 3
   },
   "file_extension": ".py",
   "mimetype": "text/x-python",
   "name": "python",
   "nbconvert_exporter": "python",
   "pygments_lexer": "ipython3",
   "version": "3.7.3"
  }
 },
 "nbformat": 4,
 "nbformat_minor": 4
}
