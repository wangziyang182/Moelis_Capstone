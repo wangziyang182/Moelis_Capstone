{
 "cells": [
  {
   "cell_type": "markdown",
   "metadata": {},
   "source": [
    "# Assumptions:\n",
    "1. Assume we know the number of board seats sought at the time of success prediction. For records with non-zero number of board seats sought, we assume missing in number of board seats gained mean zero. (Fact: number of board seats gained does not have zero in it.)\n",
    "2. Assume all the information in X is available before announncement\n",
    "3. For board seat control, define seat gained ratio as number of board seat gained over number of board seat sought. Define seat gained success as success if seat gained ratio is equal or greater than one, partial success if seat gained ratio is larger than zero but smaller than one, and fail if seat gained ratio is zero.\n",
    "4. For total number of board seats being zero, we assume it's missing value."
   ]
  },
  {
   "cell_type": "code",
   "execution_count": 1,
   "metadata": {},
   "outputs": [],
   "source": [
    "import numpy as np\n",
    "import pathlib as pa\n",
    "import os\n",
    "import pandas as pd\n",
    "import tensorflow as tf\n",
    "import seaborn as sns\n",
    "import warnings\n",
    "warnings.filterwarnings('ignore')\n",
    "\n",
    "#Preprocessing\n",
    "from sklearn.model_selection import train_test_split,GridSearchCV\n",
    "from sklearn.model_selection import StratifiedShuffleSplit\n",
    "import sklearn.model_selection as ms\n",
    "from sklearn.preprocessing import LabelEncoder, StandardScaler, OneHotEncoder\n",
    "import category_encoders as ce\n",
    "from sklearn.metrics import accuracy_score\n",
    "from sklearn.compose import ColumnTransformer, make_column_transformer\n",
    "from sklearn.impute import SimpleImputer\n",
    "from sklearn.pipeline import make_pipeline\n",
    "from imblearn.over_sampling import SMOTE\n",
    "from imblearn.over_sampling import SMOTENC\n",
    "from sklearn.preprocessing import label_binarize\n",
    "from sklearn.metrics import confusion_matrix\n",
    "\n",
    "#Model\n",
    "from xgboost import XGBClassifier\n",
    "from sklearn import svm\n",
    "from sklearn.linear_model import LogisticRegression\n",
    "from sklearn.svm import LinearSVC\n",
    "from sklearn.neighbors import NearestCentroid\n",
    "from sklearn.linear_model import LogisticRegression\n",
    "from sklearn.naive_bayes import MultinomialNB\n",
    "from sklearn.ensemble import RandomForestClassifier, VotingClassifier\n",
    "from sklearn.metrics import precision_score\n",
    "\n",
    "import matplotlib.pyplot as plt\n"
   ]
  },
  {
   "cell_type": "code",
   "execution_count": 2,
   "metadata": {},
   "outputs": [],
   "source": [
    "BASE_DIR = pa.Path(os.path.abspath('')).parent\n",
    "DATA_DIR = BASE_DIR.joinpath('data')\n",
    "WORK_DIR = BASE_DIR.joinpath('Model')"
   ]
  },
  {
   "cell_type": "code",
   "execution_count": 3,
   "metadata": {},
   "outputs": [],
   "source": [
    "# read in data\n",
    "all_data_csv = list(DATA_DIR.glob('**/*.csv'))\n",
    "all_data_csv = [str(path) for path in all_data_csv]\n",
    "\n",
    "all_data_txt = list(DATA_DIR.glob('**/*.txt'))\n",
    "all_data_txt = [str(path) for path in all_data_txt]\n",
    "\n",
    "BASE_DATA =pd.read_csv(all_data_csv[1])\n",
    "# BASE_DATA =pd.read_csv(all_data_csv[1])\n",
    "\n",
    "# price_histroy = pd.read_csv(all_data_txt[0])\n",
    "\n",
    "full_name = list(BASE_DATA.keys())"
   ]
  },
  {
   "cell_type": "code",
   "execution_count": 6,
   "metadata": {},
   "outputs": [
    {
     "name": "stdout",
     "output_type": "stream",
     "text": [
      "Board seat gain success composition:\n",
      " Fail               1036\n",
      "Success             433\n",
      "Partial_success     391\n",
      "Name: seat_gained_success, dtype: int64\n",
      "\n",
      "Original proxy_campaign_winner_or_result composition:\n",
      " Missing                     5168\n",
      "Settled/Concessions Made     672\n",
      "Management                   500\n",
      "Withdrawn                    432\n",
      "Dissident                    329\n",
      "Split                         54\n",
      "Pending                       39\n",
      "Name: proxy_campaign_winner_or_result, dtype: int64\n",
      "\n",
      "Grouped proxy_campaign_winner_or_result composition:\n",
      " Missing       5168\n",
      "Dissident     1055\n",
      "Management     932\n",
      "Name: proxy_result, dtype: int64\n"
     ]
    }
   ],
   "source": [
    "# Group governance_demand as in governance_demand prediction\n",
    "BASE_DATA['governance_demand'][BASE_DATA['governance_demand'] == 'Board Seats (activist group)'] = 'Board'\n",
    "BASE_DATA['governance_demand'][BASE_DATA['governance_demand'] == 'Other Governance Enhancements'] = 'Operations'\n",
    "BASE_DATA['governance_demand'][BASE_DATA['governance_demand'] == 'Compensation Related Enhancements'] = 'Operations'\n",
    "BASE_DATA['governance_demand'][BASE_DATA['governance_demand'] == 'Remove Director(s)'] = 'Officer_Demand'\n",
    "BASE_DATA['governance_demand'][BASE_DATA['governance_demand'] == 'Social/Environmental/Political Issues'] = 'Operations'\n",
    "BASE_DATA['governance_demand'][BASE_DATA['governance_demand'] == 'Remove Takeover Defenses'] = 'Operations'\n",
    "BASE_DATA['governance_demand'][BASE_DATA['governance_demand'] == 'Add Independent Directors'] = 'Officer_Demand'\n",
    "BASE_DATA['governance_demand'][BASE_DATA['governance_demand'] == 'Remove Officer(s)'] = 'Officer_Demand'\n",
    "\n",
    "\n",
    "BASE_DATA['value_demand'][BASE_DATA['value_demand'] == 'Other Capital Structure Related, Increase Leverage, etc.'] = 'Operation'\n",
    "BASE_DATA['value_demand'][BASE_DATA['value_demand'] == 'Breakup Company, Divest Assets/Divisions'] = 'Operation'\n",
    "BASE_DATA['value_demand'][BASE_DATA['value_demand'] == 'Fund specific: Realize Net Asset Value/Open-End a Closed-End Fund'] = 'Operation'\n",
    "BASE_DATA['value_demand'][BASE_DATA['value_demand'] == 'Fund specific: Change Investment Strategy'] = 'Operation'\n",
    "BASE_DATA['value_demand'][BASE_DATA['value_demand'] == 'General Discussions/Underperformance'] = 'Operation'\n",
    "BASE_DATA['value_demand'][BASE_DATA['value_demand'] == 'Review Strategic Alternatives'] = 'Operation'\n",
    "BASE_DATA['value_demand'][BASE_DATA['value_demand'] == 'Block Acquisition/Agitate for Lower Price (Shareholder of Acquirer)'] = 'MA'\n",
    "BASE_DATA['value_demand'][BASE_DATA['value_demand'] == 'Seek Sale/Merger/Liquidation'] = 'MA'\n",
    "BASE_DATA['value_demand'][BASE_DATA['value_demand'] == 'Block Merger/Agitate for Higher Price (Shareholder of Target)'] = 'MA'\n",
    "BASE_DATA['value_demand'][BASE_DATA['value_demand'] == 'Potential Acquisition (Friendly and Unfriendly)'] = 'MA'\n",
    "BASE_DATA['value_demand'][BASE_DATA['value_demand'] == 'Return Cash via Dividends/Buybacks'] = 'Operation'\n",
    "BASE_DATA['value_demand'][BASE_DATA['value_demand'] == 'Separate Real Estate/Create REIT'] = 'Operation'\n",
    "\n",
    "#WATCH OUT!!!!!!!!!!!!!!!!!!!!!!!!!!!!!\n",
    "BASE_DATA = BASE_DATA[BASE_DATA['campaign_objective_primary'] != '13D Filer - No Publicly Disclosed Activism']\n",
    "BASE_DATA = BASE_DATA[BASE_DATA['campaign_objective_primary'] != 'Remove Director(s), No Dissident Nominee to Fill Vacancy']\n",
    "BASE_DATA = BASE_DATA[BASE_DATA['campaign_objective_primary'] != 'Remove Officer(s)']\n",
    "BASE_DATA = BASE_DATA[BASE_DATA['campaign_objective_primary'] != 'Public Short Position/Bear Raid']\n",
    "BASE_DATA = BASE_DATA[BASE_DATA['campaign_objective_primary'] != 'Vote For a Management Proposal/Support Management']\n",
    "\n",
    "\n",
    "BASE_DATA['campaign_objective_primary'][BASE_DATA['campaign_objective_primary'] == 'Board Representation'] = 'Add_Directors'\n",
    "BASE_DATA['campaign_objective_primary'][BASE_DATA['campaign_objective_primary'] == 'Board Control'] = 'Add_Directors'\n",
    "BASE_DATA['campaign_objective_primary'][BASE_DATA['campaign_objective_primary'] == 'Maximize Shareholder Value'] = 'Generic_Objective'\n",
    "BASE_DATA['campaign_objective_primary'][BASE_DATA['campaign_objective_primary'] == 'Enhance Corporate Governance'] = 'Generic_Objective'\n",
    "BASE_DATA['campaign_objective_primary'][BASE_DATA['campaign_objective_primary'] == 'Hostile/Unsolicited Acquisition'] = 'Facilitate_MA'\n",
    "BASE_DATA['campaign_objective_primary'][BASE_DATA['campaign_objective_primary'] == 'Vote/Activism Against a Merger'] = 'Block_MA'\n",
    "BASE_DATA['campaign_objective_primary'][BASE_DATA['campaign_objective_primary'] == 'Vote For a Stockholder Proposal'] = 'Vote_For_Dissident'\n",
    "BASE_DATA['campaign_objective_primary'][BASE_DATA['campaign_objective_primary'] == 'Vote Against a Management Proposal'] = 'Vote_For_Dissident'\n",
    "BASE_DATA['campaign_objective_primary'][BASE_DATA['campaign_objective_primary'] == 'Support Dissident Group in Proxy Fight'] = 'Vote_For_Dissident'\n",
    "\n",
    "type_adj = ['used_call_special_meeting_tactic',    \n",
    "'used_hostile_offer_tactic',                                       \n",
    "'used_lawsuit_tactic',                                             \n",
    "'used_letter_to_stockholders_tactic',                              \n",
    "'used_no_or_unknown_tactic',                                       \n",
    "'used_nominate_slate_of_directors_tactic',                         \n",
    "'used_propose_binding_proposal_tactic',                            \n",
    "'used_propose_precatory_proposal_tactic',                          \n",
    "'used_proxy_access_nomination_tactic',                             \n",
    "'used_publicly_disclosed_letter_to_board_or_management_tactic',    \n",
    "'used_take_action_by_written_consent_tactic',                      \n",
    "'used_tender_offer_launched_tactic',                               \n",
    "'used_tender_offer_stake_only_tactic',                             \n",
    "'used_threaten_proxy_fight_tactic',                                \n",
    "'used_unsolicited_offer_tactic',                                   \n",
    "'used_withhold_vote_for_directors_tactic']                       \n",
    "BASE_DATA[type_adj] = BASE_DATA[type_adj].astype('object')\n",
    "\n",
    "BASE_DATA = BASE_DATA.reset_index(drop = True)\n",
    "\n",
    "\n",
    "# Get rid of extreme value of ltm_eps_at_announcement\n",
    "eps_col = BASE_DATA.columns == 'ltm_eps_at_announcement'\n",
    "eps = BASE_DATA.loc[:,eps_col]\n",
    "low = .05\n",
    "high = .95\n",
    "quant_df = eps.quantile([low, high])\n",
    "eps = eps.apply(lambda x: x[(x.dtypes == 'float64') & (x>= quant_df.loc[low,x.name]) & (x <= quant_df.loc[high,x.name]) | (x.isnull())], axis=0)\n",
    "BASE_DATA = pd.concat([BASE_DATA.loc[:,~eps_col], eps], join = 'inner',axis=1)\n",
    "# Shape after deleting extreme value of ltm_eps_at_announcement\n",
    "BASE_DATA.shape\n",
    "\n",
    "# Hand picked X variables that do not leak information\n",
    "X = ['campaign_objective_primary','value_demand','governance_demand','proxy_proposal',\\\n",
    "     'sector','total_number_of_board_seats',\\\n",
    "     'glass_lewis_support','iss_support','ownership_pecent_on_announcement','price_at_announcement',\\\n",
    "     'ltm_eps_at_announcement','earnings_yield_at_announcement','current_entity_detail','current_entity_status',\\\n",
    "     'public_before_or_after_campaign_announcement','poison_pill_in_force_prior_to_announcement',\\\n",
    "     'pre_18m_earnings_yield','pre_12m_earnings_yield','pre_6m_earnings_yield','pre_3m_earnings_yield',\n",
    "     'pre_18m_total_return', 'pre_6m_residual_return','pre_12m_residual_return','pre_18m_residual_return',\n",
    "     'used_call_special_meeting_tactic',\n",
    "     'used_hostile_offer_tactic',\n",
    "     'used_lawsuit_tactic',\n",
    "     'used_letter_to_stockholders_tactic',\n",
    "     'used_no_or_unknown_tactic',\n",
    "     'used_nominate_slate_of_directors_tactic',\n",
    "     'used_propose_binding_proposal_tactic',\n",
    "     'used_propose_precatory_proposal_tactic',\n",
    "     'used_proxy_access_nomination_tactic',\n",
    "     'used_publicly_disclosed_letter_to_board_or_management_tactic',\n",
    "     'used_take_action_by_written_consent_tactic',\n",
    "     'used_tender_offer_launched_tactic',\n",
    "     'used_tender_offer_stake_only_tactic',\n",
    "     'used_threaten_proxy_fight_tactic',\n",
    "     'used_unsolicited_offer_tactic', \n",
    "     'used_withhold_vote_for_directors_tactic'\n",
    "    ]\n",
    "\n",
    "# Y1 as grouped proxy_campaign_winner_or_result \n",
    "Y = ['proxy_result']\n",
    "# Y2 = ['success', 'partial success', 'fail'] if \n",
    "# board seat ratio >= 1, 0 < board seat ratio < 1, board seat ratio = 0\n",
    "# board seat ratio = number of board seats gained / number of board seats sought\n",
    "Y2 = ['seat_gained_success']\n",
    "\n",
    "\n",
    "# Group categories with small counts\n",
    "for col in ['proxy_proposal', 'current_entity_detail']:\n",
    "    series_value_counts = BASE_DATA[col].value_counts()\n",
    "    keys = dict(series_value_counts[series_value_counts<100]).keys()\n",
    "    for key in keys:\n",
    "        BASE_DATA[col][BASE_DATA[col] == key] = 'others'\n",
    "        \n",
    "BASE_DATA_ = BASE_DATA.copy()\n",
    "\n",
    "# Define Y2\n",
    "BASE_DATA_ = BASE_DATA_[BASE_DATA_['number_of_board_seats_sought'] != 0]\n",
    "BASE_DATA_['seat_gained_ratio'] = BASE_DATA_['number_of_board_seats_gained'] / BASE_DATA_['number_of_board_seats_sought']\n",
    "BASE_DATA_['seat_gained_ratio'][BASE_DATA_['seat_gained_ratio'] == np.nan] = 0\n",
    "BASE_DATA_['seat_gained_ratio'] = BASE_DATA_['seat_gained_ratio'].fillna(0)\n",
    "\n",
    "BASE_DATA_['seat_gained_success'] = np.nan\n",
    "BASE_DATA_['seat_gained_success'][BASE_DATA_['seat_gained_ratio'] == 0] = 'Fail'\n",
    "BASE_DATA_['seat_gained_success'][(BASE_DATA_['seat_gained_ratio'] > 0) & (BASE_DATA_['seat_gained_ratio'] < 1)] = 'Partial_success'\n",
    "BASE_DATA_['seat_gained_success'][BASE_DATA_['seat_gained_ratio'] >= 1] = 'Success'\n",
    "\n",
    "df_board_seats = BASE_DATA_[X + Y2].copy()\n",
    "\n",
    "# Show seat gained success composition\n",
    "print('Board seat gain success composition:\\n', \n",
    "      df_board_seats['seat_gained_success'].value_counts())\n",
    "\n",
    "# Get whether variable is categorical\n",
    "cate = BASE_DATA[X].dtypes == object\n",
    "cate_name = BASE_DATA[X].select_dtypes(include=['object']).columns\n",
    "num_name = BASE_DATA[X].select_dtypes(exclude=['object']).columns\n",
    "\n",
    "cate_seats = df_board_seats[X].dtypes == object\n",
    "\n",
    "\n",
    "# Fill missing proxy_campaign_winner_or_result as Missing\n",
    "BASE_DATA['proxy_campaign_winner_or_result'] = BASE_DATA['proxy_campaign_winner_or_result'].fillna('Missing')\n",
    "\n",
    "# Show proxy_campaign_winner_or_result composition\n",
    "print('\\nOriginal proxy_campaign_winner_or_result composition:\\n', \n",
    "      BASE_DATA['proxy_campaign_winner_or_result'].value_counts())\n",
    "\n",
    "# Group proxy_campaign_winner_or_result into three levels: Missing, Dissident, and Management\n",
    "BASE_DATA['proxy_result'] = np.nan\n",
    "BASE_DATA['proxy_result'][BASE_DATA['proxy_campaign_winner_or_result'] == 'Missing'] = 'Missing'\n",
    "BASE_DATA['proxy_result'][BASE_DATA['proxy_campaign_winner_or_result'] == 'Settled/Concessions Made'] = 'Dissident'\n",
    "BASE_DATA['proxy_result'][BASE_DATA['proxy_campaign_winner_or_result'] == 'Withdrawn'] = 'Management'\n",
    "BASE_DATA['proxy_result'][BASE_DATA['proxy_campaign_winner_or_result'] == 'Dissident'] = 'Dissident'\n",
    "BASE_DATA['proxy_result'][BASE_DATA['proxy_campaign_winner_or_result'] == 'Split'] = 'Dissident'\n",
    "BASE_DATA['proxy_result'][BASE_DATA['proxy_campaign_winner_or_result'] == 'Management'] = 'Management'\n",
    "\n",
    "# Drop any record with missing proxy_result, which are records with proxy_campaign_winner_or_result == Pending\n",
    "# df = BASE_DATA[X + Y].copy()\n",
    "df = BASE_DATA.dropna(how = 'any',subset=['proxy_result'])\n",
    "\n",
    "# Show proxy_result composition after grouping\n",
    "print('\\nGrouped proxy_campaign_winner_or_result composition:\\n', df['proxy_result'].value_counts())\n",
    "\n",
    "# Get feature name after one-hot encoding\n",
    "hot = OneHotEncoder(handle_unknown='ignore')\n",
    "hot.fit_transform(df_board_seats[X].select_dtypes(include = 'object').replace(np.nan,'Missing'))\n",
    "hot.get_feature_names()\n",
    "combine_seat = list(num_name) + hot.get_feature_names().tolist()\n",
    "\n",
    "# Get feature name after one-hot encoding\n",
    "hot = OneHotEncoder(handle_unknown='ignore')\n",
    "hot.fit_transform(df[X].select_dtypes(include = 'object').replace(np.nan,'Missing'))\n",
    "hot.get_feature_names()\n",
    "combine_proxy = list(num_name) + hot.get_feature_names().tolist()"
   ]
  },
  {
   "cell_type": "markdown",
   "metadata": {},
   "source": [
    "## Complete case analysis on proxy winner or results"
   ]
  },
  {
   "cell_type": "code",
   "execution_count": 7,
   "metadata": {},
   "outputs": [],
   "source": [
    "df2 = df[df['proxy_result'] != 'Missing']"
   ]
  },
  {
   "cell_type": "markdown",
   "metadata": {},
   "source": [
    "## Proxy result\n",
    "    Assume all the information in X is available before announncement\n",
    "    \n"
   ]
  },
  {
   "cell_type": "markdown",
   "metadata": {},
   "source": [
    "## Note:\n",
    "We grouped proxy_campaign_winner_or_result into the following categories:\n",
    "    - Missing\n",
    "    - Dissident\n",
    "        - Settled/Concessions Made\n",
    "        - Dissident\n",
    "        - Split (dissident's partial success, so also count as dissident)\n",
    "    - Manamgent\n",
    "        - Managment\n",
    "        - Withdrawn\n",
    "    - Delete Pending records"
   ]
  },
  {
   "cell_type": "markdown",
   "metadata": {},
   "source": [
    "# Data preprocessing"
   ]
  },
  {
   "cell_type": "markdown",
   "metadata": {},
   "source": [
    "### Utility"
   ]
  },
  {
   "cell_type": "code",
   "execution_count": 74,
   "metadata": {},
   "outputs": [],
   "source": [
    "def balanced_subsample(x,y,subsample_size=1.0):\n",
    "\n",
    "    class_xs = []\n",
    "    min_elems = None\n",
    "\n",
    "    for yi in np.unique(y):\n",
    "        elems = x[(y == yi)]\n",
    "        class_xs.append((yi, elems))\n",
    "        if min_elems == None or elems.shape[0] < min_elems:\n",
    "            min_elems = elems.shape[0]\n",
    "\n",
    "    use_elems = min_elems\n",
    "    if subsample_size < 1:\n",
    "        use_elems = int(min_elems*subsample_size)\n",
    "\n",
    "    xs = []\n",
    "    ys = []\n",
    "\n",
    "    for ci,this_xs in class_xs:\n",
    "        if len(this_xs) > use_elems:\n",
    "            np.random.shuffle(this_xs)\n",
    "\n",
    "        x_ = this_xs[:use_elems]\n",
    "        y_ = np.empty(use_elems)\n",
    "        y_.fill(ci)\n",
    "\n",
    "        xs.append(x_)\n",
    "        ys.append(y_)\n",
    "\n",
    "    xs = np.concatenate(xs)\n",
    "    ys = np.concatenate(ys)\n",
    "\n",
    "    return xs,ys\n",
    "\n",
    "\n",
    "def produce_confusion_matrix(x_test,y_test,col,model):\n",
    "    pred = model.predict(x_test)\n",
    "    matrix = confusion_matrix(y_test, pred, labels=y_test[col].unique())\n",
    "    # By definition a confusion matrix C is such that Cij is equal to the number of observations \n",
    "    # known to be in group i but predicted to be in group j.\n",
    "    # Thus in binary classification, the count of true negatives is C0,0, false negatives is C1,0, \n",
    "    # true positives is C1,1 and false positives is C0,1.\n",
    "    precision = [matrix[i,i] / sum(matrix[:,i]) for i in range(matrix.shape[1])]\n",
    "    recall = [matrix[i,i] / sum(matrix[i,:]) for i in range(matrix.shape[1])]\n",
    "    d1 = pd.DataFrame(precision, columns=['Precision'], index = y_test[col].unique())\n",
    "    d2 = pd.DataFrame(recall, columns=['Recall'], index = y_test[col].unique())\n",
    "    precision_recall = pd.concat([d1,d2], axis=1)\n",
    "    return matrix, precision_recall\n",
    "    \n",
    "def plot_feature_importance(classifier,df_board_seats,model_name,x_train,y_train,use_coef = True):\n",
    "    classifier.fit(x_train,y_train)\n",
    "    \n",
    "    # Get feature name after one-hot encoding\n",
    "    hot = OneHotEncoder(handle_unknown='ignore')\n",
    "    hot.fit_transform(df_board_seats[X].select_dtypes(include = 'object').replace(np.nan,'Missing'))\n",
    "    hot.get_feature_names()\n",
    "    combine = list(num_name) + hot.get_feature_names().tolist()\n",
    "    # Get top 20 important features\n",
    "    if use_coef:\n",
    "        feature_importance_dict = dict(zip(combine, classifier.coef_[0]))\n",
    "    else:\n",
    "        feature_importance_dict = dict(zip(combine, classifier.feature_importances_))\n",
    "    top_20_important = {k:v for k,v in sorted(feature_importance_dict.items(), key=lambda x: x[1], reverse=True)[:20]}\n",
    "    name = [item for item in top_20_important]\n",
    "    importance = [top_20_important[item] for item in top_20_important]\n",
    "\n",
    "    # Plot top 20 important features\n",
    "    if use_coef:\n",
    "        _=plt.figure(figsize=(20,10))\n",
    "        _=plt.scatter(name,importance)\n",
    "        _=plt.xticks(rotation='vertical')\n",
    "        _=plt.title('Top 20 Coefficients for ' + model_name)\n",
    "        _=plt.xlabel('Features')\n",
    "        _=plt.ylabel('coefficient')\n",
    "    else:\n",
    "        _=plt.figure(figsize=(20,10))\n",
    "        _=plt.scatter(name,importance)\n",
    "        _=plt.xticks(rotation='vertical')\n",
    "        _=plt.title('Top 20 Feature Importance for ' + model_name)\n",
    "        _=plt.xlabel('Features')\n",
    "        _=plt.ylabel('Importance')\n",
    "        \n",
    "    return top_20_important\n",
    "        \n",
    "def cat_direction_assessment(col,model,x_train,combine,y = 'board_seat_gained_success'):\n",
    "    temp = pd.DataFrame(x_train)\n",
    "    temp.columns = combine\n",
    "    temp[y] = pd.DataFrame({y:model.predict(temp)}).reset_index(drop = True)\n",
    "    temp = temp[(temp[col] == 0.0) | (temp[col] == 1.0)]\n",
    "    print(temp.groupby(col)[y].value_counts().to_frame())\n",
    "    print('\\n')\n",
    "\n",
    "    temp = pd.DataFrame(x_train)\n",
    "    temp.columns = combine\n",
    "    temp[col] = 0\n",
    "    temp[y] = pd.DataFrame({y:model.predict(temp)}).reset_index(drop = True)    \n",
    "    print(temp.groupby(col)[y].value_counts().to_frame())\n",
    "    print('\\n')\n",
    "\n",
    "    temp = pd.DataFrame(x_train)\n",
    "    temp.columns = combine\n",
    "    temp[col] = 1\n",
    "    temp[y] = pd.DataFrame({'y':model.predict(temp)}).reset_index(drop = True)\n",
    "    print(temp.groupby(col)[y].value_counts().to_frame())"
   ]
  },
  {
   "cell_type": "markdown",
   "metadata": {},
   "source": [
    "## Preprocessing_Pipeline"
   ]
  },
  {
   "cell_type": "code",
   "execution_count": 9,
   "metadata": {},
   "outputs": [
    {
     "name": "stdout",
     "output_type": "stream",
     "text": [
      "x_train, y_train shape before up-sampling:\n",
      " (5724, 104) (5724, 1)\n",
      "\n",
      "proxy_result composition before up-sampling:\n",
      " Missing       4138\n",
      "Dissident      843\n",
      "Management     743\n",
      "Name: proxy_result, dtype: int64\n",
      "\n",
      "seat_gained_success composition before up-sampling:\n",
      " Fail               820\n",
      "Success            337\n",
      "Partial_success    331\n",
      "Name: seat_gained_success, dtype: int64\n",
      "\n",
      "x_train, y_train shape after up-sampling:\n",
      " (12414, 104) (12414,)\n",
      "\n",
      "proxy_result composition after up-sampling:\n",
      " {'Dissident': 4138, 'Management': 4138, 'Missing': 4138}\n",
      "\n",
      "seat_gained_success composition after up-sampling:\n",
      " {'Fail': 820, 'Partial_success': 820, 'Success': 820}\n"
     ]
    }
   ],
   "source": [
    "# SMOTE\n",
    "sm = SMOTENC(random_state=42, categorical_features=cate)\n",
    "\n",
    "# Impute missing numerical variable as -9999\n",
    "pipeline_component = make_pipeline(StandardScaler(), SimpleImputer(missing_values = np.nan, strategy = 'constant',fill_value = -9999))\n",
    "\n",
    "# Impute missing categorical variable as NA and do One-Hot Encoding\n",
    "pipeline_component_cate = make_pipeline(SimpleImputer(missing_values = np.nan, strategy = 'constant',\n",
    "                                                      fill_value = 'NA'),\n",
    "                                          (OneHotEncoder(handle_unknown='ignore')))\n",
    "\n",
    "# Combine numerical and categorical variables preprocessing\n",
    "preprocess = make_column_transformer((pipeline_component,~cate),\n",
    "                                     (pipeline_component_cate,cate))\n",
    "\n",
    "# Perform preprocessing on data with missing y\n",
    "x_preprocessed = preprocess.fit(df[X],df[Y]).transform(df[X])\n",
    "x_preprocessed_seat = preprocess.fit(df_board_seats[X],df_board_seats[Y2]).transform(df_board_seats[X])\n",
    "\n",
    "# Perform preprocessing on data without missing y\n",
    "x_preprocessed_complete = preprocess.fit(df2[X],df2[Y]).transform(df2[X])\n",
    "\n",
    "# Perform train test split\n",
    "x_train, x_test, y_train, y_test = train_test_split(x_preprocessed, df[Y], test_size = 0.2, random_state=0)\n",
    "x_train_complete, x_test_complete, y_train_complete, y_test_complete = train_test_split(x_preprocessed_complete, \n",
    "                                                                                        df2[Y], test_size = 0.2, \n",
    "                                                                                        random_state=0)\n",
    "x_train_seat, x_test_seat, y_train_seat, y_test_seat = train_test_split(x_preprocessed_seat, df_board_seats[Y2], test_size = 0.2, random_state=0)\n",
    "\n",
    "# Print proxy_result composition before up-sampling\n",
    "print('x_train, y_train shape before up-sampling:\\n', x_train.shape, y_train.shape)\n",
    "print('\\nproxy_result composition before up-sampling:\\n',y_train['proxy_result'].value_counts())\n",
    "print('\\nseat_gained_success composition before up-sampling:\\n',y_train_seat['seat_gained_success'].value_counts())\n",
    "\n",
    "# Perform SMOTE up-sampling\n",
    "x_train, y_train = sm.fit_resample(x_train, y_train)\n",
    "x_train_complete, y_train_complete = sm.fit_resample(x_train_complete, y_train_complete)\n",
    "x_train_seat, y_train_seat = sm.fit_resample(x_train_seat, y_train_seat)\n",
    "\n",
    "# Print proxy_result composition after up-sampling\n",
    "print('\\nx_train, y_train shape after up-sampling:\\n',x_train.shape, y_train.shape)\n",
    "unique, counts = np.unique(y_train, return_counts=True)\n",
    "print('\\nproxy_result composition after up-sampling:\\n', dict(zip(unique, counts)))\n",
    "unique, counts = np.unique(y_train_seat, return_counts=True)\n",
    "print('\\nseat_gained_success composition after up-sampling:\\n', dict(zip(unique, counts)))\n",
    "      "
   ]
  },
  {
   "cell_type": "markdown",
   "metadata": {},
   "source": [
    "# Proxy_result"
   ]
  },
  {
   "cell_type": "markdown",
   "metadata": {},
   "source": [
    "## l1 penalty logistic regression"
   ]
  },
  {
   "cell_type": "code",
   "execution_count": 10,
   "metadata": {
    "scrolled": true
   },
   "outputs": [
    {
     "name": "stdout",
     "output_type": "stream",
     "text": [
      "The best parameter for Logistic is {'C': 2.0, 'solver': 'liblinear'}\n",
      "Training precision for Logistic Regression is 0.79875\n",
      "Testing precision for Logistic Regression is 0.69028\n"
     ]
    }
   ],
   "source": [
    "# Logistic regression with l1 norm\n",
    "lg_l1 = LogisticRegression(penalty = 'l1',multi_class = 'auto')\n",
    "\n",
    "# , solver = 'saga'\n",
    "# Perform grid search\n",
    "# param_grid = {'C': np.linspace(0.00000000000001, 2, 3)}\n",
    "# param_grid = {'C': np.logspace(-4, 4, 10)}\n",
    "param_grid = {'C': np.linspace(0.00000000000001, 2, 3),\n",
    "             'solver': ['saga','liblinear']}\n",
    "    \n",
    "grid = GridSearchCV(lg_l1, param_grid, cv=2, scoring = 'precision_macro')\n",
    "grid.fit(x_train, y_train)\n",
    "lg_l1_best = grid.best_estimator_\n",
    "print(\"The best parameter for Logistic is {}\".format(grid.best_params_))\n",
    "print(\"Training precision for Logistic Regression is {}\".format(round(grid.score(x_train, y_train),5)))\n",
    "print(\"Testing precision for Logistic Regression is {}\".format(round(grid.score(x_test, y_test),5)))"
   ]
  },
  {
   "cell_type": "code",
   "execution_count": 11,
   "metadata": {
    "scrolled": true
   },
   "outputs": [
    {
     "data": {
      "text/html": [
       "<div>\n",
       "<style scoped>\n",
       "    .dataframe tbody tr th:only-of-type {\n",
       "        vertical-align: middle;\n",
       "    }\n",
       "\n",
       "    .dataframe tbody tr th {\n",
       "        vertical-align: top;\n",
       "    }\n",
       "\n",
       "    .dataframe thead th {\n",
       "        text-align: right;\n",
       "    }\n",
       "</style>\n",
       "<table border=\"1\" class=\"dataframe\">\n",
       "  <thead>\n",
       "    <tr style=\"text-align: right;\">\n",
       "      <th></th>\n",
       "      <th>Precision</th>\n",
       "      <th>Recall</th>\n",
       "    </tr>\n",
       "  </thead>\n",
       "  <tbody>\n",
       "    <tr>\n",
       "      <th>Dissident</th>\n",
       "      <td>0.557769</td>\n",
       "      <td>0.660377</td>\n",
       "    </tr>\n",
       "    <tr>\n",
       "      <th>Missing</th>\n",
       "      <td>0.986408</td>\n",
       "      <td>0.986408</td>\n",
       "    </tr>\n",
       "    <tr>\n",
       "      <th>Management</th>\n",
       "      <td>0.526667</td>\n",
       "      <td>0.417989</td>\n",
       "    </tr>\n",
       "  </tbody>\n",
       "</table>\n",
       "</div>"
      ],
      "text/plain": [
       "            Precision    Recall\n",
       "Dissident    0.557769  0.660377\n",
       "Missing      0.986408  0.986408\n",
       "Management   0.526667  0.417989"
      ]
     },
     "execution_count": 11,
     "metadata": {},
     "output_type": "execute_result"
    }
   ],
   "source": [
    "conf, pre_recall = produce_confusion_matrix(x_test, y_test, 'proxy_result', grid) \n",
    "pre_recall"
   ]
  },
  {
   "cell_type": "code",
   "execution_count": 12,
   "metadata": {},
   "outputs": [
    {
     "data": {
      "image/png": "[encoded data removed]",
      "text/plain": [
       "<Figure size 1440x720 with 1 Axes>"
      ]
     },
     "metadata": {
      "needs_background": "light"
     },
     "output_type": "display_data"
    }
   ],
   "source": [
    "top_20_feature = plot_feature_importance(lg_l1_best,df,'Logistic Regression with l1 Regularization',x_train,y_train, use_coef = True)"
   ]
  },
  {
   "cell_type": "code",
   "execution_count": 13,
   "metadata": {},
   "outputs": [
    {
     "data": {
      "text/plain": [
       "{'x3_others': 2.5115078135109945,\n",
       " 'x5_Split': 2.4508540369168137,\n",
       " 'x0_Add_Directors': 2.038780672183366,\n",
       " 'x23_1': 1.2063579009632464,\n",
       " 'x6_Dissident': 1.1709456628565675,\n",
       " 'x0_Vote_For_Dissident': 0.9242645288487393,\n",
       " 'x4_Process Industries': 0.7896221867696999,\n",
       " 'x4_Commercial Services': 0.7740358423270498,\n",
       " 'x7_Public': 0.744451243522482,\n",
       " 'x3_Remove Director(s)': 0.7035031635988643,\n",
       " 'x7_Mutual Fd-Closed End': 0.6153917772153014,\n",
       " 'x2_Operations': 0.5148291748416616,\n",
       " 'x2_Missing': 0.49253161882458046,\n",
       " \"x3_Elect Dissident's Director Nominee\": 0.31947448165877046,\n",
       " 'x21_1': 0.294251084492854,\n",
       " 'x12_1': 0.23953329046703975,\n",
       " 'x4_Health Technology': 0.2296982052043088,\n",
       " \"x3_Elect Management's Director Nominee\": 0.2211671417935001,\n",
       " 'x1_MA': 0.2122002320861907,\n",
       " 'x3_Missing': 0.14452461359596888}"
      ]
     },
     "execution_count": 13,
     "metadata": {},
     "output_type": "execute_result"
    }
   ],
   "source": [
    "top_20_feature"
   ]
  },
  {
   "cell_type": "markdown",
   "metadata": {},
   "source": [
    "## Complete case"
   ]
  },
  {
   "cell_type": "code",
   "execution_count": 130,
   "metadata": {},
   "outputs": [
    {
     "name": "stdout",
     "output_type": "stream",
     "text": [
      "The best parameter for Logistic is {'C': 0.3593813663804626}\n",
      "Training balanced accuracy for Logistic Regression is 0.63529\n",
      "Testing balanced accuracy for Logistic Regression is 0.60553\n"
     ]
    }
   ],
   "source": [
    "# Logistic regression\n",
    "lg_l1 = LogisticRegression(penalty = 'l1',multi_class = 'auto')\n",
    "\n",
    "# Perform grid search\n",
    "# param_grid = {'C': np.linspace(0.00000000000001, 2, 3)}\n",
    "param_grid = {'C': np.logspace(-4, 4, 10)}\n",
    "grid = GridSearchCV(lg_l1, param_grid, cv=2)\n",
    "grid.fit(x_train_complete, y_train_complete)\n",
    "lg_l1_complete_best = grid.best_estimator_\n",
    "print(\"The best parameter for Logistic is {}\".format(grid.best_params_))\n",
    "print(\"Training balanced accuracy for Logistic Regression is {}\".format(round(grid.score(x_train_complete, y_train_complete),5)))\n",
    "print(\"Testing balanced accuracy for Logistic Regression is {}\".format(round(grid.score(x_test_complete, y_test_complete),5)))"
   ]
  },
  {
   "cell_type": "code",
   "execution_count": 131,
   "metadata": {},
   "outputs": [
    {
     "data": {
      "text/plain": [
       "array([[114,  79],\n",
       "       [ 78, 127]])"
      ]
     },
     "execution_count": 131,
     "metadata": {},
     "output_type": "execute_result"
    }
   ],
   "source": [
    "# confusion_matrix with order: ['Management', 'Dissident']\n",
    "conf, pre_recall = produce_confusion_matrix(x_test_complete, y_test_complete, 'proxy_result', grid) \n",
    "conf"
   ]
  },
  {
   "cell_type": "code",
   "execution_count": 132,
   "metadata": {
    "scrolled": true
   },
   "outputs": [
    {
     "data": {
      "text/html": [
       "<div>\n",
       "<style scoped>\n",
       "    .dataframe tbody tr th:only-of-type {\n",
       "        vertical-align: middle;\n",
       "    }\n",
       "\n",
       "    .dataframe tbody tr th {\n",
       "        vertical-align: top;\n",
       "    }\n",
       "\n",
       "    .dataframe thead th {\n",
       "        text-align: right;\n",
       "    }\n",
       "</style>\n",
       "<table border=\"1\" class=\"dataframe\">\n",
       "  <thead>\n",
       "    <tr style=\"text-align: right;\">\n",
       "      <th></th>\n",
       "      <th>Precision</th>\n",
       "      <th>Recall</th>\n",
       "    </tr>\n",
       "  </thead>\n",
       "  <tbody>\n",
       "    <tr>\n",
       "      <th>Management</th>\n",
       "      <td>0.593750</td>\n",
       "      <td>0.590674</td>\n",
       "    </tr>\n",
       "    <tr>\n",
       "      <th>Dissident</th>\n",
       "      <td>0.616505</td>\n",
       "      <td>0.619512</td>\n",
       "    </tr>\n",
       "  </tbody>\n",
       "</table>\n",
       "</div>"
      ],
      "text/plain": [
       "            Precision    Recall\n",
       "Management   0.593750  0.590674\n",
       "Dissident    0.616505  0.619512"
      ]
     },
     "execution_count": 132,
     "metadata": {},
     "output_type": "execute_result"
    }
   ],
   "source": [
    "pre_recall"
   ]
  },
  {
   "cell_type": "code",
   "execution_count": 133,
   "metadata": {},
   "outputs": [
    {
     "data": {
      "text/plain": [
       "{'x3_others': 2.3749583712159588,\n",
       " 'x0_Add_Directors': 2.0688003560653265,\n",
       " 'x5_Split': 1.4469508184794448,\n",
       " 'x6_Dissident': 1.1190693698162446,\n",
       " 'x0_Vote_For_Dissident': 1.0018472168844268,\n",
       " 'x4_Commercial Services': 0.7635926689610495,\n",
       " 'x4_Process Industries': 0.7572713225346682,\n",
       " 'x3_Remove Director(s)': 0.5749492613474648,\n",
       " 'x7_Mutual Fd-Closed End': 0.5503013524656155,\n",
       " 'x2_Operations': 0.48936358231880556,\n",
       " 'x2_Missing': 0.4068678074642119,\n",
       " 'x4_Health Technology': 0.27175764462776547,\n",
       " \"x3_Elect Dissident's Director Nominee\": 0.256063992685428,\n",
       " 'x16_1': 0.19658812277831442,\n",
       " 'x7_Public': 0.1732589129238508,\n",
       " 'x1_MA': 0.12433047394914717,\n",
       " \"x3_Elect Management's Director Nominee\": 0.12180327245923861,\n",
       " 'x3_Missing': 0.062312184929359825,\n",
       " 'total_number_of_board_seats': 0.012384028403633377,\n",
       " 'x21_1': 0.011588474120043749}"
      ]
     },
     "execution_count": 133,
     "metadata": {},
     "output_type": "execute_result"
    },
    {
     "data": {
      "image/png": "[encoded data removed]",
      "text/plain": [
       "<Figure size 1440x720 with 1 Axes>"
      ]
     },
     "metadata": {
      "needs_background": "light"
     },
     "output_type": "display_data"
    }
   ],
   "source": [
    "plot_feature_importance(grid.best_estimator_,df,'Complete Case Logistic Regression with l1 Regularization',x_train,y_train, use_coef = True)"
   ]
  },
  {
   "cell_type": "code",
   "execution_count": 138,
   "metadata": {},
   "outputs": [
    {
     "name": "stdout",
     "output_type": "stream",
     "text": [
      "                                    proxy_result\n",
      "x4_Process Industries proxy_result              \n",
      "0.0                   Missing               4030\n",
      "                      Management            3969\n",
      "                      Dissident             3951\n",
      "1.0                   Missing                133\n",
      "                      Dissident               69\n",
      "                      Management              10\n",
      "\n",
      "\n",
      "                                    proxy_result\n",
      "x4_Process Industries proxy_result              \n",
      "0                     Missing               4164\n",
      "                      Dissident             4134\n",
      "                      Management            4116\n",
      "\n",
      "\n",
      "                                    proxy_result\n",
      "x4_Process Industries proxy_result              \n",
      "1                     Dissident             6526\n",
      "                      Missing               4154\n",
      "                      Management            1734\n"
     ]
    }
   ],
   "source": [
    "cat_direction_assessment('x4_Process Industries',lg_l1_complete_best,x_train,combine_proxy,y = 'proxy_result')"
   ]
  },
  {
   "cell_type": "code",
   "execution_count": 139,
   "metadata": {},
   "outputs": [
    {
     "name": "stdout",
     "output_type": "stream",
     "text": [
      "                                   proxy_result\n",
      "x4_Health Technology proxy_result              \n",
      "0.0                  Missing               3851\n",
      "                     Management            3748\n",
      "                     Dissident             3674\n",
      "1.0                  Missing                311\n",
      "                     Dissident              153\n",
      "                     Management              58\n",
      "\n",
      "\n",
      "                                   proxy_result\n",
      "x4_Health Technology proxy_result              \n",
      "0                    Missing               4164\n",
      "                     Dissident             4133\n",
      "                     Management            4117\n",
      "\n",
      "\n",
      "                                   proxy_result\n",
      "x4_Health Technology proxy_result              \n",
      "1                    Dissident             5127\n",
      "                     Missing               4165\n",
      "                     Management            3122\n"
     ]
    }
   ],
   "source": [
    "cat_direction_assessment('x4_Health Technology',lg_l1_complete_best,x_train,combine_proxy,y = 'proxy_result')\n"
   ]
  },
  {
   "cell_type": "markdown",
   "metadata": {},
   "source": [
    "## l2 penalty logistic regression"
   ]
  },
  {
   "cell_type": "code",
   "execution_count": 24,
   "metadata": {},
   "outputs": [
    {
     "name": "stdout",
     "output_type": "stream",
     "text": [
      "The best parameter for Logistic is {'C': 2.782559402207126, 'solver': 'newton-cg'}\n",
      "Training precision for Logistic Regression is 0.79946\n",
      "Testing precision for Logistic Regression is 0.68975\n"
     ]
    }
   ],
   "source": [
    "# Logistic regression with l2 norm\n",
    "lg_l2 = LogisticRegression(penalty = 'l2',multi_class = 'auto')\n",
    "\n",
    "param_grid = {'C': np.logspace(-4, 4, 10),\n",
    "             'solver': ['newton-cg', 'lbfgs', 'sag', 'saga']}\n",
    "\n",
    "grid = GridSearchCV(lg_l2, param_grid, cv=2, scoring = 'precision_macro')\n",
    "grid.fit(x_train, y_train)\n",
    "lg_l2_best = grid.best_estimator_\n",
    "\n",
    "print(\"The best parameter for Logistic is {}\".format(grid.best_params_))\n",
    "print(\"Training precision for Logistic Regression is {}\".format(round(grid.score(x_train, y_train),5)))\n",
    "print(\"Testing precision for Logistic Regression is {}\".format(round(grid.score(x_test, y_test),5)))"
   ]
  },
  {
   "cell_type": "code",
   "execution_count": 25,
   "metadata": {},
   "outputs": [
    {
     "data": {
      "text/html": [
       "<div>\n",
       "<style scoped>\n",
       "    .dataframe tbody tr th:only-of-type {\n",
       "        vertical-align: middle;\n",
       "    }\n",
       "\n",
       "    .dataframe tbody tr th {\n",
       "        vertical-align: top;\n",
       "    }\n",
       "\n",
       "    .dataframe thead th {\n",
       "        text-align: right;\n",
       "    }\n",
       "</style>\n",
       "<table border=\"1\" class=\"dataframe\">\n",
       "  <thead>\n",
       "    <tr style=\"text-align: right;\">\n",
       "      <th></th>\n",
       "      <th>Precision</th>\n",
       "      <th>Recall</th>\n",
       "    </tr>\n",
       "  </thead>\n",
       "  <tbody>\n",
       "    <tr>\n",
       "      <th>Dissident</th>\n",
       "      <td>0.556452</td>\n",
       "      <td>0.650943</td>\n",
       "    </tr>\n",
       "    <tr>\n",
       "      <th>Missing</th>\n",
       "      <td>0.982592</td>\n",
       "      <td>0.986408</td>\n",
       "    </tr>\n",
       "    <tr>\n",
       "      <th>Management</th>\n",
       "      <td>0.530201</td>\n",
       "      <td>0.417989</td>\n",
       "    </tr>\n",
       "  </tbody>\n",
       "</table>\n",
       "</div>"
      ],
      "text/plain": [
       "            Precision    Recall\n",
       "Dissident    0.556452  0.650943\n",
       "Missing      0.982592  0.986408\n",
       "Management   0.530201  0.417989"
      ]
     },
     "execution_count": 25,
     "metadata": {},
     "output_type": "execute_result"
    }
   ],
   "source": [
    "conf, pre_recall = produce_confusion_matrix(x_test, y_test, 'proxy_result', grid) \n",
    "pre_recall"
   ]
  },
  {
   "cell_type": "code",
   "execution_count": 26,
   "metadata": {},
   "outputs": [
    {
     "data": {
      "text/plain": [
       "{'x3_others': 1.5146388067254388,\n",
       " 'x24_0': 1.233383415004013,\n",
       " 'x0_Add_Directors': 1.1904472265488424,\n",
       " 'x5_Split': 1.1034582831124065,\n",
       " 'x21_1': 0.7393700214380018,\n",
       " 'x16_1': 0.7302873879701289,\n",
       " 'x6_Dissident': 0.6621038691151973,\n",
       " 'x11_1': 0.6492729363878821,\n",
       " 'x25_0': 0.6269260562172673,\n",
       " 'x4_Commercial Services': 0.6199923494614451,\n",
       " 'x7_Public': 0.5463514218397851,\n",
       " 'total_number_of_board_seats': 0.5008160440640194,\n",
       " 'x19_0': 0.45364950671765963,\n",
       " 'x3_Remove Director(s)': 0.4262395203190394,\n",
       " 'x23_1': 0.42076493669112425,\n",
       " \"x3_Elect Management's Director Nominee\": 0.41707218623891845,\n",
       " \"x3_Elect Dissident's Director Nominee\": 0.41617312420324065,\n",
       " 'x12_1': 0.3439438719864679,\n",
       " 'x10_Yes': 0.34160140439704284,\n",
       " 'x2_Missing': 0.2905405305406652}"
      ]
     },
     "execution_count": 26,
     "metadata": {},
     "output_type": "execute_result"
    },
    {
     "data": {
      "image/png": "[encoded data removed]",
      "text/plain": [
       "<Figure size 1440x720 with 1 Axes>"
      ]
     },
     "metadata": {
      "needs_background": "light"
     },
     "output_type": "display_data"
    }
   ],
   "source": [
    "plot_feature_importance(lg_l2_best,df,'Logistic Regression with l2 Regularization',x_train,y_train,use_coef = True)"
   ]
  },
  {
   "cell_type": "markdown",
   "metadata": {},
   "source": [
    "## Complete case"
   ]
  },
  {
   "cell_type": "code",
   "execution_count": 27,
   "metadata": {},
   "outputs": [
    {
     "name": "stdout",
     "output_type": "stream",
     "text": [
      "The best parameter for Logistic is {'C': 0.3593813663804626, 'solver': 'newton-cg'}\n",
      "Training accuracy for Logistic Regression is 0.65294\n",
      "Testing accuracy for Logistic Regression is 0.61055\n"
     ]
    }
   ],
   "source": [
    "# Logistic regression with l2 norm\n",
    "lg_l2 = LogisticRegression(penalty = 'l2',multi_class = 'auto')\n",
    "\n",
    "# grid search\n",
    "# param_grid = {'C': np.linspace(0.00000000000001, 2, 3)}\n",
    "param_grid = {'C': np.logspace(-4, 4, 10),\n",
    "             'solver': ['newton-cg', 'lbfgs', 'sag', 'saga']}\n",
    "grid = GridSearchCV(lg_l2, param_grid, cv=2)\n",
    "grid.fit(x_train_complete, y_train_complete)\n",
    "print(\"The best parameter for Logistic is {}\".format(grid.best_params_))\n",
    "print(\"Training accuracy for Logistic Regression is {}\".format(round(grid.score(x_train_complete, y_train_complete),5)))\n",
    "print(\"Testing accuracy for Logistic Regression is {}\".format(round(grid.score(x_test_complete, y_test_complete),5)))"
   ]
  },
  {
   "cell_type": "code",
   "execution_count": 28,
   "metadata": {},
   "outputs": [
    {
     "data": {
      "text/html": [
       "<div>\n",
       "<style scoped>\n",
       "    .dataframe tbody tr th:only-of-type {\n",
       "        vertical-align: middle;\n",
       "    }\n",
       "\n",
       "    .dataframe tbody tr th {\n",
       "        vertical-align: top;\n",
       "    }\n",
       "\n",
       "    .dataframe thead th {\n",
       "        text-align: right;\n",
       "    }\n",
       "</style>\n",
       "<table border=\"1\" class=\"dataframe\">\n",
       "  <thead>\n",
       "    <tr style=\"text-align: right;\">\n",
       "      <th></th>\n",
       "      <th>Precision</th>\n",
       "      <th>Recall</th>\n",
       "    </tr>\n",
       "  </thead>\n",
       "  <tbody>\n",
       "    <tr>\n",
       "      <th>Management</th>\n",
       "      <td>0.598958</td>\n",
       "      <td>0.595855</td>\n",
       "    </tr>\n",
       "    <tr>\n",
       "      <th>Dissident</th>\n",
       "      <td>0.621359</td>\n",
       "      <td>0.624390</td>\n",
       "    </tr>\n",
       "  </tbody>\n",
       "</table>\n",
       "</div>"
      ],
      "text/plain": [
       "            Precision    Recall\n",
       "Management   0.598958  0.595855\n",
       "Dissident    0.621359  0.624390"
      ]
     },
     "execution_count": 28,
     "metadata": {},
     "output_type": "execute_result"
    }
   ],
   "source": [
    "conf, pre_recall = produce_confusion_matrix(x_test_complete, y_test_complete, 'proxy_result', grid) \n",
    "pre_recall"
   ]
  },
  {
   "cell_type": "code",
   "execution_count": 29,
   "metadata": {},
   "outputs": [
    {
     "data": {
      "text/plain": [
       "{'x3_others': 1.2685516490367443,\n",
       " 'x0_Add_Directors': 1.020101025526884,\n",
       " 'x24_0': 0.89801810422223,\n",
       " 'x5_Split': 0.7706675324212033,\n",
       " 'x16_1': 0.6425835416921933,\n",
       " 'x6_Dissident': 0.6174539448654776,\n",
       " 'x4_Commercial Services': 0.6044014134543404,\n",
       " 'x21_1': 0.5707721439164869,\n",
       " 'x25_0': 0.5543681354687844,\n",
       " 'x11_1': 0.47677179213876475,\n",
       " 'total_number_of_board_seats': 0.4678224964055338,\n",
       " 'x3_Remove Director(s)': 0.39027225637901264,\n",
       " 'x7_Public': 0.34654854383422085,\n",
       " 'x7_Mutual Fd-Closed End': 0.3450658048644265,\n",
       " 'x4_Process Industries': 0.34429730532393366,\n",
       " \"x3_Elect Dissident's Director Nominee\": 0.3424135273728019,\n",
       " 'x23_1': 0.3405876262940892,\n",
       " \"x3_Elect Management's Director Nominee\": 0.32090402767764137,\n",
       " 'x10_Yes': 0.2895927897617588,\n",
       " 'x19_0': 0.2867591866277192}"
      ]
     },
     "execution_count": 29,
     "metadata": {},
     "output_type": "execute_result"
    },
    {
     "data": {
      "image/png": "[encoded data removed]",
      "text/plain": [
       "<Figure size 1440x720 with 1 Axes>"
      ]
     },
     "metadata": {
      "needs_background": "light"
     },
     "output_type": "display_data"
    }
   ],
   "source": [
    "plot_feature_importance(grid.best_estimator_,df,'Complete Case Logistic Regression with l2 Regularization',x_train,y_train, use_coef = True)"
   ]
  },
  {
   "cell_type": "markdown",
   "metadata": {},
   "source": [
    "## Random Forest"
   ]
  },
  {
   "cell_type": "code",
   "execution_count": null,
   "metadata": {
    "scrolled": false
   },
   "outputs": [],
   "source": [
    "# rf = RandomForestClassifier()\n",
    "# param_grid = {'n_estimators': np.linspace(10, 500, 3).astype('int'),\n",
    "#               'max_depth':np.linspace(10, 500, 3).astype('int'),\n",
    "#               'min_samples_split':np.linspace(2, 50, 3).astype('int'),\n",
    "#               'min_samples_leaf':np.linspace(1, 50, 3).astype('int'),\n",
    "#               'bootstrap': [True, False],\n",
    "#               'max_features': ['auto', 'sqrt'],\n",
    "#              }\n",
    "\n",
    "# grid = GridSearchCV(rf, param_grid, cv=2, scoring = 'precision_macro')\n",
    "# grid.fit(x_train, y_train)\n",
    "# print(\"The best parameter for Logistic is {}\".format(grid.best_params_))\n",
    "# print(\"Training precision for Random Forest is {}\".format(round(precision_score(y_train, grid.predict(x_train),average='macro'),5)))\n",
    "# print(\"Testing precision for Random Forest is {}\".format(round(precision_score(y_test, grid.predict(x_test),average='macro'),5)))"
   ]
  },
  {
   "cell_type": "markdown",
   "metadata": {},
   "source": [
    "### Note:\n",
    "    Since training balanced accuracy is much higher than the testing one, we think the model with best paramters from grid search is overfitting. The following model prevents overfitting."
   ]
  },
  {
   "cell_type": "code",
   "execution_count": 30,
   "metadata": {},
   "outputs": [
    {
     "data": {
      "text/plain": [
       "RandomForestClassifier(bootstrap=False, class_weight=None, criterion='gini',\n",
       "                       max_depth=4, max_features='auto', max_leaf_nodes=None,\n",
       "                       min_impurity_decrease=0.0, min_impurity_split=None,\n",
       "                       min_samples_leaf=10, min_samples_split=10,\n",
       "                       min_weight_fraction_leaf=0.0, n_estimators=100,\n",
       "                       n_jobs=None, oob_score=False, random_state=None,\n",
       "                       verbose=0, warm_start=False)"
      ]
     },
     "execution_count": 30,
     "metadata": {},
     "output_type": "execute_result"
    }
   ],
   "source": [
    "rf2 = RandomForestClassifier(bootstrap = False, \n",
    "                       max_depth = 4,\n",
    "                       max_features = 'auto', \n",
    "                       min_samples_leaf = 10, \n",
    "                       min_samples_split = 10,\n",
    "                       n_estimators = 100)\n",
    "rf2.fit(x_train, y_train)\n"
   ]
  },
  {
   "cell_type": "code",
   "execution_count": 31,
   "metadata": {},
   "outputs": [
    {
     "name": "stdout",
     "output_type": "stream",
     "text": [
      "Training precision for Random Forest is 0.80157\n",
      "Testing precision for Random Forest is 0.70412\n"
     ]
    }
   ],
   "source": [
    "from sklearn.metrics import precision_score\n",
    "print(\"Training precision for Random Forest is {}\".format(round(precision_score(y_train, rf2.predict(x_train),average='macro'),5)))\n",
    "print(\"Testing precision for Random Forest is {}\".format(round(precision_score(y_test, rf2.predict(x_test),average='macro'),5)))"
   ]
  },
  {
   "cell_type": "code",
   "execution_count": 32,
   "metadata": {},
   "outputs": [
    {
     "data": {
      "text/html": [
       "<div>\n",
       "<style scoped>\n",
       "    .dataframe tbody tr th:only-of-type {\n",
       "        vertical-align: middle;\n",
       "    }\n",
       "\n",
       "    .dataframe tbody tr th {\n",
       "        vertical-align: top;\n",
       "    }\n",
       "\n",
       "    .dataframe thead th {\n",
       "        text-align: right;\n",
       "    }\n",
       "</style>\n",
       "<table border=\"1\" class=\"dataframe\">\n",
       "  <thead>\n",
       "    <tr style=\"text-align: right;\">\n",
       "      <th></th>\n",
       "      <th>Precision</th>\n",
       "      <th>Recall</th>\n",
       "    </tr>\n",
       "  </thead>\n",
       "  <tbody>\n",
       "    <tr>\n",
       "      <th>Dissident</th>\n",
       "      <td>0.570281</td>\n",
       "      <td>0.669811</td>\n",
       "    </tr>\n",
       "    <tr>\n",
       "      <th>Missing</th>\n",
       "      <td>0.963947</td>\n",
       "      <td>0.986408</td>\n",
       "    </tr>\n",
       "    <tr>\n",
       "      <th>Management</th>\n",
       "      <td>0.578125</td>\n",
       "      <td>0.391534</td>\n",
       "    </tr>\n",
       "  </tbody>\n",
       "</table>\n",
       "</div>"
      ],
      "text/plain": [
       "            Precision    Recall\n",
       "Dissident    0.570281  0.669811\n",
       "Missing      0.963947  0.986408\n",
       "Management   0.578125  0.391534"
      ]
     },
     "execution_count": 32,
     "metadata": {},
     "output_type": "execute_result"
    }
   ],
   "source": [
    "conf, pre_recall = produce_confusion_matrix(x_test, y_test, 'proxy_result', rf2) \n",
    "pre_recall"
   ]
  },
  {
   "cell_type": "code",
   "execution_count": 33,
   "metadata": {},
   "outputs": [
    {
     "data": {
      "text/plain": [
       "{'x16_0': 0.21681313389016602,\n",
       " 'x16_1': 0.11804357241942899,\n",
       " 'x3_Missing': 0.11445869145119779,\n",
       " 'total_number_of_board_seats': 0.08321875855770819,\n",
       " 'x0_Add_Directors': 0.07129893322950946,\n",
       " 'x0_Generic_Objective': 0.049179895609617504,\n",
       " 'x15_0': 0.04564798449411601,\n",
       " \"x3_Elect Dissident's Director Nominee\": 0.03224435342952133,\n",
       " 'x15_1': 0.031069855692163393,\n",
       " 'x2_Missing': 0.025163782296781987,\n",
       " 'x2_Board': 0.020047376736764145,\n",
       " 'ownership_pecent_on_announcement': 0.01867141640595731,\n",
       " 'x14_1': 0.015508259292485744,\n",
       " 'x0_Vote_For_Dissident': 0.01439602941096313,\n",
       " 'x14_0': 0.013108394463041358,\n",
       " 'x11_0': 0.011195033702144747,\n",
       " 'x0_Facilitate_MA': 0.00870535456575727,\n",
       " 'x6_Missing': 0.008372267846699883,\n",
       " 'x6_Management': 0.007564689894686741,\n",
       " 'x24_1': 0.00718964439477157}"
      ]
     },
     "execution_count": 33,
     "metadata": {},
     "output_type": "execute_result"
    },
    {
     "data": {
      "image/png": "[encoded data removed]",
      "text/plain": [
       "<Figure size 1440x720 with 1 Axes>"
      ]
     },
     "metadata": {
      "needs_background": "light"
     },
     "output_type": "display_data"
    }
   ],
   "source": [
    "plot_feature_importance(rf2,df,'Random Forest Classifier',x_train,y_train,use_coef = False)"
   ]
  },
  {
   "cell_type": "code",
   "execution_count": 35,
   "metadata": {},
   "outputs": [
    {
     "name": "stdout",
     "output_type": "stream",
     "text": [
      "                    proxy_result\n",
      "x16_0 proxy_result              \n",
      "0.0   Dissident             3948\n",
      "      Management            3374\n",
      "      Missing                  6\n",
      "1.0   Missing               4333\n",
      "      Management             256\n",
      "      Dissident               49\n",
      "\n",
      "\n",
      "                    proxy_result\n",
      "x16_0 proxy_result              \n",
      "0     Dissident             4255\n",
      "      Missing               4121\n",
      "      Management            4038\n",
      "\n",
      "\n",
      "                    proxy_result\n",
      "x16_0 proxy_result              \n",
      "1     Missing               5345\n",
      "      Management            3770\n",
      "      Dissident             3299\n"
     ]
    }
   ],
   "source": [
    "cat_direction_assessment('x16_0',rf2,x_train,combine_proxy,'proxy_result')"
   ]
  },
  {
   "cell_type": "markdown",
   "metadata": {},
   "source": [
    "## Xgboost"
   ]
  },
  {
   "cell_type": "code",
   "execution_count": 36,
   "metadata": {},
   "outputs": [
    {
     "name": "stdout",
     "output_type": "stream",
     "text": [
      "Training precision for xgboost is 0.83067\n",
      "Testing precision for xgboost is 0.69042\n"
     ]
    }
   ],
   "source": [
    "# xgb = XGBClassifier()\n",
    "# param_grid = {\n",
    "#         'n_estimators':[100, 500], \n",
    "#         'min_child_weight': [5],\n",
    "#         'gamma': [0, 1, 5],\n",
    "#         'subsample': [0.8, 1.0],\n",
    "#         'colsample_bytree': [0.3, 0.5, 0.8],\n",
    "#         'max_depth': [3, 4, 5]\n",
    "#         }\n",
    "\n",
    "xgb = XGBClassifier(silent=False, \n",
    "                      scale_pos_weight=1,\n",
    "                      learning_rate=0.01,  \n",
    "                      colsample_bytree = 0.3,\n",
    "                      subsample = 0.8,\n",
    "                      n_estimators=500, \n",
    "                      reg_alpha = 0.3,\n",
    "                      max_depth=3, \n",
    "                      gamma=10)\n",
    "\n",
    "# param_test1 = {\n",
    "#  'xgb__max_depth':range(3,10,2),\n",
    "#  'xgb__min_child_weight':range(1,6,2)\n",
    "# }\n",
    "# grid = GridSearchCV(xgb, param_grid, cv=5, scoring = 'precision_macro')\n",
    "xgb.fit(x_train, y_train)\n",
    "# xgb_best = grid.best_estimators_\n",
    "# print(\"The best parameter for xgboost is {}\".format(grid.best_params_))\n",
    "print(\"Training precision for xgboost is {}\".format(round(precision_score(y_train, xgb.predict(x_train),average='macro'),5)))\n",
    "print(\"Testing precision for xgboost is {}\".format(round(precision_score(y_test, xgb.predict(x_test),average='macro'),5)))"
   ]
  },
  {
   "cell_type": "code",
   "execution_count": 37,
   "metadata": {},
   "outputs": [
    {
     "data": {
      "text/html": [
       "<div>\n",
       "<style scoped>\n",
       "    .dataframe tbody tr th:only-of-type {\n",
       "        vertical-align: middle;\n",
       "    }\n",
       "\n",
       "    .dataframe tbody tr th {\n",
       "        vertical-align: top;\n",
       "    }\n",
       "\n",
       "    .dataframe thead th {\n",
       "        text-align: right;\n",
       "    }\n",
       "</style>\n",
       "<table border=\"1\" class=\"dataframe\">\n",
       "  <thead>\n",
       "    <tr style=\"text-align: right;\">\n",
       "      <th></th>\n",
       "      <th>Precision</th>\n",
       "      <th>Recall</th>\n",
       "    </tr>\n",
       "  </thead>\n",
       "  <tbody>\n",
       "    <tr>\n",
       "      <th>Dissident</th>\n",
       "      <td>0.562500</td>\n",
       "      <td>0.636792</td>\n",
       "    </tr>\n",
       "    <tr>\n",
       "      <th>Missing</th>\n",
       "      <td>0.979730</td>\n",
       "      <td>0.985437</td>\n",
       "    </tr>\n",
       "    <tr>\n",
       "      <th>Management</th>\n",
       "      <td>0.529032</td>\n",
       "      <td>0.433862</td>\n",
       "    </tr>\n",
       "  </tbody>\n",
       "</table>\n",
       "</div>"
      ],
      "text/plain": [
       "            Precision    Recall\n",
       "Dissident    0.562500  0.636792\n",
       "Missing      0.979730  0.985437\n",
       "Management   0.529032  0.433862"
      ]
     },
     "execution_count": 37,
     "metadata": {},
     "output_type": "execute_result"
    }
   ],
   "source": [
    "conf, pre_recall = produce_confusion_matrix(x_test, y_test, 'proxy_result', xgb) \n",
    "pre_recall"
   ]
  },
  {
   "cell_type": "code",
   "execution_count": 38,
   "metadata": {},
   "outputs": [
    {
     "data": {
      "text/plain": [
       "{'x16_1': 0.13380833,\n",
       " 'x16_0': 0.12401608,\n",
       " 'x3_Missing': 0.06753899,\n",
       " 'x0_Add_Directors': 0.063582346,\n",
       " 'total_number_of_board_seats': 0.039913848,\n",
       " \"x3_Elect Dissident's Director Nominee\": 0.02141282,\n",
       " 'x15_0': 0.02020817,\n",
       " 'x2_Missing': 0.02011063,\n",
       " 'x15_1': 0.0190831,\n",
       " 'x0_Generic_Objective': 0.018918114,\n",
       " 'x3_others': 0.01768093,\n",
       " 'x2_Board': 0.013193889,\n",
       " 'x0_Facilitate_MA': 0.013150715,\n",
       " 'x14_0': 0.0129424,\n",
       " 'x14_1': 0.012713274,\n",
       " 'ownership_pecent_on_announcement': 0.012445846,\n",
       " 'x6_Management': 0.011747701,\n",
       " 'x21_1': 0.01135087,\n",
       " 'x0_Vote_For_Dissident': 0.010778516,\n",
       " 'x11_0': 0.010401551}"
      ]
     },
     "execution_count": 38,
     "metadata": {},
     "output_type": "execute_result"
    },
    {
     "data": {
      "image/png": "[encoded data removed]",
      "text/plain": [
       "<Figure size 1440x720 with 1 Axes>"
      ]
     },
     "metadata": {
      "needs_background": "light"
     },
     "output_type": "display_data"
    }
   ],
   "source": [
    "plot_feature_importance(xgb,df,'XGBoost', x_train,y_train,use_coef = False)"
   ]
  },
  {
   "cell_type": "markdown",
   "metadata": {},
   "source": [
    "## Nearest Centroid"
   ]
  },
  {
   "cell_type": "code",
   "execution_count": 39,
   "metadata": {},
   "outputs": [
    {
     "name": "stdout",
     "output_type": "stream",
     "text": [
      "The best parameter for Logistic is {'metric': 'manhattan'}\n",
      "Training accuracy for Logistic Regression is 0.64803\n",
      "Testing accuracy for Logistic Regression is 0.61874\n"
     ]
    }
   ],
   "source": [
    "nc = NearestCentroid()\n",
    "param_grid = {'metric':['euclidean','manhattan']}\n",
    "grid = GridSearchCV(nc, param_grid, cv=5, scoring='precision_macro')\n",
    "grid.fit(x_train, y_train)\n",
    "nc_best = grid.best_estimator_\n",
    "print(\"The best parameter for Logistic is {}\".format(grid.best_params_))\n",
    "print(\"Training accuracy for Logistic Regression is {}\".format(round(grid.score(x_train, y_train),5)))\n",
    "print(\"Testing accuracy for Logistic Regression is {}\".format(round(grid.score(x_test, y_test),5)))"
   ]
  },
  {
   "cell_type": "code",
   "execution_count": 40,
   "metadata": {},
   "outputs": [
    {
     "data": {
      "text/html": [
       "<div>\n",
       "<style scoped>\n",
       "    .dataframe tbody tr th:only-of-type {\n",
       "        vertical-align: middle;\n",
       "    }\n",
       "\n",
       "    .dataframe tbody tr th {\n",
       "        vertical-align: top;\n",
       "    }\n",
       "\n",
       "    .dataframe thead th {\n",
       "        text-align: right;\n",
       "    }\n",
       "</style>\n",
       "<table border=\"1\" class=\"dataframe\">\n",
       "  <thead>\n",
       "    <tr style=\"text-align: right;\">\n",
       "      <th></th>\n",
       "      <th>Precision</th>\n",
       "      <th>Recall</th>\n",
       "    </tr>\n",
       "  </thead>\n",
       "  <tbody>\n",
       "    <tr>\n",
       "      <th>Dissident</th>\n",
       "      <td>0.494792</td>\n",
       "      <td>0.448113</td>\n",
       "    </tr>\n",
       "    <tr>\n",
       "      <th>Missing</th>\n",
       "      <td>0.957184</td>\n",
       "      <td>0.976699</td>\n",
       "    </tr>\n",
       "    <tr>\n",
       "      <th>Management</th>\n",
       "      <td>0.404255</td>\n",
       "      <td>0.402116</td>\n",
       "    </tr>\n",
       "  </tbody>\n",
       "</table>\n",
       "</div>"
      ],
      "text/plain": [
       "            Precision    Recall\n",
       "Dissident    0.494792  0.448113\n",
       "Missing      0.957184  0.976699\n",
       "Management   0.404255  0.402116"
      ]
     },
     "execution_count": 40,
     "metadata": {},
     "output_type": "execute_result"
    }
   ],
   "source": [
    "conf, pre_recall = produce_confusion_matrix(x_test, y_test, 'proxy_result', grid) \n",
    "pre_recall"
   ]
  },
  {
   "cell_type": "markdown",
   "metadata": {},
   "source": [
    "## Support Vector Matchine"
   ]
  },
  {
   "cell_type": "code",
   "execution_count": 41,
   "metadata": {},
   "outputs": [
    {
     "name": "stdout",
     "output_type": "stream",
     "text": [
      "The best parameter for SVM is {'C': 0.2222311111111111, 'dual': False, 'loss': 'squared_hinge', 'penalty': 'l1'}\n",
      "Training mean precision for SVM is 0.79682\n",
      "Testing mean precision for SVM is 0.69501\n"
     ]
    }
   ],
   "source": [
    "from sklearn.multiclass import OneVsRestClassifier\n",
    "from sklearn.svm import SVC, LinearSVC\n",
    "# svm = OneVsRestClassifier(LinearSVC())\n",
    "lin_svc = svm.LinearSVC()\n",
    "\n",
    "param_grid = {'penalty':  ['l1','l2'],\n",
    "              'C': np.linspace(0.00001,2,10),\n",
    "              'loss':['squared_hinge'],\n",
    "              'dual':[False]}\n",
    "\n",
    "grid = GridSearchCV(lin_svc, param_grid, cv=5, scoring = 'precision_macro')\n",
    "grid.fit(x_train, y_train)\n",
    "lin_svc_best = grid.best_estimator_\n",
    "print(\"The best parameter for SVM is {}\".format(grid.best_params_))\n",
    "print(\"Training mean precision for SVM is {}\".format(round(grid.score(x_train, y_train),5)))\n",
    "print(\"Testing mean precision for SVM is {}\".format(round(grid.score(x_test, y_test),5)))"
   ]
  },
  {
   "cell_type": "code",
   "execution_count": 42,
   "metadata": {},
   "outputs": [
    {
     "data": {
      "text/html": [
       "<div>\n",
       "<style scoped>\n",
       "    .dataframe tbody tr th:only-of-type {\n",
       "        vertical-align: middle;\n",
       "    }\n",
       "\n",
       "    .dataframe tbody tr th {\n",
       "        vertical-align: top;\n",
       "    }\n",
       "\n",
       "    .dataframe thead th {\n",
       "        text-align: right;\n",
       "    }\n",
       "</style>\n",
       "<table border=\"1\" class=\"dataframe\">\n",
       "  <thead>\n",
       "    <tr style=\"text-align: right;\">\n",
       "      <th></th>\n",
       "      <th>Precision</th>\n",
       "      <th>Recall</th>\n",
       "    </tr>\n",
       "  </thead>\n",
       "  <tbody>\n",
       "    <tr>\n",
       "      <th>Dissident</th>\n",
       "      <td>0.559055</td>\n",
       "      <td>0.669811</td>\n",
       "    </tr>\n",
       "    <tr>\n",
       "      <th>Missing</th>\n",
       "      <td>0.985423</td>\n",
       "      <td>0.984466</td>\n",
       "    </tr>\n",
       "    <tr>\n",
       "      <th>Management</th>\n",
       "      <td>0.540541</td>\n",
       "      <td>0.423280</td>\n",
       "    </tr>\n",
       "  </tbody>\n",
       "</table>\n",
       "</div>"
      ],
      "text/plain": [
       "            Precision    Recall\n",
       "Dissident    0.559055  0.669811\n",
       "Missing      0.985423  0.984466\n",
       "Management   0.540541  0.423280"
      ]
     },
     "execution_count": 42,
     "metadata": {},
     "output_type": "execute_result"
    }
   ],
   "source": [
    "conf, pre_recall = produce_confusion_matrix(x_test, y_test, 'proxy_result',lin_svc_best) \n",
    "pre_recall"
   ]
  },
  {
   "cell_type": "code",
   "execution_count": 43,
   "metadata": {},
   "outputs": [
    {
     "data": {
      "text/plain": [
       "{'x3_others': 0.8269222833064879,\n",
       " 'x5_Split': 0.706936576832965,\n",
       " 'x0_Add_Directors': 0.6137412390102415,\n",
       " 'x6_Dissident': 0.4442262248645198,\n",
       " 'x23_1': 0.3277389449218956,\n",
       " 'x0_Vote_For_Dissident': 0.29403984234257946,\n",
       " 'x3_Remove Director(s)': 0.29270162033881725,\n",
       " 'x4_Process Industries': 0.28520445540162787,\n",
       " 'x4_Commercial Services': 0.26457118217980186,\n",
       " 'x7_Mutual Fd-Closed End': 0.2614429832753646,\n",
       " 'x2_Operations': 0.20412305740530434,\n",
       " 'x2_Missing': 0.18076765454241958,\n",
       " 'x21_1': 0.1470227950143414,\n",
       " \"x3_Elect Dissident's Director Nominee\": 0.12329793901836335,\n",
       " 'x4_Health Technology': 0.08392133630881261,\n",
       " \"x3_Elect Management's Director Nominee\": 0.07692066645833713,\n",
       " 'x7_Public': 0.07393027888623951,\n",
       " 'x1_MA': 0.06873292645610382,\n",
       " 'x16_1': 0.06409563636291328,\n",
       " 'x12_1': 0.06241060460997226}"
      ]
     },
     "execution_count": 43,
     "metadata": {},
     "output_type": "execute_result"
    },
    {
     "data": {
      "image/png": "[encoded data removed]",
      "text/plain": [
       "<Figure size 1440x720 with 1 Axes>"
      ]
     },
     "metadata": {
      "needs_background": "light"
     },
     "output_type": "display_data"
    }
   ],
   "source": [
    "plot_feature_importance(lin_svc_best,df,'Support Vector Machine',  x_train,y_train,use_coef = True)"
   ]
  },
  {
   "cell_type": "markdown",
   "metadata": {},
   "source": [
    "## Hard Vote"
   ]
  },
  {
   "cell_type": "code",
   "execution_count": 44,
   "metadata": {},
   "outputs": [
    {
     "name": "stdout",
     "output_type": "stream",
     "text": [
      "Training precision for hard vote is 0.80155\n",
      "Testing precision for hard vote is 0.68677\n"
     ]
    }
   ],
   "source": [
    "eclf1 = VotingClassifier(estimators=[('lg', lg_l1_best), \n",
    "                                     ('lg2', lg_l2_best), \n",
    "                                     ('rf', rf2),\n",
    "                                    ('xgb', xgb), \n",
    "                                    ('nc', nc_best),\n",
    "                                    ('svm', lin_svc_best)], \n",
    "                         voting='hard')\n",
    "eclf1 = eclf1.fit(x_train, y_train)\n",
    "y_pred1 = eclf1.predict(x_test)\n",
    "# print(\"Accuracy is %.2f%%\" % ((np.sum(y_pred1 == np.array(y_test).flatten()) / len(y_pred1))*100))\n",
    "print(\"Training precision for hard vote is {}\".format(round(precision_score(y_train, eclf1.predict(x_train),average='macro'),5)))\n",
    "print(\"Testing precision for hard vote is {}\".format(round(precision_score(y_test, eclf1.predict(x_test),average='macro'),5)))"
   ]
  },
  {
   "cell_type": "code",
   "execution_count": 45,
   "metadata": {},
   "outputs": [
    {
     "data": {
      "text/html": [
       "<div>\n",
       "<style scoped>\n",
       "    .dataframe tbody tr th:only-of-type {\n",
       "        vertical-align: middle;\n",
       "    }\n",
       "\n",
       "    .dataframe tbody tr th {\n",
       "        vertical-align: top;\n",
       "    }\n",
       "\n",
       "    .dataframe thead th {\n",
       "        text-align: right;\n",
       "    }\n",
       "</style>\n",
       "<table border=\"1\" class=\"dataframe\">\n",
       "  <thead>\n",
       "    <tr style=\"text-align: right;\">\n",
       "      <th></th>\n",
       "      <th>Precision</th>\n",
       "      <th>Recall</th>\n",
       "    </tr>\n",
       "  </thead>\n",
       "  <tbody>\n",
       "    <tr>\n",
       "      <th>Dissident</th>\n",
       "      <td>0.548148</td>\n",
       "      <td>0.698113</td>\n",
       "    </tr>\n",
       "    <tr>\n",
       "      <th>Missing</th>\n",
       "      <td>0.985437</td>\n",
       "      <td>0.985437</td>\n",
       "    </tr>\n",
       "    <tr>\n",
       "      <th>Management</th>\n",
       "      <td>0.526718</td>\n",
       "      <td>0.365079</td>\n",
       "    </tr>\n",
       "  </tbody>\n",
       "</table>\n",
       "</div>"
      ],
      "text/plain": [
       "            Precision    Recall\n",
       "Dissident    0.548148  0.698113\n",
       "Missing      0.985437  0.985437\n",
       "Management   0.526718  0.365079"
      ]
     },
     "execution_count": 45,
     "metadata": {},
     "output_type": "execute_result"
    }
   ],
   "source": [
    "conf, pre_recall = produce_confusion_matrix(x_test, y_test, 'proxy_result', eclf1) \n",
    "pre_recall"
   ]
  },
  {
   "cell_type": "markdown",
   "metadata": {},
   "source": [
    "## Soft Vote"
   ]
  },
  {
   "cell_type": "code",
   "execution_count": 46,
   "metadata": {},
   "outputs": [
    {
     "name": "stdout",
     "output_type": "stream",
     "text": [
      "Training precision for soft vote is 0.80928\n",
      "Testing precision for soft vote is 0.69825\n"
     ]
    }
   ],
   "source": [
    "eclf2 = VotingClassifier(estimators=[('lg', lg_l1_best), \n",
    "                                     ('lg2', lg_l2_best), \n",
    "                                     ('rf', rf2),\n",
    "                                    ('xgb', xgb), \n",
    "#                                     ('nc', nc_best),\n",
    "#                                     ('svm', lin_svc_best)\n",
    "                                    ], \n",
    "                         voting='soft')\n",
    "eclf2 = eclf2.fit(x_train, y_train)\n",
    "y_pred2 = eclf2.predict(x_test)\n",
    "print(\"Training precision for soft vote is {}\".format(round(precision_score(y_train, eclf2.predict(x_train),average='macro'),5)))\n",
    "print(\"Testing precision for soft vote is {}\".format(round(precision_score(y_test, eclf2.predict(x_test),average='macro'),5)))"
   ]
  },
  {
   "cell_type": "code",
   "execution_count": 47,
   "metadata": {},
   "outputs": [
    {
     "data": {
      "text/html": [
       "<div>\n",
       "<style scoped>\n",
       "    .dataframe tbody tr th:only-of-type {\n",
       "        vertical-align: middle;\n",
       "    }\n",
       "\n",
       "    .dataframe tbody tr th {\n",
       "        vertical-align: top;\n",
       "    }\n",
       "\n",
       "    .dataframe thead th {\n",
       "        text-align: right;\n",
       "    }\n",
       "</style>\n",
       "<table border=\"1\" class=\"dataframe\">\n",
       "  <thead>\n",
       "    <tr style=\"text-align: right;\">\n",
       "      <th></th>\n",
       "      <th>Precision</th>\n",
       "      <th>Recall</th>\n",
       "    </tr>\n",
       "  </thead>\n",
       "  <tbody>\n",
       "    <tr>\n",
       "      <th>Dissident</th>\n",
       "      <td>0.569170</td>\n",
       "      <td>0.679245</td>\n",
       "    </tr>\n",
       "    <tr>\n",
       "      <th>Missing</th>\n",
       "      <td>0.984496</td>\n",
       "      <td>0.986408</td>\n",
       "    </tr>\n",
       "    <tr>\n",
       "      <th>Management</th>\n",
       "      <td>0.541096</td>\n",
       "      <td>0.417989</td>\n",
       "    </tr>\n",
       "  </tbody>\n",
       "</table>\n",
       "</div>"
      ],
      "text/plain": [
       "            Precision    Recall\n",
       "Dissident    0.569170  0.679245\n",
       "Missing      0.984496  0.986408\n",
       "Management   0.541096  0.417989"
      ]
     },
     "execution_count": 47,
     "metadata": {},
     "output_type": "execute_result"
    }
   ],
   "source": [
    "conf, pre_recall = produce_confusion_matrix(x_test, y_test, 'proxy_result', eclf2) \n",
    "pre_recall"
   ]
  },
  {
   "cell_type": "markdown",
   "metadata": {},
   "source": [
    "## Weights Based Weights Soft Vote"
   ]
  },
  {
   "cell_type": "code",
   "execution_count": 48,
   "metadata": {},
   "outputs": [
    {
     "name": "stdout",
     "output_type": "stream",
     "text": [
      "Training precision for soft vote is 0.80924\n",
      "Testing precision for soft vote is 0.69858\n"
     ]
    }
   ],
   "source": [
    "compute_weights = lambda pipelines,x_train,y_train,x_test,y_test: [x.fit(x_train,y_train).score(x_test,y_test) for x in pipelines]\n",
    "ensemble = [lg_l1_best,lg_l2_best,rf2,xgb]\n",
    "weights = compute_weights(ensemble,x_train,y_train,x_test,y_test)\n",
    "\n",
    "eclf3 = VotingClassifier(estimators=[('lg', lg_l1_best), \n",
    "                                     ('lg2', lg_l2_best), \n",
    "                                     ('rf', rf2),\n",
    "                                    ('xgb', xgb)], \n",
    "                                     voting='soft', \n",
    "                                     weights=weights,\n",
    "                                     flatten_transform=True)\n",
    "eclf3 = eclf3.fit(x_train, y_train)\n",
    "y_pred3 = eclf3.predict(x_test)\n",
    "# print(\"Accuracy is %.2f%%\" % ((np.sum(y_pred3 == np.array(y_test).flatten()) / len(y_pred3))*100))\n",
    "print(\"Training precision for soft vote is {}\".format(round(precision_score(y_train, eclf3.predict(x_train),average='macro'),5)))\n",
    "print(\"Testing precision for soft vote is {}\".format(round(precision_score(y_test, eclf3.predict(x_test),average='macro'),5)))"
   ]
  },
  {
   "cell_type": "code",
   "execution_count": 49,
   "metadata": {},
   "outputs": [
    {
     "data": {
      "text/html": [
       "<div>\n",
       "<style scoped>\n",
       "    .dataframe tbody tr th:only-of-type {\n",
       "        vertical-align: middle;\n",
       "    }\n",
       "\n",
       "    .dataframe tbody tr th {\n",
       "        vertical-align: top;\n",
       "    }\n",
       "\n",
       "    .dataframe thead th {\n",
       "        text-align: right;\n",
       "    }\n",
       "</style>\n",
       "<table border=\"1\" class=\"dataframe\">\n",
       "  <thead>\n",
       "    <tr style=\"text-align: right;\">\n",
       "      <th></th>\n",
       "      <th>Precision</th>\n",
       "      <th>Recall</th>\n",
       "    </tr>\n",
       "  </thead>\n",
       "  <tbody>\n",
       "    <tr>\n",
       "      <th>Dissident</th>\n",
       "      <td>0.569170</td>\n",
       "      <td>0.679245</td>\n",
       "    </tr>\n",
       "    <tr>\n",
       "      <th>Missing</th>\n",
       "      <td>0.985465</td>\n",
       "      <td>0.987379</td>\n",
       "    </tr>\n",
       "    <tr>\n",
       "      <th>Management</th>\n",
       "      <td>0.541096</td>\n",
       "      <td>0.417989</td>\n",
       "    </tr>\n",
       "  </tbody>\n",
       "</table>\n",
       "</div>"
      ],
      "text/plain": [
       "            Precision    Recall\n",
       "Dissident    0.569170  0.679245\n",
       "Missing      0.985465  0.987379\n",
       "Management   0.541096  0.417989"
      ]
     },
     "execution_count": 49,
     "metadata": {},
     "output_type": "execute_result"
    }
   ],
   "source": [
    "conf, pre_recall = produce_confusion_matrix(x_test, y_test, 'proxy_result', eclf3) \n",
    "pre_recall"
   ]
  },
  {
   "cell_type": "markdown",
   "metadata": {},
   "source": [
    "# Seat_gained_success"
   ]
  },
  {
   "cell_type": "markdown",
   "metadata": {},
   "source": [
    "## l1 penalty logistic regression"
   ]
  },
  {
   "cell_type": "code",
   "execution_count": 50,
   "metadata": {
    "scrolled": true
   },
   "outputs": [
    {
     "name": "stdout",
     "output_type": "stream",
     "text": [
      "The best parameter for Logistic is {'C': 7.500000000000007, 'solver': 'liblinear'}\n",
      "Training precision for Logistic Regression is 0.64602\n",
      "Testing precision for Logistic Regression is 0.43527\n"
     ]
    }
   ],
   "source": [
    "# Logistic regression with l1 norm\n",
    "lg_l1 = LogisticRegression(penalty = 'l1',multi_class = 'auto')\n",
    "\n",
    "# , solver = 'saga'\n",
    "# Perform grid search\n",
    "# param_grid = {'C': np.linspace(0.00000000000001, 2, 3)}\n",
    "# param_grid = {'C': np.logspace(-4, 4, 10)}\n",
    "param_grid = {'C': np.linspace(0.00000000000001, 30, 5),\n",
    "             'solver': ['saga','liblinear']}\n",
    "grid = GridSearchCV(lg_l1, param_grid, cv=2, scoring = 'precision_macro')\n",
    "grid.fit(x_train_seat, y_train_seat)\n",
    "\n",
    "lg_l1_best = grid.best_estimator_\n",
    "\n",
    "print(\"The best parameter for Logistic is {}\".format(grid.best_params_))\n",
    "print(\"Training precision for Logistic Regression is {}\".format(round(grid.score(x_train_seat, y_train_seat),5)))\n",
    "print(\"Testing precision for Logistic Regression is {}\".format(round(grid.score(x_test_seat, y_test_seat),5)))\n"
   ]
  },
  {
   "cell_type": "code",
   "execution_count": 51,
   "metadata": {},
   "outputs": [
    {
     "data": {
      "text/html": [
       "<div>\n",
       "<style scoped>\n",
       "    .dataframe tbody tr th:only-of-type {\n",
       "        vertical-align: middle;\n",
       "    }\n",
       "\n",
       "    .dataframe tbody tr th {\n",
       "        vertical-align: top;\n",
       "    }\n",
       "\n",
       "    .dataframe thead th {\n",
       "        text-align: right;\n",
       "    }\n",
       "</style>\n",
       "<table border=\"1\" class=\"dataframe\">\n",
       "  <thead>\n",
       "    <tr style=\"text-align: right;\">\n",
       "      <th></th>\n",
       "      <th>Precision</th>\n",
       "      <th>Recall</th>\n",
       "    </tr>\n",
       "  </thead>\n",
       "  <tbody>\n",
       "    <tr>\n",
       "      <th>Partial_success</th>\n",
       "      <td>0.287356</td>\n",
       "      <td>0.416667</td>\n",
       "    </tr>\n",
       "    <tr>\n",
       "      <th>Fail</th>\n",
       "      <td>0.640394</td>\n",
       "      <td>0.601852</td>\n",
       "    </tr>\n",
       "    <tr>\n",
       "      <th>Success</th>\n",
       "      <td>0.378049</td>\n",
       "      <td>0.322917</td>\n",
       "    </tr>\n",
       "  </tbody>\n",
       "</table>\n",
       "</div>"
      ],
      "text/plain": [
       "                 Precision    Recall\n",
       "Partial_success   0.287356  0.416667\n",
       "Fail              0.640394  0.601852\n",
       "Success           0.378049  0.322917"
      ]
     },
     "execution_count": 51,
     "metadata": {},
     "output_type": "execute_result"
    }
   ],
   "source": [
    "conf, pre_recall = produce_confusion_matrix(x_test_seat, y_test_seat,'seat_gained_success',grid) \n",
    "pre_recall"
   ]
  },
  {
   "cell_type": "code",
   "execution_count": 81,
   "metadata": {},
   "outputs": [
    {
     "data": {
      "text/plain": [
       "{'x3_others': 5.711363082986641,\n",
       " \"x3_Elect Management's Director Nominee\": 4.9477799221452745,\n",
       " 'x3_Remove Director(s)': 4.777149732074189,\n",
       " 'x3_Missing': 4.759338156727635,\n",
       " \"x3_Elect Dissident's Director Nominee\": 4.63091454936765,\n",
       " 'x4_Consumer Durables': 4.627888232018671,\n",
       " 'x4_Health Services': 4.519138483159531,\n",
       " 'x4_Miscellaneous': 4.358450775842182,\n",
       " 'x4_Energy Minerals': 4.122271824814254,\n",
       " 'x4_Communications': 3.722334907610882,\n",
       " 'x4_Industrial Services': 3.629539230723113,\n",
       " 'x4_Transportation': 3.4055737063885303,\n",
       " 'x4_Missing': 3.3618388123993053,\n",
       " 'x4_Consumer Non-Durables': 3.35281923556409,\n",
       " 'x4_Consumer Services': 3.346247810076247,\n",
       " 'x4_Utilities': 3.2640332576599085,\n",
       " 'x4_Finance': 3.249459115659159,\n",
       " 'x4_Producer Manufacturing': 3.1122354335163975,\n",
       " 'x4_Electronic Technology': 3.07233401569476,\n",
       " 'x4_Health Technology': 2.9926679524211193}"
      ]
     },
     "execution_count": 81,
     "metadata": {},
     "output_type": "execute_result"
    },
    {
     "data": {
      "image/png": "[encoded data removed]",
      "text/plain": [
       "<Figure size 1440x720 with 1 Axes>"
      ]
     },
     "metadata": {
      "needs_background": "light"
     },
     "output_type": "display_data"
    }
   ],
   "source": [
    "plot_feature_importance(lg_l1_best,df_board_seats,'Logistic Regression',x_train_seat,y_train_seat)"
   ]
  },
  {
   "cell_type": "code",
   "execution_count": 84,
   "metadata": {},
   "outputs": [
    {
     "name": "stdout",
     "output_type": "stream",
     "text": [
      "                                                                  board_seat_gained_success\n",
      "x3_Elect Management's Director Nominee board_seat_gained_success                           \n",
      "0.0                                    Partial_success                                  842\n",
      "                                       Success                                          693\n",
      "                                       Fail                                             683\n",
      "1.0                                    Fail                                             120\n",
      "                                       Success                                           81\n",
      "                                       Partial_success                                   41\n",
      "\n",
      "\n",
      "                                                                  board_seat_gained_success\n",
      "x3_Elect Management's Director Nominee board_seat_gained_success                           \n",
      "0                                      Partial_success                                  921\n",
      "                                       Success                                          852\n",
      "                                       Fail                                             687\n",
      "\n",
      "\n",
      "                                                                  board_seat_gained_success\n",
      "x3_Elect Management's Director Nominee board_seat_gained_success                           \n",
      "1                                      Fail                                            2077\n",
      "                                       Partial_success                                  203\n",
      "                                       Success                                          180\n"
     ]
    }
   ],
   "source": [
    "cat_direction_assessment(\"x3_Elect Management's Director Nominee\",lg_l1_best,x_train_seat,combine_seat)"
   ]
  },
  {
   "cell_type": "markdown",
   "metadata": {},
   "source": [
    "## l2 penalty logistic regression"
   ]
  },
  {
   "cell_type": "code",
   "execution_count": 85,
   "metadata": {},
   "outputs": [
    {
     "name": "stdout",
     "output_type": "stream",
     "text": [
      "The best parameter for Logistic is {'C': 0.3593813663804626, 'solver': 'newton-cg'}\n",
      "Training balanced accuracy for Logistic Regression is 0.6435\n",
      "Testing balanced accuracy for Logistic Regression is 0.46481\n"
     ]
    }
   ],
   "source": [
    "# Logistic regression with l2 norm\n",
    "lg_l2 = LogisticRegression(penalty = 'l2',multi_class = 'auto')\n",
    "param_grid = {'C': np.logspace(-4, 4, 10),\n",
    "             'solver': ['newton-cg', 'lbfgs', 'sag', 'saga']}\n",
    "grid = GridSearchCV(lg_l2, param_grid, cv=2, scoring = 'balanced_accuracy')\n",
    "grid.fit(x_train_seat, y_train_seat)\n",
    "lg_l2_best = grid.best_estimator_\n",
    "print(\"The best parameter for Logistic is {}\".format(grid.best_params_))\n",
    "print(\"Training balanced accuracy for Logistic Regression is {}\".format(round(grid.score(x_train_seat, y_train_seat),5)))\n",
    "print(\"Testing balanced accuracy for Logistic Regression is {}\".format(round(grid.score(x_test_seat, y_test_seat),5)))"
   ]
  },
  {
   "cell_type": "code",
   "execution_count": 86,
   "metadata": {},
   "outputs": [
    {
     "data": {
      "text/html": [
       "<div>\n",
       "<style scoped>\n",
       "    .dataframe tbody tr th:only-of-type {\n",
       "        vertical-align: middle;\n",
       "    }\n",
       "\n",
       "    .dataframe tbody tr th {\n",
       "        vertical-align: top;\n",
       "    }\n",
       "\n",
       "    .dataframe thead th {\n",
       "        text-align: right;\n",
       "    }\n",
       "</style>\n",
       "<table border=\"1\" class=\"dataframe\">\n",
       "  <thead>\n",
       "    <tr style=\"text-align: right;\">\n",
       "      <th></th>\n",
       "      <th>Precision</th>\n",
       "      <th>Recall</th>\n",
       "    </tr>\n",
       "  </thead>\n",
       "  <tbody>\n",
       "    <tr>\n",
       "      <th>Partial_success</th>\n",
       "      <td>0.281250</td>\n",
       "      <td>0.450000</td>\n",
       "    </tr>\n",
       "    <tr>\n",
       "      <th>Fail</th>\n",
       "      <td>0.664865</td>\n",
       "      <td>0.569444</td>\n",
       "    </tr>\n",
       "    <tr>\n",
       "      <th>Success</th>\n",
       "      <td>0.395604</td>\n",
       "      <td>0.375000</td>\n",
       "    </tr>\n",
       "  </tbody>\n",
       "</table>\n",
       "</div>"
      ],
      "text/plain": [
       "                 Precision    Recall\n",
       "Partial_success   0.281250  0.450000\n",
       "Fail              0.664865  0.569444\n",
       "Success           0.395604  0.375000"
      ]
     },
     "execution_count": 86,
     "metadata": {},
     "output_type": "execute_result"
    }
   ],
   "source": [
    "conf, pre_recall = produce_confusion_matrix(x_test_seat, y_test_seat,'seat_gained_success',grid) \n",
    "pre_recall"
   ]
  },
  {
   "cell_type": "code",
   "execution_count": 90,
   "metadata": {},
   "outputs": [
    {
     "data": {
      "text/plain": [
       "{'x4_Energy Minerals': 1.3999923338480063,\n",
       " 'x4_Consumer Durables': 1.3815476833232352,\n",
       " 'x3_others': 1.3797729063995954,\n",
       " 'x4_Miscellaneous': 1.375279851181966,\n",
       " 'x4_Health Services': 1.31608799657926,\n",
       " 'x4_Finance': 1.125566939396094,\n",
       " 'x4_Communications': 1.051400549154526,\n",
       " 'x4_Industrial Services': 1.003961049187919,\n",
       " 'x4_Consumer Services': 1.0009289177302814,\n",
       " \"x3_Elect Management's Director Nominee\": 0.9422622118176304,\n",
       " 'x3_Remove Director(s)': 0.9379678215917581,\n",
       " 'x4_Consumer Non-Durables': 0.9053399936315525,\n",
       " 'x4_Electronic Technology': 0.8942142215237587,\n",
       " 'x4_Producer Manufacturing': 0.8793782540846472,\n",
       " 'x3_Missing': 0.8465194915300368,\n",
       " 'x4_Health Technology': 0.8406089843004321,\n",
       " 'x4_Transportation': 0.8374572088774446,\n",
       " 'x4_Utilities': 0.7590678992960043,\n",
       " 'x4_Technology Services': 0.7563236343393352,\n",
       " \"x3_Elect Dissident's Director Nominee\": 0.7484306229087714}"
      ]
     },
     "execution_count": 90,
     "metadata": {},
     "output_type": "execute_result"
    },
    {
     "data": {
      "image/png": "[encoded data removed]",
      "text/plain": [
       "<Figure size 1440x720 with 1 Axes>"
      ]
     },
     "metadata": {
      "needs_background": "light"
     },
     "output_type": "display_data"
    }
   ],
   "source": [
    "plot_feature_importance(lg_l2_best,df_board_seats,'Logistic Regression',x_train_seat,y_train_seat)"
   ]
  },
  {
   "cell_type": "code",
   "execution_count": 145,
   "metadata": {},
   "outputs": [
    {
     "name": "stdout",
     "output_type": "stream",
     "text": [
      "                                                 board_seat_gained_success\n",
      "x3_Remove Director(s) board_seat_gained_success                           \n",
      "0.0                   Partial_success                                  882\n",
      "                      Fail                                             762\n",
      "                      Success                                          703\n",
      "1.0                   Success                                           70\n",
      "                      Fail                                              41\n",
      "                      Partial_success                                    2\n",
      "\n",
      "\n",
      "                                                 board_seat_gained_success\n",
      "x3_Remove Director(s) board_seat_gained_success                           \n",
      "0                     Partial_success                                  892\n",
      "                      Success                                          806\n",
      "                      Fail                                             762\n",
      "\n",
      "\n",
      "                                                 board_seat_gained_success\n",
      "x3_Remove Director(s) board_seat_gained_success                           \n",
      "1                     Fail                                            2182\n",
      "                      Success                                          218\n",
      "                      Partial_success                                   60\n"
     ]
    }
   ],
   "source": [
    "cat_direction_assessment(\"x3_Remove Director(s)\",lg_l1_best,x_train_seat,combine_seat)"
   ]
  },
  {
   "cell_type": "markdown",
   "metadata": {},
   "source": [
    "## Random Forest"
   ]
  },
  {
   "cell_type": "code",
   "execution_count": null,
   "metadata": {
    "scrolled": true
   },
   "outputs": [],
   "source": [
    "# rf = RandomForestClassifier()\n",
    "# param_grid = {'n_estimators': np.linspace(10, 500, 3).astype('int'),\n",
    "#               'max_depth':np.linspace(10, 500, 3).astype('int'),\n",
    "#               'min_samples_split':np.linspace(2, 50, 3).astype('int'),\n",
    "#               'min_samples_leaf':np.linspace(1, 50, 3).astype('int'),\n",
    "#               'bootstrap': [True, False],\n",
    "#               'max_features': ['auto', 'sqrt'],\n",
    "#              }\n",
    "\n",
    "# grid = GridSearchCV(rf, param_grid, cv=2, scoring = 'balanced_accuracy')\n",
    "# grid.fit(x_train_seat, y_train_seat)\n",
    "# print(\"The best parameter for Logistic is {}\".format(grid.best_params_))\n",
    "# print(\"Training balanced accuracy for Random Forest is {}\".format(round(grid.score(x_train_seat, y_train_seat),5)))\n",
    "# print(\"Testing balanced accuracy for Random Forest is {}\".format(round(grid.score(x_test_seat, y_test_seat),5)))"
   ]
  },
  {
   "cell_type": "markdown",
   "metadata": {},
   "source": [
    "### Note:\n",
    "    Since training balanced accuracy is much higher than the testing one, we think the model with best paramters from grid search is overfitting. The following model prevents overfitting."
   ]
  },
  {
   "cell_type": "code",
   "execution_count": 91,
   "metadata": {},
   "outputs": [
    {
     "data": {
      "text/plain": [
       "RandomForestClassifier(bootstrap=False, class_weight=None, criterion='gini',\n",
       "                       max_depth=5, max_features='auto', max_leaf_nodes=None,\n",
       "                       min_impurity_decrease=0.0, min_impurity_split=None,\n",
       "                       min_samples_leaf=10, min_samples_split=10,\n",
       "                       min_weight_fraction_leaf=0.0, n_estimators=100,\n",
       "                       n_jobs=None, oob_score=False, random_state=None,\n",
       "                       verbose=0, warm_start=False)"
      ]
     },
     "execution_count": 91,
     "metadata": {},
     "output_type": "execute_result"
    }
   ],
   "source": [
    "rf2 = RandomForestClassifier(bootstrap = False, \n",
    "                       max_depth = 5,\n",
    "                       max_features = 'auto', \n",
    "                       min_samples_leaf = 10, \n",
    "                       min_samples_split = 10,\n",
    "                       n_estimators = 100)\n",
    "rf2.fit(x_train_seat, y_train_seat)\n"
   ]
  },
  {
   "cell_type": "code",
   "execution_count": 92,
   "metadata": {},
   "outputs": [
    {
     "name": "stdout",
     "output_type": "stream",
     "text": [
      "Training precision for Random Forest is 0.69236\n",
      "Testing precision accuracy for Random Forest is 0.43292\n"
     ]
    }
   ],
   "source": [
    "from sklearn.metrics import balanced_accuracy_score\n",
    "print(\"Training precision for Random Forest is {}\".format(round(precision_score(y_train_seat, rf2.predict(x_train_seat),average = 'macro'),5)))\n",
    "print(\"Testing precision accuracy for Random Forest is {}\".format(round(precision_score(y_test_seat, rf2.predict(x_test_seat),average = 'macro'),5)))"
   ]
  },
  {
   "cell_type": "code",
   "execution_count": 93,
   "metadata": {},
   "outputs": [
    {
     "data": {
      "text/html": [
       "<div>\n",
       "<style scoped>\n",
       "    .dataframe tbody tr th:only-of-type {\n",
       "        vertical-align: middle;\n",
       "    }\n",
       "\n",
       "    .dataframe tbody tr th {\n",
       "        vertical-align: top;\n",
       "    }\n",
       "\n",
       "    .dataframe thead th {\n",
       "        text-align: right;\n",
       "    }\n",
       "</style>\n",
       "<table border=\"1\" class=\"dataframe\">\n",
       "  <thead>\n",
       "    <tr style=\"text-align: right;\">\n",
       "      <th></th>\n",
       "      <th>Precision</th>\n",
       "      <th>Recall</th>\n",
       "    </tr>\n",
       "  </thead>\n",
       "  <tbody>\n",
       "    <tr>\n",
       "      <th>Partial_success</th>\n",
       "      <td>0.277311</td>\n",
       "      <td>0.550000</td>\n",
       "    </tr>\n",
       "    <tr>\n",
       "      <th>Fail</th>\n",
       "      <td>0.658960</td>\n",
       "      <td>0.527778</td>\n",
       "    </tr>\n",
       "    <tr>\n",
       "      <th>Success</th>\n",
       "      <td>0.362500</td>\n",
       "      <td>0.302083</td>\n",
       "    </tr>\n",
       "  </tbody>\n",
       "</table>\n",
       "</div>"
      ],
      "text/plain": [
       "                 Precision    Recall\n",
       "Partial_success   0.277311  0.550000\n",
       "Fail              0.658960  0.527778\n",
       "Success           0.362500  0.302083"
      ]
     },
     "execution_count": 93,
     "metadata": {},
     "output_type": "execute_result"
    }
   ],
   "source": [
    "conf, pre_recall = produce_confusion_matrix(x_test_seat, y_test_seat,'seat_gained_success', rf2) \n",
    "pre_recall"
   ]
  },
  {
   "cell_type": "code",
   "execution_count": 94,
   "metadata": {},
   "outputs": [
    {
     "data": {
      "text/plain": [
       "{'ownership_pecent_on_announcement': 0.09551918799731815,\n",
       " 'pre_12m_earnings_yield': 0.07614185698930365,\n",
       " 'pre_6m_earnings_yield': 0.06881038271521712,\n",
       " 'x6_Dissident': 0.059669033294990854,\n",
       " 'price_at_announcement': 0.05563700859028674,\n",
       " 'earnings_yield_at_announcement': 0.05480502860434694,\n",
       " 'x4_Miscellaneous': 0.04043685474369857,\n",
       " 'total_number_of_board_seats': 0.03950456790103983,\n",
       " 'pre_3m_earnings_yield': 0.03631278812936649,\n",
       " 'x3_Missing': 0.03418809557683528,\n",
       " 'x6_Missing': 0.027238922144997887,\n",
       " 'pre_18m_residual_return': 0.02662476881534197,\n",
       " 'ltm_eps_at_announcement': 0.025811940640381347,\n",
       " 'pre_18m_earnings_yield': 0.022211583613684124,\n",
       " 'x18_0': 0.02053060401851554,\n",
       " 'x18_1': 0.019873100703128563,\n",
       " 'x4_Finance': 0.017303326797383736,\n",
       " 'pre_12m_residual_return': 0.016745136725676145,\n",
       " 'x25_1': 0.014669699269137415,\n",
       " 'x25_0': 0.014023429637170064}"
      ]
     },
     "execution_count": 94,
     "metadata": {},
     "output_type": "execute_result"
    },
    {
     "data": {
      "image/png": "[encoded data removed]",
      "text/plain": [
       "<Figure size 1440x720 with 1 Axes>"
      ]
     },
     "metadata": {
      "needs_background": "light"
     },
     "output_type": "display_data"
    }
   ],
   "source": [
    "plot_feature_importance(rf2,df_board_seats,'Random Forest',x_train_seat,y_train_seat, False)"
   ]
  },
  {
   "cell_type": "code",
   "execution_count": 140,
   "metadata": {},
   "outputs": [
    {
     "name": "stdout",
     "output_type": "stream",
     "text": [
      "                                            board_seat_gained_success\n",
      "x4_Miscellaneous board_seat_gained_success                           \n",
      "0.0              Partial_success                                  883\n",
      "                 Success                                          729\n",
      "                 Fail                                             648\n",
      "1.0              Fail                                             150\n",
      "                 Success                                           32\n",
      "                 Partial_success                                    1\n",
      "\n",
      "\n",
      "                                            board_seat_gained_success\n",
      "x4_Miscellaneous board_seat_gained_success                           \n",
      "0                Partial_success                                  968\n",
      "                 Success                                          832\n",
      "                 Fail                                             660\n",
      "\n",
      "\n",
      "                                            board_seat_gained_success\n",
      "x4_Miscellaneous board_seat_gained_success                           \n",
      "1                Fail                                            2257\n",
      "                 Success                                          182\n",
      "                 Partial_success                                   21\n"
     ]
    }
   ],
   "source": [
    "cat_direction_assessment('x4_Miscellaneous',lg_l1_best,x_train_seat,combine_seat)"
   ]
  },
  {
   "cell_type": "code",
   "execution_count": 143,
   "metadata": {},
   "outputs": [
    {
     "name": "stdout",
     "output_type": "stream",
     "text": [
      "                                        board_seat_gained_success\n",
      "x6_Dissident board_seat_gained_success                           \n",
      "0.0          Partial_success                                  822\n",
      "             Fail                                             777\n",
      "             Success                                          520\n",
      "1.0          Success                                          188\n",
      "             Partial_success                                   28\n",
      "             Fail                                              22\n",
      "\n",
      "\n",
      "                                        board_seat_gained_success\n",
      "x6_Dissident board_seat_gained_success                           \n",
      "0            Partial_success                                  976\n",
      "             Fail                                             920\n",
      "             Success                                          564\n",
      "\n",
      "\n",
      "                                        board_seat_gained_success\n",
      "x6_Dissident board_seat_gained_success                           \n",
      "1            Success                                         1922\n",
      "             Partial_success                                  367\n",
      "             Fail                                             171\n"
     ]
    }
   ],
   "source": [
    "cat_direction_assessment('x6_Dissident',lg_l1_best,x_train_seat,combine_seat)"
   ]
  },
  {
   "cell_type": "markdown",
   "metadata": {},
   "source": [
    "# Multi-layer Perceptron classifier"
   ]
  },
  {
   "cell_type": "code",
   "execution_count": 95,
   "metadata": {},
   "outputs": [],
   "source": [
    "from sklearn.neural_network import MLPClassifier"
   ]
  },
  {
   "cell_type": "code",
   "execution_count": 96,
   "metadata": {},
   "outputs": [
    {
     "name": "stdout",
     "output_type": "stream",
     "text": [
      "The best parameter for Nerual Netis {'alpha': 0.0, 'hidden_layer_sizes': (256, 128)}\n",
      "Training mean precision for Nerual Net is 0.61503\n",
      "Testing mean precision for Nerual Net is 0.47077\n"
     ]
    }
   ],
   "source": [
    "MLP = MLPClassifier(early_stopping = True)\n",
    "param_grid = {'hidden_layer_sizes': [(256,128,64),(256,128)],\n",
    "              'alpha': np.linspace(0,2,5)}\n",
    "grid = GridSearchCV(MLP, param_grid = param_grid, cv = 5, scoring = 'precision_macro')\n",
    "grid.fit(x_train_seat, y_train_seat)\n",
    "MLP_best = grid.best_estimator_\n",
    "print(\"The best parameter for Nerual Netis {}\".format(grid.best_params_))\n",
    "print(\"Training mean precision for Nerual Net is {}\".format(round(grid.score(x_train_seat, y_train_seat),5)))\n",
    "print(\"Testing mean precision for Nerual Net is {}\".format(round(grid.score(x_test_seat, y_test_seat),5)))"
   ]
  },
  {
   "cell_type": "code",
   "execution_count": 97,
   "metadata": {},
   "outputs": [
    {
     "data": {
      "text/html": [
       "<div>\n",
       "<style scoped>\n",
       "    .dataframe tbody tr th:only-of-type {\n",
       "        vertical-align: middle;\n",
       "    }\n",
       "\n",
       "    .dataframe tbody tr th {\n",
       "        vertical-align: top;\n",
       "    }\n",
       "\n",
       "    .dataframe thead th {\n",
       "        text-align: right;\n",
       "    }\n",
       "</style>\n",
       "<table border=\"1\" class=\"dataframe\">\n",
       "  <thead>\n",
       "    <tr style=\"text-align: right;\">\n",
       "      <th></th>\n",
       "      <th>Precision</th>\n",
       "      <th>Recall</th>\n",
       "    </tr>\n",
       "  </thead>\n",
       "  <tbody>\n",
       "    <tr>\n",
       "      <th>Partial_success</th>\n",
       "      <td>0.260870</td>\n",
       "      <td>0.400000</td>\n",
       "    </tr>\n",
       "    <tr>\n",
       "      <th>Fail</th>\n",
       "      <td>0.748344</td>\n",
       "      <td>0.523148</td>\n",
       "    </tr>\n",
       "    <tr>\n",
       "      <th>Success</th>\n",
       "      <td>0.403101</td>\n",
       "      <td>0.541667</td>\n",
       "    </tr>\n",
       "  </tbody>\n",
       "</table>\n",
       "</div>"
      ],
      "text/plain": [
       "                 Precision    Recall\n",
       "Partial_success   0.260870  0.400000\n",
       "Fail              0.748344  0.523148\n",
       "Success           0.403101  0.541667"
      ]
     },
     "execution_count": 97,
     "metadata": {},
     "output_type": "execute_result"
    }
   ],
   "source": [
    "conf, pre_recall = produce_confusion_matrix(x_test_seat, y_test_seat,'seat_gained_success', grid) \n",
    "pre_recall"
   ]
  },
  {
   "cell_type": "markdown",
   "metadata": {},
   "source": [
    "# Classifier using Ridge regression"
   ]
  },
  {
   "cell_type": "code",
   "execution_count": 100,
   "metadata": {},
   "outputs": [],
   "source": [
    "from sklearn.linear_model import RidgeClassifier"
   ]
  },
  {
   "cell_type": "code",
   "execution_count": 101,
   "metadata": {},
   "outputs": [
    {
     "name": "stdout",
     "output_type": "stream",
     "text": [
      "The best parameter for Ridge Discriminant Analysis is {'alpha': 1.4736842105263157}\n",
      "Training mean precision for Ridge is 0.63683\n",
      "Testing mean precision for Ridge is 0.43708\n"
     ]
    }
   ],
   "source": [
    "Ridge = RidgeClassifier()\n",
    "param_grid = {'alpha':  np.linspace(0, 2, 20)}\n",
    "\n",
    "grid = GridSearchCV(Ridge, param_grid, cv=5, scoring = 'precision_macro')\n",
    "grid.fit(x_train_seat, y_train_seat)\n",
    "ridge_best = grid.best_estimator_\n",
    "print(\"The best parameter for Ridge Discriminant Analysis is {}\".format(grid.best_params_))\n",
    "print(\"Training mean precision for Ridge is {}\".format(round(grid.score(x_train_seat, y_train_seat),5)))\n",
    "print(\"Testing mean precision for Ridge is {}\".format(round(grid.score(x_test_seat, y_test_seat),5)))"
   ]
  },
  {
   "cell_type": "code",
   "execution_count": 102,
   "metadata": {},
   "outputs": [
    {
     "data": {
      "text/html": [
       "<div>\n",
       "<style scoped>\n",
       "    .dataframe tbody tr th:only-of-type {\n",
       "        vertical-align: middle;\n",
       "    }\n",
       "\n",
       "    .dataframe tbody tr th {\n",
       "        vertical-align: top;\n",
       "    }\n",
       "\n",
       "    .dataframe thead th {\n",
       "        text-align: right;\n",
       "    }\n",
       "</style>\n",
       "<table border=\"1\" class=\"dataframe\">\n",
       "  <thead>\n",
       "    <tr style=\"text-align: right;\">\n",
       "      <th></th>\n",
       "      <th>Precision</th>\n",
       "      <th>Recall</th>\n",
       "    </tr>\n",
       "  </thead>\n",
       "  <tbody>\n",
       "    <tr>\n",
       "      <th>Partial_success</th>\n",
       "      <td>0.28000</td>\n",
       "      <td>0.466667</td>\n",
       "    </tr>\n",
       "    <tr>\n",
       "      <th>Fail</th>\n",
       "      <td>0.65625</td>\n",
       "      <td>0.583333</td>\n",
       "    </tr>\n",
       "    <tr>\n",
       "      <th>Success</th>\n",
       "      <td>0.37500</td>\n",
       "      <td>0.312500</td>\n",
       "    </tr>\n",
       "  </tbody>\n",
       "</table>\n",
       "</div>"
      ],
      "text/plain": [
       "                 Precision    Recall\n",
       "Partial_success    0.28000  0.466667\n",
       "Fail               0.65625  0.583333\n",
       "Success            0.37500  0.312500"
      ]
     },
     "execution_count": 102,
     "metadata": {},
     "output_type": "execute_result"
    }
   ],
   "source": [
    "conf, pre_recall = produce_confusion_matrix(x_test_seat, y_test_seat,'seat_gained_success', grid) \n",
    "pre_recall"
   ]
  },
  {
   "cell_type": "code",
   "execution_count": 105,
   "metadata": {},
   "outputs": [
    {
     "data": {
      "text/plain": [
       "{'x4_Consumer Durables': 1.1670665389151593,\n",
       " 'x4_Health Services': 1.1443005377842157,\n",
       " 'x4_Energy Minerals': 1.0410132042091005,\n",
       " 'x4_Miscellaneous': 1.0312253231784498,\n",
       " 'x4_Communications': 0.8487064962494055,\n",
       " 'x4_Industrial Services': 0.7641581298383169,\n",
       " 'x3_others': 0.7292818634814684,\n",
       " 'x4_Consumer Services': 0.6803251133913937,\n",
       " 'x4_Finance': 0.6731035019453597,\n",
       " 'x4_Consumer Non-Durables': 0.6660114798055874,\n",
       " 'x4_Transportation': 0.6316742880678269,\n",
       " 'x4_Utilities': 0.6004156443058063,\n",
       " 'x4_Producer Manufacturing': 0.591013528728401,\n",
       " 'x4_Electronic Technology': 0.5590410800643622,\n",
       " 'x4_Health Technology': 0.5561388973931646,\n",
       " 'x4_Non-Energy Minerals': 0.5179099872516639,\n",
       " 'x4_Distribution Services': 0.514550728224714,\n",
       " 'x4_Technology Services': 0.5082027384531895,\n",
       " 'x4_Commercial Services': 0.4852113108151671,\n",
       " 'x4_Missing': 0.47890880057042384}"
      ]
     },
     "execution_count": 105,
     "metadata": {},
     "output_type": "execute_result"
    },
    {
     "data": {
      "image/png": "[encoded data removed]",
      "text/plain": [
       "<Figure size 1440x720 with 1 Axes>"
      ]
     },
     "metadata": {
      "needs_background": "light"
     },
     "output_type": "display_data"
    }
   ],
   "source": [
    "plot_feature_importance(ridge_best,df_board_seats,'Ridge Regression',x_train_seat,y_train_seat)"
   ]
  },
  {
   "cell_type": "markdown",
   "metadata": {},
   "source": [
    "## Xgboost"
   ]
  },
  {
   "cell_type": "code",
   "execution_count": 106,
   "metadata": {},
   "outputs": [
    {
     "name": "stdout",
     "output_type": "stream",
     "text": [
      "The best parameter for xgboost is {'n_estimators': 500}\n",
      "Training accuracy for xgboost is 0.9687\n",
      "Testing accuracy for xgboost is 0.43507\n"
     ]
    }
   ],
   "source": [
    "xgb = XGBClassifier()\n",
    "param_grid = {\n",
    "        'n_estimators':[100, 500], \n",
    "        'min_child_weight': [5],\n",
    "        'gamma': [0, 1, 5],\n",
    "        'subsample': [0.8, 1.0],\n",
    "        'colsample_bytree': [0.3, 0.5, 0.8],\n",
    "        'max_depth': [3, 4, 5]\n",
    "        }\n",
    "param_grid = {'n_estimators':[500]}\n",
    "\n",
    "# model = XGBClassifier(silent=False, \n",
    "#                       scale_pos_weight=1,\n",
    "#                       learning_rate=0.01,  \n",
    "#                       colsample_bytree = 0.4,\n",
    "#                       subsample = 0.8,\n",
    "#                       objective='binary:logistic', \n",
    "#                       n_estimators=1000, \n",
    "#                       reg_alpha = 0.3,\n",
    "#                       max_depth=4, \n",
    "#                       gamma=10)\n",
    "\n",
    "# param_test1 = {\n",
    "#  'xgb__max_depth':range(3,10,2),\n",
    "#  'xgb__min_child_weight':range(1,6,2)\n",
    "# }\n",
    "grid = GridSearchCV(xgb, param_grid, cv=5, scoring = 'precision_macro')\n",
    "grid.fit(x_train_seat, y_train_seat)\n",
    "xgb_best = grid.best_estimator_\n",
    "print(\"The best parameter for xgboost is {}\".format(grid.best_params_))\n",
    "print(\"Training accuracy for xgboost is {}\".format(round(grid.score(x_train_seat, y_train_seat),5)))\n",
    "print(\"Testing accuracy for xgboost is {}\".format(round(grid.score(x_test_seat, y_test_seat),5)))\n"
   ]
  },
  {
   "cell_type": "code",
   "execution_count": 107,
   "metadata": {},
   "outputs": [
    {
     "data": {
      "text/html": [
       "<div>\n",
       "<style scoped>\n",
       "    .dataframe tbody tr th:only-of-type {\n",
       "        vertical-align: middle;\n",
       "    }\n",
       "\n",
       "    .dataframe tbody tr th {\n",
       "        vertical-align: top;\n",
       "    }\n",
       "\n",
       "    .dataframe thead th {\n",
       "        text-align: right;\n",
       "    }\n",
       "</style>\n",
       "<table border=\"1\" class=\"dataframe\">\n",
       "  <thead>\n",
       "    <tr style=\"text-align: right;\">\n",
       "      <th></th>\n",
       "      <th>Precision</th>\n",
       "      <th>Recall</th>\n",
       "    </tr>\n",
       "  </thead>\n",
       "  <tbody>\n",
       "    <tr>\n",
       "      <th>Partial_success</th>\n",
       "      <td>0.338462</td>\n",
       "      <td>0.366667</td>\n",
       "    </tr>\n",
       "    <tr>\n",
       "      <th>Fail</th>\n",
       "      <td>0.618257</td>\n",
       "      <td>0.689815</td>\n",
       "    </tr>\n",
       "    <tr>\n",
       "      <th>Success</th>\n",
       "      <td>0.348485</td>\n",
       "      <td>0.239583</td>\n",
       "    </tr>\n",
       "  </tbody>\n",
       "</table>\n",
       "</div>"
      ],
      "text/plain": [
       "                 Precision    Recall\n",
       "Partial_success   0.338462  0.366667\n",
       "Fail              0.618257  0.689815\n",
       "Success           0.348485  0.239583"
      ]
     },
     "execution_count": 107,
     "metadata": {},
     "output_type": "execute_result"
    }
   ],
   "source": [
    "conf, pre_recall = produce_confusion_matrix(x_test_seat, y_test_seat,'seat_gained_success', grid) \n",
    "pre_recall"
   ]
  },
  {
   "cell_type": "code",
   "execution_count": 109,
   "metadata": {},
   "outputs": [
    {
     "data": {
      "text/plain": [
       "{'x4_Miscellaneous': 0.047669474,\n",
       " 'x6_Dissident': 0.047007404,\n",
       " 'x25_0': 0.03349324,\n",
       " 'x18_0': 0.032527067,\n",
       " 'x4_Finance': 0.031322498,\n",
       " 'x6_Management': 0.031033495,\n",
       " 'x1_Missing': 0.030031022,\n",
       " 'x3_Missing': 0.029953597,\n",
       " 'x2_Operations': 0.027560523,\n",
       " 'x11_0': 0.022934513,\n",
       " 'x6_Missing': 0.020729538,\n",
       " 'x1_MA': 0.020529341,\n",
       " 'x3_others': 0.020293312,\n",
       " 'x7_Mutual Fd-Closed End': 0.018222949,\n",
       " 'ownership_pecent_on_announcement': 0.017619627,\n",
       " 'x5_Split': 0.01682943,\n",
       " 'x10_No': 0.016562201,\n",
       " 'x7_Extinct': 0.016537027,\n",
       " 'total_number_of_board_seats': 0.016249757,\n",
       " 'pre_12m_earnings_yield': 0.015855523}"
      ]
     },
     "execution_count": 109,
     "metadata": {},
     "output_type": "execute_result"
    },
    {
     "data": {
      "image/png": "[encoded data removed]",
      "text/plain": [
       "<Figure size 1440x720 with 1 Axes>"
      ]
     },
     "metadata": {
      "needs_background": "light"
     },
     "output_type": "display_data"
    }
   ],
   "source": [
    "plot_feature_importance(xgb_best,df_board_seats,'XGBoost',x_train_seat,y_train_seat,False)"
   ]
  },
  {
   "cell_type": "markdown",
   "metadata": {},
   "source": [
    "## Nearest Centroid"
   ]
  },
  {
   "cell_type": "code",
   "execution_count": 110,
   "metadata": {},
   "outputs": [
    {
     "name": "stdout",
     "output_type": "stream",
     "text": [
      "The best parameter for Nearest Centroid is {'metric': 'euclidean'}\n",
      "Training accuracy for Nearest Centroid is 0.44472\n",
      "Testing accuracy for Nearest Centroid is 0.30376\n"
     ]
    }
   ],
   "source": [
    "nc = NearestCentroid()\n",
    "param_grid = {'metric':['euclidean','manhattan']}\n",
    "grid = GridSearchCV(nc, param_grid, cv=5)\n",
    "grid.fit(x_train_seat, y_train_seat)\n",
    "nc_best = grid.best_estimator_\n",
    "\n",
    "print(\"The best parameter for Nearest Centroid is {}\".format(grid.best_params_))\n",
    "print(\"Training accuracy for Nearest Centroid is {}\".format(round(grid.score(x_train_seat, y_train_seat),5)))\n",
    "print(\"Testing accuracy for Nearest Centroid is {}\".format(round(grid.score(x_test_seat, y_test_seat),5)))"
   ]
  },
  {
   "cell_type": "code",
   "execution_count": 111,
   "metadata": {},
   "outputs": [
    {
     "data": {
      "text/html": [
       "<div>\n",
       "<style scoped>\n",
       "    .dataframe tbody tr th:only-of-type {\n",
       "        vertical-align: middle;\n",
       "    }\n",
       "\n",
       "    .dataframe tbody tr th {\n",
       "        vertical-align: top;\n",
       "    }\n",
       "\n",
       "    .dataframe thead th {\n",
       "        text-align: right;\n",
       "    }\n",
       "</style>\n",
       "<table border=\"1\" class=\"dataframe\">\n",
       "  <thead>\n",
       "    <tr style=\"text-align: right;\">\n",
       "      <th></th>\n",
       "      <th>Precision</th>\n",
       "      <th>Recall</th>\n",
       "    </tr>\n",
       "  </thead>\n",
       "  <tbody>\n",
       "    <tr>\n",
       "      <th>Partial_success</th>\n",
       "      <td>0.191964</td>\n",
       "      <td>0.716667</td>\n",
       "    </tr>\n",
       "    <tr>\n",
       "      <th>Fail</th>\n",
       "      <td>0.589474</td>\n",
       "      <td>0.259259</td>\n",
       "    </tr>\n",
       "    <tr>\n",
       "      <th>Success</th>\n",
       "      <td>0.264151</td>\n",
       "      <td>0.145833</td>\n",
       "    </tr>\n",
       "  </tbody>\n",
       "</table>\n",
       "</div>"
      ],
      "text/plain": [
       "                 Precision    Recall\n",
       "Partial_success   0.191964  0.716667\n",
       "Fail              0.589474  0.259259\n",
       "Success           0.264151  0.145833"
      ]
     },
     "execution_count": 111,
     "metadata": {},
     "output_type": "execute_result"
    }
   ],
   "source": [
    "conf, pre_recall = produce_confusion_matrix(x_test_seat, y_test_seat,'seat_gained_success',grid) \n",
    "pre_recall"
   ]
  },
  {
   "cell_type": "markdown",
   "metadata": {},
   "source": [
    "## Support Vector Matchine"
   ]
  },
  {
   "cell_type": "code",
   "execution_count": 112,
   "metadata": {},
   "outputs": [
    {
     "name": "stdout",
     "output_type": "stream",
     "text": [
      "The best parameter for SVM is {'C': 1.5000025, 'dual': False, 'loss': 'squared_hinge', 'penalty': 'l1'}\n",
      "Training mean precision for SVM is 0.63988\n",
      "Testing mean precision for SVM is 0.43128\n"
     ]
    }
   ],
   "source": [
    "from sklearn.multiclass import OneVsRestClassifier\n",
    "from sklearn.svm import SVC, LinearSVC\n",
    "# svm = OneVsRestClassifier(LinearSVC())\n",
    "lin_svc = svm.LinearSVC()\n",
    "\n",
    "param_grid = {'penalty':  ['l1','l2'],\n",
    "              'C': np.linspace(0.00001,2,5),\n",
    "              'loss':['squared_hinge'],\n",
    "              'dual':[False]}\n",
    "\n",
    "grid = GridSearchCV(lin_svc, param_grid, cv=5, scoring = 'precision_macro')\n",
    "grid.fit(x_train_seat, y_train_seat)\n",
    "lin_svc_best = grid.best_estimator_\n",
    "print(\"The best parameter for SVM is {}\".format(grid.best_params_))\n",
    "print(\"Training mean precision for SVM is {}\".format(round(grid.score(x_train_seat, y_train_seat),5)))\n",
    "print(\"Testing mean precision for SVM is {}\".format(round(grid.score(x_test_seat, y_test_seat),5)))"
   ]
  },
  {
   "cell_type": "code",
   "execution_count": 113,
   "metadata": {},
   "outputs": [],
   "source": [
    "conf, pre_recall = produce_confusion_matrix(x_test_seat, y_test_seat,'seat_gained_success', grid) "
   ]
  },
  {
   "cell_type": "code",
   "execution_count": 114,
   "metadata": {},
   "outputs": [
    {
     "data": {
      "text/html": [
       "<div>\n",
       "<style scoped>\n",
       "    .dataframe tbody tr th:only-of-type {\n",
       "        vertical-align: middle;\n",
       "    }\n",
       "\n",
       "    .dataframe tbody tr th {\n",
       "        vertical-align: top;\n",
       "    }\n",
       "\n",
       "    .dataframe thead th {\n",
       "        text-align: right;\n",
       "    }\n",
       "</style>\n",
       "<table border=\"1\" class=\"dataframe\">\n",
       "  <thead>\n",
       "    <tr style=\"text-align: right;\">\n",
       "      <th></th>\n",
       "      <th>Precision</th>\n",
       "      <th>Recall</th>\n",
       "    </tr>\n",
       "  </thead>\n",
       "  <tbody>\n",
       "    <tr>\n",
       "      <th>Partial_success</th>\n",
       "      <td>0.263158</td>\n",
       "      <td>0.416667</td>\n",
       "    </tr>\n",
       "    <tr>\n",
       "      <th>Fail</th>\n",
       "      <td>0.647959</td>\n",
       "      <td>0.587963</td>\n",
       "    </tr>\n",
       "    <tr>\n",
       "      <th>Success</th>\n",
       "      <td>0.382716</td>\n",
       "      <td>0.322917</td>\n",
       "    </tr>\n",
       "  </tbody>\n",
       "</table>\n",
       "</div>"
      ],
      "text/plain": [
       "                 Precision    Recall\n",
       "Partial_success   0.263158  0.416667\n",
       "Fail              0.647959  0.587963\n",
       "Success           0.382716  0.322917"
      ]
     },
     "execution_count": 114,
     "metadata": {},
     "output_type": "execute_result"
    }
   ],
   "source": [
    "pre_recall"
   ]
  },
  {
   "cell_type": "markdown",
   "metadata": {},
   "source": [
    "# Ada boost"
   ]
  },
  {
   "cell_type": "code",
   "execution_count": 115,
   "metadata": {},
   "outputs": [
    {
     "name": "stdout",
     "output_type": "stream",
     "text": [
      "The best parameter for Adapative Boosting is {'n_estimators': 250}\n",
      "Training mean precision for Adapative Boosting is 0.72909\n",
      "Testing mean precision for Adapative Boosting is 0.42834\n"
     ]
    }
   ],
   "source": [
    "from sklearn.ensemble import AdaBoostClassifier\n",
    "\n",
    "ada = AdaBoostClassifier()\n",
    "param_grid = {'n_estimators':  np.linspace(200,400,5).astype('int')}\n",
    "\n",
    "grid = GridSearchCV(ada, param_grid, cv=5, scoring = 'precision_macro')\n",
    "grid.fit(x_train_seat, y_train_seat)\n",
    "ada_best = grid.best_estimator_\n",
    "print(\"The best parameter for Adapative Boosting is {}\".format(grid.best_params_))\n",
    "print(\"Training mean precision for Adapative Boosting is {}\".format(round(grid.score(x_train_seat, y_train_seat),5)))\n",
    "print(\"Testing mean precision for Adapative Boosting is {}\".format(round(grid.score(x_test_seat, y_test_seat),5)))"
   ]
  },
  {
   "cell_type": "code",
   "execution_count": 116,
   "metadata": {},
   "outputs": [
    {
     "data": {
      "text/html": [
       "<div>\n",
       "<style scoped>\n",
       "    .dataframe tbody tr th:only-of-type {\n",
       "        vertical-align: middle;\n",
       "    }\n",
       "\n",
       "    .dataframe tbody tr th {\n",
       "        vertical-align: top;\n",
       "    }\n",
       "\n",
       "    .dataframe thead th {\n",
       "        text-align: right;\n",
       "    }\n",
       "</style>\n",
       "<table border=\"1\" class=\"dataframe\">\n",
       "  <thead>\n",
       "    <tr style=\"text-align: right;\">\n",
       "      <th></th>\n",
       "      <th>Precision</th>\n",
       "      <th>Recall</th>\n",
       "    </tr>\n",
       "  </thead>\n",
       "  <tbody>\n",
       "    <tr>\n",
       "      <th>Partial_success</th>\n",
       "      <td>0.294872</td>\n",
       "      <td>0.383333</td>\n",
       "    </tr>\n",
       "    <tr>\n",
       "      <th>Fail</th>\n",
       "      <td>0.613333</td>\n",
       "      <td>0.638889</td>\n",
       "    </tr>\n",
       "    <tr>\n",
       "      <th>Success</th>\n",
       "      <td>0.376812</td>\n",
       "      <td>0.270833</td>\n",
       "    </tr>\n",
       "  </tbody>\n",
       "</table>\n",
       "</div>"
      ],
      "text/plain": [
       "                 Precision    Recall\n",
       "Partial_success   0.294872  0.383333\n",
       "Fail              0.613333  0.638889\n",
       "Success           0.376812  0.270833"
      ]
     },
     "execution_count": 116,
     "metadata": {},
     "output_type": "execute_result"
    }
   ],
   "source": [
    "conf, pre_recall = produce_confusion_matrix(x_test_seat, y_test_seat,'seat_gained_success', grid) \n",
    "pre_recall"
   ]
  },
  {
   "cell_type": "markdown",
   "metadata": {},
   "source": [
    "## Hard Vote"
   ]
  },
  {
   "cell_type": "code",
   "execution_count": 117,
   "metadata": {},
   "outputs": [],
   "source": [
    "eclf = VotingClassifier(estimators=[('lg', lg_l1_best), \n",
    "                                     ('lg2', lg_l2_best), \n",
    "                                     ('rf', rf2),\n",
    "                                     ('xgb', xgb),\n",
    "                                     ('MLP',MLP_best),\n",
    "                                     ('ridge',ridge_best),\n",
    "                                     ('svm',lin_svc_best),\n",
    "                                     ('ada',ada_best),\n",
    "                                     ('nc',nc_best)], \n",
    "                                     voting='hard')\n",
    "eclf = eclf.fit(x_train_seat, y_train_seat)\n",
    "y_pred = eclf.predict(x_test_seat)\n",
    "# print(\"Accuracy is %.2f%%\" % ((np.sum(y_pred == np.array(y_test_seat).flatten()) / len(y_pred))*100))"
   ]
  },
  {
   "cell_type": "code",
   "execution_count": 118,
   "metadata": {},
   "outputs": [
    {
     "data": {
      "text/html": [
       "<div>\n",
       "<style scoped>\n",
       "    .dataframe tbody tr th:only-of-type {\n",
       "        vertical-align: middle;\n",
       "    }\n",
       "\n",
       "    .dataframe tbody tr th {\n",
       "        vertical-align: top;\n",
       "    }\n",
       "\n",
       "    .dataframe thead th {\n",
       "        text-align: right;\n",
       "    }\n",
       "</style>\n",
       "<table border=\"1\" class=\"dataframe\">\n",
       "  <thead>\n",
       "    <tr style=\"text-align: right;\">\n",
       "      <th></th>\n",
       "      <th>Precision</th>\n",
       "      <th>Recall</th>\n",
       "    </tr>\n",
       "  </thead>\n",
       "  <tbody>\n",
       "    <tr>\n",
       "      <th>Partial_success</th>\n",
       "      <td>0.297872</td>\n",
       "      <td>0.466667</td>\n",
       "    </tr>\n",
       "    <tr>\n",
       "      <th>Fail</th>\n",
       "      <td>0.653659</td>\n",
       "      <td>0.620370</td>\n",
       "    </tr>\n",
       "    <tr>\n",
       "      <th>Success</th>\n",
       "      <td>0.410959</td>\n",
       "      <td>0.312500</td>\n",
       "    </tr>\n",
       "  </tbody>\n",
       "</table>\n",
       "</div>"
      ],
      "text/plain": [
       "                 Precision    Recall\n",
       "Partial_success   0.297872  0.466667\n",
       "Fail              0.653659  0.620370\n",
       "Success           0.410959  0.312500"
      ]
     },
     "execution_count": 118,
     "metadata": {},
     "output_type": "execute_result"
    }
   ],
   "source": [
    "conf, pre_recall = produce_confusion_matrix(x_test_seat, y_test_seat,'seat_gained_success',eclf) \n",
    "pre_recall"
   ]
  },
  {
   "cell_type": "markdown",
   "metadata": {},
   "source": [
    "## Soft Vote"
   ]
  },
  {
   "cell_type": "code",
   "execution_count": 119,
   "metadata": {},
   "outputs": [],
   "source": [
    "eclf2 = VotingClassifier(estimators=[('lg', lg_l1_best), \n",
    "                                     ('lg2', lg_l2_best), \n",
    "                                     ('rf', rf2),\n",
    "                                     ('xgb', xgb),\n",
    "                                     ('MLP',MLP_best),\n",
    "                                     ('ada',ada_best)], \n",
    "                                     voting='soft')\n",
    "eclf2 = eclf2.fit(x_train_seat, y_train_seat)\n",
    "y_pred2 = eclf2.predict(x_test_seat)\n",
    "# print(\"Accuracy is %.2f%%\" % ((np.sum(y_pred3 == np.array(y_test_seat).flatten()) / len(y_pred3))*100))"
   ]
  },
  {
   "cell_type": "code",
   "execution_count": 120,
   "metadata": {},
   "outputs": [
    {
     "data": {
      "text/html": [
       "<div>\n",
       "<style scoped>\n",
       "    .dataframe tbody tr th:only-of-type {\n",
       "        vertical-align: middle;\n",
       "    }\n",
       "\n",
       "    .dataframe tbody tr th {\n",
       "        vertical-align: top;\n",
       "    }\n",
       "\n",
       "    .dataframe thead th {\n",
       "        text-align: right;\n",
       "    }\n",
       "</style>\n",
       "<table border=\"1\" class=\"dataframe\">\n",
       "  <thead>\n",
       "    <tr style=\"text-align: right;\">\n",
       "      <th></th>\n",
       "      <th>Precision</th>\n",
       "      <th>Recall</th>\n",
       "    </tr>\n",
       "  </thead>\n",
       "  <tbody>\n",
       "    <tr>\n",
       "      <th>Partial_success</th>\n",
       "      <td>0.303371</td>\n",
       "      <td>0.450000</td>\n",
       "    </tr>\n",
       "    <tr>\n",
       "      <th>Fail</th>\n",
       "      <td>0.679144</td>\n",
       "      <td>0.587963</td>\n",
       "    </tr>\n",
       "    <tr>\n",
       "      <th>Success</th>\n",
       "      <td>0.395833</td>\n",
       "      <td>0.395833</td>\n",
       "    </tr>\n",
       "  </tbody>\n",
       "</table>\n",
       "</div>"
      ],
      "text/plain": [
       "                 Precision    Recall\n",
       "Partial_success   0.303371  0.450000\n",
       "Fail              0.679144  0.587963\n",
       "Success           0.395833  0.395833"
      ]
     },
     "execution_count": 120,
     "metadata": {},
     "output_type": "execute_result"
    }
   ],
   "source": [
    "conf, pre_recall = produce_confusion_matrix(x_test_seat, y_test_seat,'seat_gained_success',eclf2) \n",
    "pre_recall"
   ]
  },
  {
   "cell_type": "markdown",
   "metadata": {},
   "source": [
    "## Weights Based Weights Soft Vote"
   ]
  },
  {
   "cell_type": "code",
   "execution_count": 121,
   "metadata": {},
   "outputs": [
    {
     "name": "stdout",
     "output_type": "stream",
     "text": [
      "Accuracy is 53.23%\n"
     ]
    }
   ],
   "source": [
    "compute_weights = lambda pipelines,x_train_seat,y_train_seat,x_test_seat,y_test_seat: [x.fit(x_train_seat,y_train_seat).score(x_test_seat,y_test_seat) for x in pipelines]\n",
    "ensemble = [lg_l1_best,lg_l2_best,rf2,xgb,MLP_best,ada_best]\n",
    "weights = compute_weights(ensemble,x_train_seat,y_train_seat,x_test_seat,y_test_seat)\n",
    "\n",
    "eclf3 = VotingClassifier(estimators=[('lg', lg_l1_best), \n",
    "                                     ('lg2', lg_l2_best), \n",
    "                                     ('rf', rf2),\n",
    "                                     ('xgb', xgb),\n",
    "                                     ('MLP',MLP_best),\n",
    "                                     ('ada',ada_best)], \n",
    "                                     voting='soft', \n",
    "                                     weights=weights,\n",
    "                                     flatten_transform=True)\n",
    "eclf3 = eclf3.fit(x_train_seat, y_train_seat)\n",
    "y_pred3 = eclf3.predict(x_test_seat)\n",
    "print(\"Accuracy is %.2f%%\" % ((np.sum(y_pred3 == np.array(y_test_seat).flatten()) / len(y_pred3))*100))"
   ]
  },
  {
   "cell_type": "code",
   "execution_count": 122,
   "metadata": {
    "scrolled": false
   },
   "outputs": [
    {
     "data": {
      "text/html": [
       "<div>\n",
       "<style scoped>\n",
       "    .dataframe tbody tr th:only-of-type {\n",
       "        vertical-align: middle;\n",
       "    }\n",
       "\n",
       "    .dataframe tbody tr th {\n",
       "        vertical-align: top;\n",
       "    }\n",
       "\n",
       "    .dataframe thead th {\n",
       "        text-align: right;\n",
       "    }\n",
       "</style>\n",
       "<table border=\"1\" class=\"dataframe\">\n",
       "  <thead>\n",
       "    <tr style=\"text-align: right;\">\n",
       "      <th></th>\n",
       "      <th>Precision</th>\n",
       "      <th>Recall</th>\n",
       "    </tr>\n",
       "  </thead>\n",
       "  <tbody>\n",
       "    <tr>\n",
       "      <th>Partial_success</th>\n",
       "      <td>0.329268</td>\n",
       "      <td>0.450000</td>\n",
       "    </tr>\n",
       "    <tr>\n",
       "      <th>Fail</th>\n",
       "      <td>0.648889</td>\n",
       "      <td>0.675926</td>\n",
       "    </tr>\n",
       "    <tr>\n",
       "      <th>Success</th>\n",
       "      <td>0.384615</td>\n",
       "      <td>0.260417</td>\n",
       "    </tr>\n",
       "  </tbody>\n",
       "</table>\n",
       "</div>"
      ],
      "text/plain": [
       "                 Precision    Recall\n",
       "Partial_success   0.329268  0.450000\n",
       "Fail              0.648889  0.675926\n",
       "Success           0.384615  0.260417"
      ]
     },
     "execution_count": 122,
     "metadata": {},
     "output_type": "execute_result"
    }
   ],
   "source": [
    "conf, pre_recall = produce_confusion_matrix(x_test_seat, y_test_seat,'seat_gained_success',eclf3) \n",
    "pre_recall"
   ]
  },
  {
   "cell_type": "code",
   "execution_count": null,
   "metadata": {},
   "outputs": [],
   "source": []
  }
 ],
 "metadata": {
  "kernelspec": {
   "display_name": "Python 3",
   "language": "python",
   "name": "python3"
  },
  "language_info": {
   "codemirror_mode": {
    "name": "ipython",
    "version": 3
   },
   "file_extension": ".py",
   "mimetype": "text/x-python",
   "name": "python",
   "nbconvert_exporter": "python",
   "pygments_lexer": "ipython3",
   "version": "3.7.4"
  }
 },
 "nbformat": 4,
 "nbformat_minor": 2
}
