{
 "cells": [
  {
   "cell_type": "code",
   "execution_count": 1,
   "metadata": {},
   "outputs": [],
   "source": [
    "import numpy as np\n",
    "import pathlib as pa\n",
    "import os\n",
    "import pandas as pd\n",
    "import tensorflow as tf\n",
    "import seaborn as sns\n",
    "import warnings\n",
    "warnings.filterwarnings('ignore')\n",
    "\n",
    "#Preprocessing\n",
    "from sklearn.model_selection import train_test_split,GridSearchCV\n",
    "from sklearn.model_selection import StratifiedShuffleSplit\n",
    "import sklearn.model_selection as ms\n",
    "from sklearn.preprocessing import LabelEncoder, StandardScaler, OneHotEncoder\n",
    "import category_encoders as ce\n",
    "from sklearn.metrics import accuracy_score\n",
    "from sklearn.compose import ColumnTransformer, make_column_transformer\n",
    "from sklearn.impute import SimpleImputer\n",
    "from sklearn.pipeline import make_pipeline\n",
    "from imblearn.over_sampling import SMOTE\n",
    "from imblearn.over_sampling import SMOTENC\n",
    "from sklearn.preprocessing import label_binarize\n",
    "from sklearn.metrics import confusion_matrix\n",
    "\n",
    "#Model\n",
    "from xgboost import XGBClassifier\n",
    "from sklearn import svm\n",
    "from sklearn.linear_model import LogisticRegression\n",
    "from sklearn.svm import LinearSVC\n",
    "from sklearn.neighbors import NearestCentroid\n",
    "from sklearn.linear_model import LogisticRegression\n",
    "from sklearn.naive_bayes import MultinomialNB\n",
    "from sklearn.ensemble import RandomForestClassifier, VotingClassifier\n",
    "\n",
    "import matplotlib.pyplot as plt\n"
   ]
  },
  {
   "cell_type": "code",
   "execution_count": 2,
   "metadata": {},
   "outputs": [],
   "source": [
    "BASE_DIR = pa.Path(os.path.abspath('')).parent\n",
    "DATA_DIR = BASE_DIR.joinpath('data')\n",
    "WORK_DIR = BASE_DIR.joinpath('Model')"
   ]
  },
  {
   "cell_type": "code",
   "execution_count": 3,
   "metadata": {},
   "outputs": [],
   "source": [
    "# read in data\n",
    "all_data_csv = list(DATA_DIR.glob('**/*.csv'))\n",
    "all_data_csv = [str(path) for path in all_data_csv]\n",
    "\n",
    "all_data_txt = list(DATA_DIR.glob('**/*.txt'))\n",
    "all_data_txt = [str(path) for path in all_data_txt]\n",
    "\n",
    "BASE_DATA =pd.read_csv(all_data_csv[0])\n",
    "# BASE_DATA =pd.read_csv(all_data_csv[1])\n",
    "\n",
    "# price_histroy = pd.read_csv(all_data_txt[0])\n",
    "\n",
    "full_name = list(BASE_DATA.keys())"
   ]
  },
  {
   "cell_type": "code",
   "execution_count": 4,
   "metadata": {},
   "outputs": [
    {
     "data": {
      "text/plain": [
       "['campaign_id',\n",
       " 'campaign_announcement_date',\n",
       " 'campaign_title',\n",
       " 'campaign_objective_primary',\n",
       " 'value_demand',\n",
       " 'governance_demand',\n",
       " 'activist_campaign_tactic',\n",
       " 'total_number_of_board_seats',\n",
       " 'number_of_board_seats_sought',\n",
       " 'short_or_majority_or_full_slate',\n",
       " 'proxy_proposal',\n",
       " 'glass_lewis_support',\n",
       " 'iss_support',\n",
       " 'activist_id',\n",
       " 'activist_name',\n",
       " 'activist_group',\n",
       " 'first_trade_date',\n",
       " 'last_trade_date',\n",
       " 'ownership_pecent_on_announcement',\n",
       " 'company_id',\n",
       " 'company_name',\n",
       " 'sector',\n",
       " 'price_at_announcement',\n",
       " 'ltm_eps_at_announcement',\n",
       " 'earnings_yield_at_announcement',\n",
       " 'current_entity_status',\n",
       " 'current_entity_detail',\n",
       " 'public_before_or_after_campaign_announcement',\n",
       " 'poison_pill_in_force_prior_to_announcement',\n",
       " 'poison_pill_adopted_in_response_to_campaign',\n",
       " 'pre_18m_announcement_date',\n",
       " 'pre_12m_announcement_date',\n",
       " 'pre_6m_announcement_date',\n",
       " 'pre_3m_announcement_date',\n",
       " 'pre_18m_stock_price',\n",
       " 'pre_12m_stock_price',\n",
       " 'pre_6m_stock_price',\n",
       " 'pre_3m_stock_price',\n",
       " 'pre_18m_price_to_earnings',\n",
       " 'pre_12m_price_to_earnings',\n",
       " 'pre_6m_price_to_earnings',\n",
       " 'pre_3m_price_to_earnings',\n",
       " 'pre_18m_dividends',\n",
       " 'pre_12m_dividends',\n",
       " 'pre_6m_dividends',\n",
       " 'pre_3m_dividends',\n",
       " 'pre_18m_price_return',\n",
       " 'pre_12m_price_return',\n",
       " 'pre_6m_price_return',\n",
       " 'pre_3m_price_return',\n",
       " 'pre_18m_total_return',\n",
       " 'pre_12m_total_return',\n",
       " 'pre_6m_total_return',\n",
       " 'pre_3m_total_return',\n",
       " 'number_of_board_seats_gained',\n",
       " 'proxy_campaign_winner_or_result',\n",
       " 'activist_campaign_results',\n",
       " 'post_6m_announcement_date',\n",
       " 'post_12m_announcement_date',\n",
       " 'post_18m_announcement_date',\n",
       " 'post_6m_stock_price',\n",
       " 'post_12m_stock_price',\n",
       " 'post_18m_stock_price',\n",
       " 'post_6m_price_to_earnings',\n",
       " 'post_12m_price_to_earnings',\n",
       " 'post_18m_price_to_earnings',\n",
       " 'post_6m_dividends',\n",
       " 'post_12m_dividends',\n",
       " 'post_18m_dividends',\n",
       " 'post_6m_price_return',\n",
       " 'post_12m_price_return',\n",
       " 'post_18m_price_return',\n",
       " 'post_6m_total_return',\n",
       " 'post_12m_total_return',\n",
       " 'post_18m_total_return',\n",
       " 'pre_18m_earnings_yield',\n",
       " 'pre_12m_earnings_yield',\n",
       " 'pre_6m_earnings_yield',\n",
       " 'pre_3m_earnings_yield',\n",
       " 'post_6m_earnings_yield',\n",
       " 'post_12m_earnings_yield',\n",
       " 'post_18m_earnings_yield',\n",
       " 'used_call_special_meeting_tactic',\n",
       " 'used_hostile_offer_tactic',\n",
       " 'used_lawsuit_tactic',\n",
       " 'used_letter_to_stockholders_tactic',\n",
       " 'used_no_or_unknown_tactic',\n",
       " 'used_nominate_slate_of_directors_tactic',\n",
       " 'used_propose_binding_proposal_tactic',\n",
       " 'used_propose_precatory_proposal_tactic',\n",
       " 'used_proxy_access_nomination_tactic',\n",
       " 'used_publicly_disclosed_letter_to_board_or_management_tactic',\n",
       " 'used_take_action_by_written_consent_tactic',\n",
       " 'used_tender_offer_launched_tactic',\n",
       " 'used_tender_offer_stake_only_tactic',\n",
       " 'used_threaten_proxy_fight_tactic',\n",
       " 'used_unsolicited_offer_tactic',\n",
       " 'used_withhold_vote_for_directors_tactic',\n",
       " 'lagged_campaign_announcement_date',\n",
       " 'past_return_successes',\n",
       " 'pre_18m_market_return',\n",
       " 'pre_12m_market_return',\n",
       " 'pre_6m_market_return',\n",
       " 'post_6m_market_return',\n",
       " 'post_12m_market_return',\n",
       " 'post_18m_market_return',\n",
       " 'beta',\n",
       " 'pre_6m_residual_return',\n",
       " 'pre_12m_residual_return',\n",
       " 'pre_18m_residual_return',\n",
       " 'post_6m_residual_return',\n",
       " 'post_12m_residual_return',\n",
       " 'post_18m_residual_return',\n",
       " 'cumulative_6m_residual_return',\n",
       " 'cumulative_12m_residual_return',\n",
       " 'cumulative_18m_residual_return',\n",
       " 'post_6m_total_return_bin',\n",
       " 'post_12m_total_return_bin',\n",
       " 'post_18m_total_return_bin']"
      ]
     },
     "execution_count": 4,
     "metadata": {},
     "output_type": "execute_result"
    }
   ],
   "source": [
    "list(BASE_DATA.columns)"
   ]
  },
  {
   "cell_type": "code",
   "execution_count": 5,
   "metadata": {},
   "outputs": [
    {
     "data": {
      "text/plain": [
       "(9571, 119)"
      ]
     },
     "execution_count": 5,
     "metadata": {},
     "output_type": "execute_result"
    }
   ],
   "source": [
    "BASE_DATA.shape"
   ]
  },
  {
   "cell_type": "code",
   "execution_count": 6,
   "metadata": {},
   "outputs": [
    {
     "data": {
      "text/plain": [
       "(8723, 119)"
      ]
     },
     "execution_count": 6,
     "metadata": {},
     "output_type": "execute_result"
    }
   ],
   "source": [
    "# Get rid of extreme value of ltm_eps_at_announcement\n",
    "eps_col = BASE_DATA.columns == 'ltm_eps_at_announcement'\n",
    "eps = BASE_DATA.loc[:,eps_col]\n",
    "low = .05\n",
    "high = .95\n",
    "quant_df = eps.quantile([low, high])\n",
    "eps = eps.apply(lambda x: x[(x.dtypes == 'float64') & (x>= quant_df.loc[low,x.name]) & (x <= quant_df.loc[high,x.name]) | (x.isnull())], axis=0)\n",
    "BASE_DATA = pd.concat([BASE_DATA.loc[:,~eps_col], eps], join = 'inner',axis=1)\n",
    "# Shape after deleting extreme value of ltm_eps_at_announcement\n",
    "BASE_DATA.shape"
   ]
  },
  {
   "cell_type": "markdown",
   "metadata": {},
   "source": [
    "## Proxy result\n",
    "    Assume all the information in X is available before announncement\n",
    "    \n"
   ]
  },
  {
   "cell_type": "code",
   "execution_count": 7,
   "metadata": {},
   "outputs": [
    {
     "name": "stdout",
     "output_type": "stream",
     "text": [
      "Original proxy_campaign_winner_or_result composition:\n",
      " Missing                     6657\n",
      "Settled/Concessions Made     673\n",
      "Management                   513\n",
      "Withdrawn                    446\n",
      "Dissident                    337\n",
      "Split                         55\n",
      "Pending                       42\n",
      "Name: proxy_campaign_winner_or_result, dtype: int64\n",
      "\n",
      "Grouped proxy_campaign_winner_or_result composition:\n",
      " Missing       6657\n",
      "Dissident     1065\n",
      "Management     959\n",
      "Name: proxy_result, dtype: int64\n"
     ]
    }
   ],
   "source": [
    "# Hand picked X variables that do not leak information\n",
    "X = ['campaign_objective_primary','value_demand','governance_demand','proxy_proposal',\\\n",
    "     'number_of_board_seats_sought','sector','total_number_of_board_seats',\\\n",
    "     'glass_lewis_support','iss_support','ownership_pecent_on_announcement','price_at_announcement',\\\n",
    "     'ltm_eps_at_announcement','earnings_yield_at_announcement','current_entity_detail','current_entity_status',\\\n",
    "     'public_before_or_after_campaign_announcement','poison_pill_in_force_prior_to_announcement',\\\n",
    "     'pre_18m_price_to_earnings','pre_12m_price_to_earnings',\n",
    "     'pre_6m_price_to_earnings','pre_3m_price_to_earnings',\n",
    "     'pre_18m_total_return','pre_12m_total_return',\n",
    "     'pre_6m_total_return','pre_3m_total_return',\n",
    "     'used_call_special_meeting_tactic',\n",
    "     'used_hostile_offer_tactic',\n",
    "     'used_lawsuit_tactic',\n",
    "     'used_letter_to_stockholders_tactic',\n",
    "     'used_no_or_unknown_tactic',\n",
    "     'used_nominate_slate_of_directors_tactic',\n",
    "     'used_propose_binding_proposal_tactic',\n",
    "     'used_propose_precatory_proposal_tactic',\n",
    "     'used_proxy_access_nomination_tactic',\n",
    "     'used_publicly_disclosed_letter_to_board_or_management_tactic',\n",
    "     'used_take_action_by_written_consent_tactic',\n",
    "     'used_tender_offer_launched_tactic',\n",
    "     'used_tender_offer_stake_only_tactic',\n",
    "     'used_threaten_proxy_fight_tactic',\n",
    "     'used_unsolicited_offer_tactic', \n",
    "     'used_withhold_vote_for_directors_tactic'\n",
    "    ]\n",
    "\n",
    "# Y1 as grouped proxy_campaign_winner_or_result \n",
    "Y = ['proxy_result']\n",
    "# Y2 as board seat ratio = number of board seats gained / number of board seats sought\n",
    "Y2 = ['number_of_board_seats_sought', 'number_of_board_seats_gained']\n",
    "\n",
    "# Adjust data type\n",
    "BASE_DATA['number_of_board_seats_sought'] = BASE_DATA['number_of_board_seats_sought'].astype('object')\n",
    "BASE_DATA['total_number_of_board_seats'] = BASE_DATA['total_number_of_board_seats'].astype('object')\n",
    "\n",
    "# Get whether variable is categorical\n",
    "cate = BASE_DATA[X].dtypes == object\n",
    "cate_name = BASE_DATA[X].select_dtypes(include=['object']).columns\n",
    "num_name = BASE_DATA[X].select_dtypes(exclude=['object']).columns\n",
    "\n",
    "\n",
    "# Fill missing proxy_campaign_winner_or_result as Missing\n",
    "BASE_DATA['proxy_campaign_winner_or_result'] = BASE_DATA['proxy_campaign_winner_or_result'].fillna('Missing')\n",
    "\n",
    "# Show proxy_campaign_winner_or_result composition\n",
    "print('Original proxy_campaign_winner_or_result composition:\\n', \n",
    "      BASE_DATA['proxy_campaign_winner_or_result'].value_counts())\n",
    "\n",
    "# Group proxy_campaign_winner_or_result into three levels: Missing, Dissident, and Management\n",
    "BASE_DATA['proxy_result'] = np.nan\n",
    "BASE_DATA['proxy_result'][BASE_DATA['proxy_campaign_winner_or_result'] == 'Missing'] = 'Missing'\n",
    "BASE_DATA['proxy_result'][BASE_DATA['proxy_campaign_winner_or_result'] == 'Settled/Concessions Made'] = 'Dissident'\n",
    "BASE_DATA['proxy_result'][BASE_DATA['proxy_campaign_winner_or_result'] == 'Withdrawn'] = 'Management'\n",
    "BASE_DATA['proxy_result'][BASE_DATA['proxy_campaign_winner_or_result'] == 'Dissident'] = 'Dissident'\n",
    "BASE_DATA['proxy_result'][BASE_DATA['proxy_campaign_winner_or_result'] == 'Split'] = 'Dissident'\n",
    "BASE_DATA['proxy_result'][BASE_DATA['proxy_campaign_winner_or_result'] == 'Management'] = 'Management'\n",
    "\n",
    "# Drop any record with missing proxy_result, which are records with proxy_campaign_winner_or_result == Pending\n",
    "df = BASE_DATA.dropna(how = 'any',subset=['proxy_result'])\n",
    "\n",
    "# Show proxy_result composition after grouping\n",
    "print('\\nGrouped proxy_campaign_winner_or_result composition:\\n', df['proxy_result'].value_counts())"
   ]
  },
  {
   "cell_type": "markdown",
   "metadata": {},
   "source": [
    "## Complete case analysis on proxy winner or results"
   ]
  },
  {
   "cell_type": "code",
   "execution_count": 8,
   "metadata": {},
   "outputs": [],
   "source": [
    "df2 = df[df['proxy_result'] != 'Missing']"
   ]
  },
  {
   "cell_type": "markdown",
   "metadata": {},
   "source": [
    "## Note:\n",
    "We grouped proxy_campaign_winner_or_result into the following categories:\n",
    "    - Missing\n",
    "    - Dissident\n",
    "        - Settled/Concessions Made\n",
    "        - Dissident\n",
    "        - Split (dissident's partial success, so also count as dissident)\n",
    "    - Manamgent\n",
    "        - Managment\n",
    "        - Withdrawn\n",
    "    - Delete Pending records"
   ]
  },
  {
   "cell_type": "markdown",
   "metadata": {},
   "source": [
    "# Data preprocessing"
   ]
  },
  {
   "cell_type": "markdown",
   "metadata": {},
   "source": [
    "### Utility"
   ]
  },
  {
   "cell_type": "code",
   "execution_count": 9,
   "metadata": {},
   "outputs": [],
   "source": [
    "def balanced_subsample(x,y,subsample_size=1.0):\n",
    "\n",
    "    class_xs = []\n",
    "    min_elems = None\n",
    "\n",
    "    for yi in np.unique(y):\n",
    "        elems = x[(y == yi)]\n",
    "        class_xs.append((yi, elems))\n",
    "        if min_elems == None or elems.shape[0] < min_elems:\n",
    "            min_elems = elems.shape[0]\n",
    "\n",
    "    use_elems = min_elems\n",
    "    if subsample_size < 1:\n",
    "        use_elems = int(min_elems*subsample_size)\n",
    "\n",
    "    xs = []\n",
    "    ys = []\n",
    "\n",
    "    for ci,this_xs in class_xs:\n",
    "        if len(this_xs) > use_elems:\n",
    "            np.random.shuffle(this_xs)\n",
    "\n",
    "        x_ = this_xs[:use_elems]\n",
    "        y_ = np.empty(use_elems)\n",
    "        y_.fill(ci)\n",
    "\n",
    "        xs.append(x_)\n",
    "        ys.append(y_)\n",
    "\n",
    "    xs = np.concatenate(xs)\n",
    "    ys = np.concatenate(ys)\n",
    "\n",
    "    return xs,ys\n",
    "\n",
    "# def TPR_FPR(x_test,y_test,model,including_missing =True):\n",
    "#     # Binarize multi-class lable for true and predicted y_test\n",
    "#     if including_missing:\n",
    "#         y_test_label = label_binarize(y_test, classes=['Missing', 'Dissident', 'Management'])\n",
    "#         pred = model.predict(x_test)\n",
    "#         pred_label = label_binarize(pred, classes=['Missing', 'Dissident', 'Management'])\n",
    "#     else:\n",
    "#         y_test_label = label_binarize(y_test, classes=['Dissident', 'Management'])\n",
    "#         pred = model.predict(x_test)\n",
    "#         pred_label = label_binarize(pred, classes=['Dissident', 'Management'])\n",
    "\n",
    "    \n",
    "#     # Calculate True positive and False positive rate\n",
    "#     TP = lambda y_test,y_pred: np.sum(np.array([(y_test[i] == y_pred[i] and y_test[i] == 1) for i in range(len(y_test))]))\n",
    "#     FN = lambda y_test,y_pred: np.sum(np.array([(y_test[i] != y_pred[i] and y_test[i] == 1) for i in range(len(y_test))]))\n",
    "#     TN = lambda y_test,y_pred: np.sum(np.array([(y_test[i] == y_pred[i] and y_test[i] == 0) for i in range(len(y_test))]))\n",
    "#     FP = lambda y_test,y_pred: np.sum(np.array([(y_test[i] != y_pred[i] and y_test[i] == 0) for i in range(len(y_test))]))\n",
    "\n",
    "#     TPR = []\n",
    "#     FPR = []\n",
    "#     for i in range(pred_label.shape[1]):\n",
    "#         TPR.append(TP(y_test_label[:,i],pred_label[:,i])/ (TP(y_test_label[:,i],pred_label[:,i]) + FN(y_test_label[:,i],pred_label[:,i])))\n",
    "#         FPR.append(FP(y_test_label[:,i],pred_label[:,i])/ (FP(y_test_label[:,i],pred_label[:,i]) + TN(y_test_label[:,i],pred_label[:,i])))\n",
    "        \n",
    "        \n",
    "#     # Display in dataframe form\n",
    "#     if including_missing:\n",
    "#         d1 = pd.DataFrame(TPR, index=['Missing', 'Dissident', 'Management'], columns = ['True Positive Rate'])\n",
    "#         d2 = pd.DataFrame(FPR, index=['Missing', 'Dissident', 'Management'], columns = ['False Positive Rate'])\n",
    "#     else:\n",
    "#         confusion_matrix(y_test, pred_label)\n",
    "#         d1 = pd.DataFrame(TPR, index=['Management'], columns = ['True Positive Rate'])\n",
    "#         d2 = pd.DataFrame(FPR, index=['Management'], columns = ['False Positive Rate'])\n",
    "#     return pd.concat([d1,d2], axis=1)\n",
    "\n",
    "def produce_confusion_matrix(x_test,y_test,model):\n",
    "    pred = model.predict(x_test)\n",
    "    matrix = confusion_matrix(y_test, pred, labels=y_test['proxy_result'].unique())\n",
    "    # By definition a confusion matrix C is such that Cij is equal to the number of observations \n",
    "    # known to be in group i but predicted to be in group j.\n",
    "    # Thus in binary classification, the count of true negatives is C0,0, false negatives is C1,0, \n",
    "    # true positives is C1,1 and false positives is C0,1.\n",
    "    precision = [matrix[i,i] / sum(matrix[:,i]) for i in range(matrix.shape[1])]\n",
    "    recall = [matrix[i,i] / sum(matrix[i,:]) for i in range(matrix.shape[1])]\n",
    "    d1 = pd.DataFrame(precision, columns=['Precision'], index = y_test['proxy_result'].unique())\n",
    "    d2 = pd.DataFrame(recall, columns=['Recall'], index = y_test['proxy_result'].unique())\n",
    "    precision_recall = pd.concat([d1,d2], axis=1)\n",
    "    return matrix, precision_recall\n",
    "\n"
   ]
  },
  {
   "cell_type": "markdown",
   "metadata": {},
   "source": [
    "## Preprocessing_Pipeline"
   ]
  },
  {
   "cell_type": "markdown",
   "metadata": {},
   "source": [
    "### proxy_campaign_winner_or_result missing as a new category"
   ]
  },
  {
   "cell_type": "code",
   "execution_count": 10,
   "metadata": {},
   "outputs": [
    {
     "name": "stdout",
     "output_type": "stream",
     "text": [
      "x_train, y_train shape before up-sampling:\n",
      " (6944, 208) (6944, 1)\n",
      "\n",
      "proxy_result composition before up-sampling:\n",
      " Missing       5309\n",
      "Dissident      876\n",
      "Management     759\n",
      "Name: proxy_result, dtype: int64\n",
      "\n",
      "x_train, y_train shape after up-sampling:\n",
      " (15927, 208) (15927,)\n",
      "\n",
      "proxy_result composition after up-sampling:\n",
      " {'Dissident': 5309, 'Management': 5309, 'Missing': 5309}\n"
     ]
    }
   ],
   "source": [
    "# SMOTE\n",
    "sm = SMOTENC(random_state=42, categorical_features=cate)\n",
    "\n",
    "# Impute missing numerical variable as -9999\n",
    "pipeline_component = make_pipeline(SimpleImputer(missing_values = np.nan, strategy = 'constant',fill_value = -9999))\n",
    "\n",
    "# Impute missing categorical variable as NA and do One-Hot Encoding\n",
    "pipeline_component_cate = make_pipeline(SimpleImputer(missing_values = np.nan, strategy = 'constant',\n",
    "                                                      fill_value = 'NA'),\n",
    "                                          (OneHotEncoder(handle_unknown='ignore')))\n",
    "\n",
    "# Combine numerical and categorical variables preprocessing\n",
    "preprocess = make_column_transformer((pipeline_component,~cate),\n",
    "                                     (pipeline_component_cate,cate))\n",
    "\n",
    "# Perform preprocessing on data with missing y\n",
    "x_preprocessed = preprocess.fit(df[X],df[Y]).transform(df[X])\n",
    "\n",
    "# Perform preprocessing on data without missing y\n",
    "x_preprocessed_complete = preprocess.fit(df2[X],df2[Y]).transform(df2[X])\n",
    "\n",
    "# Perform train test split\n",
    "x_train, x_test, y_train, y_test = train_test_split(x_preprocessed, df[Y], test_size = 0.2, random_state=0)\n",
    "x_train_complete, x_test_complete, y_train_complete, y_test_complete = train_test_split(x_preprocessed_complete, \n",
    "                                                                                        df2[Y], test_size = 0.2, \n",
    "                                                                                        random_state=0)\n",
    "\n",
    "# Print proxy_result composition before up-sampling\n",
    "print('x_train, y_train shape before up-sampling:\\n', x_train.shape, y_train.shape)\n",
    "print('\\nproxy_result composition before up-sampling:\\n',y_train['proxy_result'].value_counts())\n",
    "\n",
    "# Perform SMOTE up-sampling\n",
    "x_train, y_train = sm.fit_resample(x_train, y_train)\n",
    "x_train_complete, y_train_complete = sm.fit_resample(x_train_complete, y_train_complete)\n",
    "\n",
    "# Print proxy_result composition after up-sampling\n",
    "print('\\nx_train, y_train shape after up-sampling:\\n',x_train.shape, y_train.shape)\n",
    "unique, counts = np.unique(y_train, return_counts=True)\n",
    "print('\\nproxy_result composition after up-sampling:\\n', dict(zip(unique, counts)))\n",
    "      "
   ]
  },
  {
   "cell_type": "markdown",
   "metadata": {},
   "source": [
    "## l1 penalty logistic regression"
   ]
  },
  {
   "cell_type": "code",
   "execution_count": 11,
   "metadata": {},
   "outputs": [
    {
     "name": "stdout",
     "output_type": "stream",
     "text": [
      "The best parameter for Logistic is {'C': 2.0}\n",
      "Training accuracy for Logistic Regression is 0.81108\n",
      "Testing accuracy for Logistic Regression is 0.90616\n"
     ]
    }
   ],
   "source": [
    "# Logistic regression with l1 norm\n",
    "lg_l1 = LogisticRegression(penalty = 'l1',multi_class = 'auto')\n",
    "\n",
    "# Perform grid search\n",
    "param_grid = {'C': np.linspace(0.00000000000001, 2, 3)}\n",
    "grid = GridSearchCV(lg_l1, param_grid, cv=2)\n",
    "grid.fit(x_train, y_train)\n",
    "print(\"The best parameter for Logistic is {}\".format(grid.best_params_))\n",
    "print(\"Training accuracy for Logistic Regression is {}\".format(round(grid.score(x_train, y_train),5)))\n",
    "print(\"Testing accuracy for Logistic Regression is {}\".format(round(grid.score(x_test, y_test),5)))"
   ]
  },
  {
   "cell_type": "code",
   "execution_count": 12,
   "metadata": {
    "scrolled": true
   },
   "outputs": [
    {
     "data": {
      "text/plain": [
       "array([[1337,    8,    3],\n",
       "       [   6,  128,   55],\n",
       "       [   1,   90,  109]])"
      ]
     },
     "execution_count": 12,
     "metadata": {},
     "output_type": "execute_result"
    }
   ],
   "source": [
    "# confusion_matrix with order: ['Missing', 'Dissident', 'Management']\n",
    "conf, pre_recall = produce_confusion_matrix(x_test, y_test, grid) \n",
    "conf"
   ]
  },
  {
   "cell_type": "code",
   "execution_count": 13,
   "metadata": {},
   "outputs": [
    {
     "data": {
      "text/html": [
       "<div>\n",
       "<style scoped>\n",
       "    .dataframe tbody tr th:only-of-type {\n",
       "        vertical-align: middle;\n",
       "    }\n",
       "\n",
       "    .dataframe tbody tr th {\n",
       "        vertical-align: top;\n",
       "    }\n",
       "\n",
       "    .dataframe thead th {\n",
       "        text-align: right;\n",
       "    }\n",
       "</style>\n",
       "<table border=\"1\" class=\"dataframe\">\n",
       "  <thead>\n",
       "    <tr style=\"text-align: right;\">\n",
       "      <th></th>\n",
       "      <th>Precision</th>\n",
       "      <th>Recall</th>\n",
       "    </tr>\n",
       "  </thead>\n",
       "  <tbody>\n",
       "    <tr>\n",
       "      <th>Missing</th>\n",
       "      <td>0.994792</td>\n",
       "      <td>0.991840</td>\n",
       "    </tr>\n",
       "    <tr>\n",
       "      <th>Dissident</th>\n",
       "      <td>0.566372</td>\n",
       "      <td>0.677249</td>\n",
       "    </tr>\n",
       "    <tr>\n",
       "      <th>Management</th>\n",
       "      <td>0.652695</td>\n",
       "      <td>0.545000</td>\n",
       "    </tr>\n",
       "  </tbody>\n",
       "</table>\n",
       "</div>"
      ],
      "text/plain": [
       "            Precision    Recall\n",
       "Missing      0.994792  0.991840\n",
       "Dissident    0.566372  0.677249\n",
       "Management   0.652695  0.545000"
      ]
     },
     "execution_count": 13,
     "metadata": {},
     "output_type": "execute_result"
    }
   ],
   "source": [
    "pre_recall"
   ]
  },
  {
   "cell_type": "code",
   "execution_count": 14,
   "metadata": {},
   "outputs": [
    {
     "data": {
      "image/png": "[encoded data removed]",
      "text/plain": [
       "<Figure size 1440x720 with 1 Axes>"
      ]
     },
     "metadata": {
      "needs_background": "light"
     },
     "output_type": "display_data"
    }
   ],
   "source": [
    "# Logistic regression with best parameter\n",
    "lg_l1 = LogisticRegression(penalty = 'l1',multi_class = 'auto', C = 2)\n",
    "lg_l1.fit(x_train, y_train)\n",
    "\n",
    "# Get feature name after one-hot encoding\n",
    "hot = OneHotEncoder(handle_unknown='ignore')\n",
    "hot.fit_transform(df[X].select_dtypes(include = 'object').replace(np.nan,'Missing'))\n",
    "hot.get_feature_names()\n",
    "combine = list(num_name) + hot.get_feature_names().tolist()\n",
    "\n",
    "# Get top 20 important features\n",
    "feature_importance_dict = dict(zip(combine, lg_l1.coef_[0]))\n",
    "top_20_important = {k:v for k,v in sorted(feature_importance_dict.items(), key=lambda x: x[1], reverse=True)[:20]}\n",
    "name = [item for item in top_20_important]\n",
    "importance = [top_20_important[item] for item in top_20_important]\n",
    "\n",
    "# Plot top 20 important features\n",
    "_=plt.figure(figsize=(20,10))\n",
    "_=plt.scatter(name,importance)\n",
    "_=plt.xticks(rotation='vertical')\n",
    "_=plt.title('Top 20 Coefficients for Logistic Regression')\n",
    "_=plt.xlabel('Features')\n",
    "_=plt.ylabel('coefficient')"
   ]
  },
  {
   "cell_type": "markdown",
   "metadata": {},
   "source": [
    "## Complete case"
   ]
  },
  {
   "cell_type": "code",
   "execution_count": 15,
   "metadata": {},
   "outputs": [
    {
     "name": "stdout",
     "output_type": "stream",
     "text": [
      "The best parameter for Logistic is {'C': 2.0}\n",
      "Training accuracy for Logistic Regression is 0.67943\n",
      "Testing accuracy for Logistic Regression is 0.5679\n"
     ]
    }
   ],
   "source": [
    "# Logistic regression\n",
    "lg_l1 = LogisticRegression(penalty = 'l1',multi_class = 'auto')\n",
    "\n",
    "# Perform grid search\n",
    "param_grid = {'C': np.linspace(0.00000000000001, 2, 3)}\n",
    "grid = GridSearchCV(lg_l1, param_grid, cv=2)\n",
    "grid.fit(x_train_complete, y_train_complete)\n",
    "print(\"The best parameter for Logistic is {}\".format(grid.best_params_))\n",
    "print(\"Training accuracy for Logistic Regression is {}\".format(round(grid.score(x_train_complete, y_train_complete),5)))\n",
    "print(\"Testing accuracy for Logistic Regression is {}\".format(round(grid.score(x_test_complete, y_test_complete),5)))"
   ]
  },
  {
   "cell_type": "code",
   "execution_count": 16,
   "metadata": {},
   "outputs": [
    {
     "data": {
      "text/plain": [
       "array([[ 97,  79],\n",
       "       [ 96, 133]])"
      ]
     },
     "execution_count": 16,
     "metadata": {},
     "output_type": "execute_result"
    }
   ],
   "source": [
    "# confusion_matrix with order: ['Management', 'Dissident']\n",
    "conf, pre_recall = produce_confusion_matrix(x_test_complete, y_test_complete, grid) \n",
    "conf"
   ]
  },
  {
   "cell_type": "code",
   "execution_count": 17,
   "metadata": {},
   "outputs": [
    {
     "data": {
      "text/html": [
       "<div>\n",
       "<style scoped>\n",
       "    .dataframe tbody tr th:only-of-type {\n",
       "        vertical-align: middle;\n",
       "    }\n",
       "\n",
       "    .dataframe tbody tr th {\n",
       "        vertical-align: top;\n",
       "    }\n",
       "\n",
       "    .dataframe thead th {\n",
       "        text-align: right;\n",
       "    }\n",
       "</style>\n",
       "<table border=\"1\" class=\"dataframe\">\n",
       "  <thead>\n",
       "    <tr style=\"text-align: right;\">\n",
       "      <th></th>\n",
       "      <th>Precision</th>\n",
       "      <th>Recall</th>\n",
       "    </tr>\n",
       "  </thead>\n",
       "  <tbody>\n",
       "    <tr>\n",
       "      <th>Management</th>\n",
       "      <td>0.502591</td>\n",
       "      <td>0.551136</td>\n",
       "    </tr>\n",
       "    <tr>\n",
       "      <th>Dissident</th>\n",
       "      <td>0.627358</td>\n",
       "      <td>0.580786</td>\n",
       "    </tr>\n",
       "  </tbody>\n",
       "</table>\n",
       "</div>"
      ],
      "text/plain": [
       "            Precision    Recall\n",
       "Management   0.502591  0.551136\n",
       "Dissident    0.627358  0.580786"
      ]
     },
     "execution_count": 17,
     "metadata": {},
     "output_type": "execute_result"
    }
   ],
   "source": [
    "pre_recall"
   ]
  },
  {
   "cell_type": "code",
   "execution_count": 18,
   "metadata": {},
   "outputs": [
    {
     "data": {
      "image/png": "[encoded data removed]",
      "text/plain": [
       "<Figure size 1440x720 with 1 Axes>"
      ]
     },
     "metadata": {
      "needs_background": "light"
     },
     "output_type": "display_data"
    }
   ],
   "source": [
    "# Logistic regression with best parameter\n",
    "lg_l1 = LogisticRegression(penalty = 'l1',multi_class = 'auto', C = 2)\n",
    "lg_l1.fit(x_train_complete, y_train_complete)\n",
    "\n",
    "# Get feature name after one-hot encoding\n",
    "hot = OneHotEncoder(handle_unknown='ignore')\n",
    "hot.fit_transform(df2[X].select_dtypes(include = 'object').replace(np.nan,'Missing'))\n",
    "hot.get_feature_names()\n",
    "combine2 = list(num_name) + hot.get_feature_names().tolist()\n",
    "\n",
    "# Get top 20 important features\n",
    "feature_importance_dict = dict(zip(combine2, lg_l1.coef_[0]))\n",
    "top_20_important = {k:v for k,v in sorted(feature_importance_dict.items(), key=lambda x: x[1], reverse=True)[:20]}\n",
    "name = [item for item in top_20_important]\n",
    "importance = [top_20_important[item] for item in top_20_important]\n",
    "\n",
    "# Plot top 20 important features\n",
    "_=plt.figure(figsize=(20,10))\n",
    "_=plt.scatter(name,importance)\n",
    "_=plt.xticks(rotation='vertical')\n",
    "_=plt.title('Coefficient for Logistic Regression')\n",
    "_=plt.xlabel('Features')\n",
    "_=plt.ylabel('coefficient')"
   ]
  },
  {
   "cell_type": "code",
   "execution_count": 19,
   "metadata": {},
   "outputs": [
    {
     "data": {
      "text/plain": [
       "{'x0_Enhance Corporate Governance': 1.593049749619865,\n",
       " 'x3_Advance Notice Related (Strengthen)': 1.488090650231002,\n",
       " 'x3_Eliminate Dual Class Structure (Unequal Voting)': 1.4819996446126342,\n",
       " 'x3_Separate Chairman and CEO Positions/Independent Chairman': 1.3092861862336762,\n",
       " 'x4_12': 1.2482678588879719,\n",
       " 'x3_Filling Board Vacancies Related (Reduce Defense)': 1.1580610396034396,\n",
       " 'used_unsolicited_offer_tactic': 1.157422965738216,\n",
       " 'x4_8': 1.1548347064680884,\n",
       " 'x7_Management': 1.0066227062906778,\n",
       " 'x0_Remove Director(s), No Dissident Nominee to Fill Vacancy': 0.9496255940896611,\n",
       " 'x3_Hire Adviser to Evaluate Alternatives/Seek Sale or Liquidation of Company': 0.8781273514586286,\n",
       " 'x5_Industrial Services': 0.7610910819867438,\n",
       " 'x6_2': 0.7161163330532838,\n",
       " 'x9_Mutual Fd-Open End': 0.7010907483250015,\n",
       " 'x3_Other Maximize Shareholder Value Related': 0.6795534604269081,\n",
       " 'x0_Vote/Activism Against a Merger': 0.6372396024490252,\n",
       " 'x3_Other Takeover Defense Related (Increase)': 0.6330439739336684,\n",
       " 'x1_Block Merger/Agitate for Higher Price (Shareholder of Target)': 0.6282046052607401,\n",
       " 'x3_Approve Adjournment of Meeting': 0.5642257053776819,\n",
       " 'x5_Transportation': 0.5286113030176004,\n",
       " 'used_nominate_slate_of_directors_tactic': 0.5181009055040645,\n",
       " 'x3_Approve Sale/Spin-off of Assets or Subsidiary': 0.5084946626975071,\n",
       " 'x3_Declassify Board': 0.48572056974571653,\n",
       " 'used_withhold_vote_for_directors_tactic': 0.41673208582166077,\n",
       " 'x3_Other Non-Takeover Defense Related Charter/Bylaw Amendment': 0.3833375813749286,\n",
       " 'x5_Technology Services': 0.33683434971843706,\n",
       " 'x9_Extinct': 0.3354941450514073,\n",
       " 'x3_Other Executive Compensation Issues': 0.332140842297437,\n",
       " 'x12_No': 0.3279862838551268,\n",
       " 'x2_Missing': 0.32049629513197453,\n",
       " 'x9_Private Eq Fd/Alt Invt': 0.3120248561027938,\n",
       " 'x6_12': 0.31182671256441097,\n",
       " 'x5_Health Services': 0.3018122717289945,\n",
       " 'x8_Management': 0.2935043943907724,\n",
       " 'x8_Split': 0.2883434771767185,\n",
       " 'x6_1': 0.28270213972734715,\n",
       " 'x2_Remove Director(s)': 0.2492343661163634,\n",
       " 'x2_Board Seats (activist group)': 0.2461341560517472,\n",
       " 'x5_Finance': 0.226324891483307,\n",
       " 'x7_Missing': 0.2150026937466705,\n",
       " 'x4_1': 0.2044883382689904,\n",
       " 'x5_Miscellaneous': 0.19650833665893377,\n",
       " 'used_letter_to_stockholders_tactic': 0.1626629998920164,\n",
       " 'x1_Fund specific: Change Investment Strategy': 0.15526647286106707,\n",
       " 'x3_Require an Independent Lead Director': 0.14646678057315585,\n",
       " 'x5_Energy Minerals': 0.13932050296451579,\n",
       " 'x4_2': 0.0897142716149574,\n",
       " 'used_propose_precatory_proposal_tactic': 0.08890500403627614,\n",
       " 'x5_Non-Energy Minerals': 0.0810774790099025,\n",
       " 'x6_13': 0.0769015940995921,\n",
       " 'used_call_special_meeting_tactic': 0.07566583200540926,\n",
       " 'x4_10': 0.05838791075623883,\n",
       " 'x9_Holding Company': 0.0569928417312931,\n",
       " 'x5_Retail Trade': 0.05109292396632088,\n",
       " 'x4_4': 0.0501503360256424,\n",
       " 'x1_Seek Sale/Merger/Liquidation': 0.046770405801768465,\n",
       " 'x0_Vote For a Stockholder Proposal': 0.040362823677083846,\n",
       " 'x9_Subsidiary': 0.016308531008274944,\n",
       " 'x6_7': 0.0040328988964780715,\n",
       " 'x1_Fund specific: Realize Net Asset Value/Open-End a Closed-End Fund': 0.003932537991953024,\n",
       " 'ltm_eps_at_announcement': 9.332989890230918e-05,\n",
       " 'pre_3m_price_to_earnings': 6.689369825102728e-05,\n",
       " 'pre_18m_total_return': 3.493453763982219e-05,\n",
       " 'pre_3m_total_return': 1.7341811661657243e-05,\n",
       " 'pre_12m_total_return': 6.6046360027849075e-06,\n",
       " 'used_no_or_unknown_tactic': 0.0,\n",
       " 'used_proxy_access_nomination_tactic': 0.0,\n",
       " 'used_tender_offer_launched_tactic': 0.0,\n",
       " 'used_threaten_proxy_fight_tactic': 0.0,\n",
       " 'x0_Maximize Shareholder Value': 0.0,\n",
       " 'x0_Remove Officer(s)': 0.0,\n",
       " 'x1_Breakup Company, Divest Assets/Divisions': 0.0,\n",
       " 'x1_Return Cash via Dividends/Buybacks': 0.0,\n",
       " 'x1_Separate Real Estate/Create REIT': 0.0,\n",
       " 'x2_Other Governance Enhancements': 0.0,\n",
       " 'x2_Social/Environmental/Political Issues': 0.0,\n",
       " 'x3_Advisory Vote on Compensation (\"say on pay\")': 0.0,\n",
       " 'x3_Allow for or Decrease Requirement to Call Special Meetings': 0.0,\n",
       " 'x3_Approve Change to Fundamental Investment Policies': 0.0,\n",
       " 'x3_Approve Control Share Acquisition': 0.0,\n",
       " 'x3_Approve Dissident Expense Reimbursement (specific proxy fight)': 0.0,\n",
       " 'x3_Approve Liquidation/Dissolution': 0.0,\n",
       " 'x3_Approve Merger (Acquirer)': 0.0,\n",
       " 'x3_Approve Merger (Target)': 0.0,\n",
       " 'x3_Approve Stock Issuance for Merger/Acquisition': 0.0,\n",
       " 'x3_Board Ability to Amend Bylaws Related (Reduce Defense)': 0.0,\n",
       " 'x3_Board Ability to Amend Bylaws Related (Strengthen)': 0.0,\n",
       " 'x3_Breakup Company, Divest Assets/Divisions': 0.0,\n",
       " 'x3_Decrease Difficulty to Remove Directors (Eliminate Supermajority)': 0.0,\n",
       " 'x3_Decrease Size of the Board': 0.0,\n",
       " 'x3_Decrease Vote Requirement to Amend Charter/Bylaws (Eliminate Supermajority)': 0.0,\n",
       " 'x3_Director Specific Compensation Related': 0.0,\n",
       " 'x3_Eliminate Supermajority Requirements': 0.0,\n",
       " 'x3_Environmental Issues': 0.0,\n",
       " 'x3_Establish Committee/Protocol for Shareholder Proposals Receiving Majority Vote': 0.0,\n",
       " 'x3_Health Issues': 0.0,\n",
       " 'x3_Increase Authorized Number of Shares of Common Stock': 0.0,\n",
       " 'x3_Increase the Size of the Board': 0.0,\n",
       " 'x3_Management Proposed Advisory Vote on Golden Parachute Compensation (\"say on parachutes\")': 0.0,\n",
       " 'x3_Other Capital Stock Related': 0.0,\n",
       " 'x3_Other Corporate Governance Issues': 0.0,\n",
       " 'x3_Other Fund Specific Issues': 0.0,\n",
       " 'x3_Other Social Issues Related': 0.0,\n",
       " 'x3_Other Takeover Defense Related (Reduce)': 0.0,\n",
       " 'x3_Ratify Auditors': 0.0,\n",
       " 'x3_Remove Officer(s)': 0.0,\n",
       " 'x3_Return Capital to Shareholders (Dividends, Buybacks)': 0.0,\n",
       " 'x3_Shareholder Nominee in Company Proxy (Proxy Access)': 0.0,\n",
       " 'x4_3': 0.0,\n",
       " 'x4_6': 0.0,\n",
       " 'x4_9': 0.0,\n",
       " 'x4_11': 0.0,\n",
       " 'x4_13': 0.0,\n",
       " 'x5_Electronic Technology': 0.0,\n",
       " 'x5_Missing': 0.0,\n",
       " 'x5_Producer Manufacturing': 0.0,\n",
       " 'x5_Utilities': 0.0,\n",
       " 'x6_0': 0.0,\n",
       " 'x6_3': 0.0,\n",
       " 'x6_10': 0.0,\n",
       " 'x6_14': 0.0,\n",
       " 'x6_15': 0.0,\n",
       " 'x6_16': 0.0,\n",
       " 'x6_20': 0.0,\n",
       " 'x7_Dissident': 0.0,\n",
       " 'x8_Missing': 0.0,\n",
       " 'x9_Mutual Fd-Etf': 0.0,\n",
       " 'x9_Mutual Fd-Unit Invt Tr': 0.0,\n",
       " 'x9_Private': 0.0,\n",
       " 'x9_Public': 0.0,\n",
       " 'x10_Private': 0.0,\n",
       " 'x10_Public': 0.0,\n",
       " 'x11_Before': 0.0,\n",
       " 'x12_Yes': 0.0,\n",
       " 'pre_6m_total_return': -1.706464172027458e-06,\n",
       " 'pre_18m_price_to_earnings': -6.190564745553114e-06,\n",
       " 'pre_12m_price_to_earnings': -2.0758239707928e-05,\n",
       " 'price_at_announcement': -4.223907118257214e-05,\n",
       " 'pre_6m_price_to_earnings': -6.527141930553553e-05,\n",
       " 'earnings_yield_at_announcement': -6.906514349839123e-05,\n",
       " 'ownership_pecent_on_announcement': -8.023987043808626e-05,\n",
       " 'x6_4': -0.006184366103335237,\n",
       " 'x3_Repeal Bylaw Amendments Adopted by Company During Proxy Fight': -0.0062204451720075105,\n",
       " 'x2_Compensation Related Enhancements': -0.01217731125770277,\n",
       " 'x4_5': -0.019296733069290754,\n",
       " 'x6_5': -0.02310702239924513,\n",
       " 'x5_Consumer Durables': -0.03097915071245147,\n",
       " 'x2_Remove Takeover Defenses': -0.03180779562674284,\n",
       " 'used_lawsuit_tactic': -0.03571973259264435,\n",
       " 'used_hostile_offer_tactic': -0.040858650472422854,\n",
       " 'x6_6': -0.058800131930169384,\n",
       " 'x5_Communications': -0.11130815014495947,\n",
       " 'x5_Consumer Services': -0.11324430782221363,\n",
       " 'used_take_action_by_written_consent_tactic': -0.11770194275753082,\n",
       " 'used_publicly_disclosed_letter_to_board_or_management_tactic': -0.1288192689548376,\n",
       " 'used_tender_offer_stake_only_tactic': -0.13370730067769623,\n",
       " 'x0_Vote Against a Management Proposal': -0.13679581430917262,\n",
       " 'x1_Review Strategic Alternatives': -0.1425740489997806,\n",
       " 'x1_Missing': -0.16795252263608004,\n",
       " 'x3_Other Board Size/Structure Related': -0.17903776012282027,\n",
       " 'used_propose_binding_proposal_tactic': -0.2164546829010776,\n",
       " 'x3_Opt out of State Takeover Statute': -0.24220021433009742,\n",
       " 'x4_7': -0.28334893955311535,\n",
       " 'x5_Consumer Non-Durables': -0.2857893544475659,\n",
       " \"x3_Elect Management's Director Nominee\": -0.2918328206584971,\n",
       " 'x3_Remove Director(s)': -0.29784696079667483,\n",
       " 'x3_Miscellaneous': -0.30201703970091875,\n",
       " 'x1_Potential Acquisition (Friendly and Unfriendly)': -0.30447269065115634,\n",
       " 'x5_Health Technology': -0.3088436499013447,\n",
       " 'x3_Missing': -0.3136510576614681,\n",
       " 'x6_9': -0.32686780671696064,\n",
       " 'x3_Approve Sale/Issuance of Stock at Price Below Net Asset Value per Share (as required by 1940 Act)': -0.3294053637391727,\n",
       " 'x6_8': -0.33737322360840605,\n",
       " \"x3_Elect Dissident's Director Nominee\": -0.3674005504308423,\n",
       " 'x0_Hostile/Unsolicited Acquisition': -0.38366028305466315,\n",
       " 'x1_Other Capital Structure Related, Increase Leverage, etc.': -0.42685059130659814,\n",
       " 'x3_Realize Net Asset Value/Open-End a Closed-End Fund': -0.4360605464368159,\n",
       " 'x5_Commercial Services': -0.5052456384321123,\n",
       " 'x9_Mutual Fd-Closed End': -0.5898998824786861,\n",
       " 'x4_14': -0.6268242577000176,\n",
       " 'x2_Remove Officer(s)': -0.6466730253007045,\n",
       " 'x7_Split': -0.6891841650886061,\n",
       " 'x3_Management Proposed Advisory Vote on Compensation (\"say on pay\")': -0.6939355793355096,\n",
       " 'x2_Add Independent Directors': -0.705313614199341,\n",
       " 'x4_0': -0.7225222562441344,\n",
       " 'x5_Distribution Services': -0.7506287630899806,\n",
       " 'x1_Block Acquisition/Agitate for Lower Price (Shareholder of Acquirer)': -0.7959156774045923,\n",
       " 'x6_11': -0.803260207831034,\n",
       " 'x8_Dissident': -0.805415574253233,\n",
       " 'x5_Process Industries': -0.861435119603849,\n",
       " 'x3_Redeem or Require Shareholder Vote on Poison Pill': -1.0147968370381495,\n",
       " 'x0_Board Control': -1.0592919251577841,\n",
       " 'x0_Board Representation': -1.063739781666594,\n",
       " 'x3_Change Vote Requirement to Elect Directors to Majority from Plurality': -1.1231368553490269,\n",
       " 'x9_Venture Capital Fund': -1.132386583963531,\n",
       " 'x3_Terminate Investment Advisory Agreement': -1.1807399457124286,\n",
       " 'x3_Name Change': -1.471078081601285,\n",
       " 'x3_Approve Investment Advisory Agreement': -1.5252576973530505,\n",
       " 'x3_Approve Reorganization/Restructuring Plan': -1.9903210665193702,\n",
       " 'x6_17': -2.055807980050912,\n",
       " 'x3_Fix the Number of Directors at Specified Number': -2.0964356574438976}"
      ]
     },
     "execution_count": 19,
     "metadata": {},
     "output_type": "execute_result"
    }
   ],
   "source": [
    "# Ordered feature importance\n",
    "{k:v for k,v in sorted(feature_importance_dict.items(), key=lambda x: x[1], reverse=True)}"
   ]
  },
  {
   "cell_type": "code",
   "execution_count": null,
   "metadata": {},
   "outputs": [],
   "source": []
  },
  {
   "cell_type": "markdown",
   "metadata": {},
   "source": [
    "## l2 penalty logistic regression"
   ]
  },
  {
   "cell_type": "code",
   "execution_count": 20,
   "metadata": {},
   "outputs": [
    {
     "name": "stdout",
     "output_type": "stream",
     "text": [
      "The best parameter for Logistic is {'C': 1.000000000000005}\n",
      "Training accuracy for Logistic Regression is 0.33817\n",
      "Testing accuracy for Logistic Regression is 0.74784\n"
     ]
    }
   ],
   "source": [
    "# Logistic regression with l2 norm\n",
    "lg_l2 = LogisticRegression(penalty = 'l2',multi_class = 'auto')\n",
    "\n",
    "# grid search\n",
    "param_grid = {'C': np.linspace(0.00000000000001, 2, 3)}\n",
    "grid = GridSearchCV(lg_l2, param_grid, cv=2)\n",
    "grid.fit(x_train, y_train)\n",
    "print(\"The best parameter for Logistic is {}\".format(grid.best_params_))\n",
    "print(\"Training accuracy for Logistic Regression is {}\".format(round(grid.score(x_train, y_train),5)))\n",
    "print(\"Testing accuracy for Logistic Regression is {}\".format(round(grid.score(x_test, y_test),5)))"
   ]
  },
  {
   "cell_type": "code",
   "execution_count": 21,
   "metadata": {},
   "outputs": [
    {
     "data": {
      "text/plain": [
       "array([[1280,    0,   68],\n",
       "       [ 171,    0,   18],\n",
       "       [ 181,    0,   19]])"
      ]
     },
     "execution_count": 21,
     "metadata": {},
     "output_type": "execute_result"
    }
   ],
   "source": [
    "# confusion_matrix with order: ['Missing', 'Dissident', 'Management']\n",
    "conf, pre_recall = produce_confusion_matrix(x_test, y_test, grid) \n",
    "conf"
   ]
  },
  {
   "cell_type": "code",
   "execution_count": 22,
   "metadata": {},
   "outputs": [
    {
     "data": {
      "text/html": [
       "<div>\n",
       "<style scoped>\n",
       "    .dataframe tbody tr th:only-of-type {\n",
       "        vertical-align: middle;\n",
       "    }\n",
       "\n",
       "    .dataframe tbody tr th {\n",
       "        vertical-align: top;\n",
       "    }\n",
       "\n",
       "    .dataframe thead th {\n",
       "        text-align: right;\n",
       "    }\n",
       "</style>\n",
       "<table border=\"1\" class=\"dataframe\">\n",
       "  <thead>\n",
       "    <tr style=\"text-align: right;\">\n",
       "      <th></th>\n",
       "      <th>Precision</th>\n",
       "      <th>Recall</th>\n",
       "    </tr>\n",
       "  </thead>\n",
       "  <tbody>\n",
       "    <tr>\n",
       "      <th>Missing</th>\n",
       "      <td>0.784314</td>\n",
       "      <td>0.949555</td>\n",
       "    </tr>\n",
       "    <tr>\n",
       "      <th>Dissident</th>\n",
       "      <td>NaN</td>\n",
       "      <td>0.000000</td>\n",
       "    </tr>\n",
       "    <tr>\n",
       "      <th>Management</th>\n",
       "      <td>0.180952</td>\n",
       "      <td>0.095000</td>\n",
       "    </tr>\n",
       "  </tbody>\n",
       "</table>\n",
       "</div>"
      ],
      "text/plain": [
       "            Precision    Recall\n",
       "Missing      0.784314  0.949555\n",
       "Dissident         NaN  0.000000\n",
       "Management   0.180952  0.095000"
      ]
     },
     "execution_count": 22,
     "metadata": {},
     "output_type": "execute_result"
    }
   ],
   "source": [
    "pre_recall"
   ]
  },
  {
   "cell_type": "code",
   "execution_count": 23,
   "metadata": {},
   "outputs": [
    {
     "data": {
      "image/png": "[encoded data removed]",
      "text/plain": [
       "<Figure size 1440x720 with 1 Axes>"
      ]
     },
     "metadata": {
      "needs_background": "light"
     },
     "output_type": "display_data"
    }
   ],
   "source": [
    "# Logistic regression with best parameter\n",
    "lg_l2 = LogisticRegression(penalty = 'l2',multi_class = 'auto', C = 1.000000000000005)\n",
    "lg_l2.fit(x_train, y_train)\n",
    "\n",
    "# Get top 20 important features\n",
    "feature_importance_dict = dict(zip(combine, lg_l2.coef_[0]))\n",
    "top_20_important = {k:v for k,v in sorted(feature_importance_dict.items(), key=lambda x: x[1], reverse=True)[:20]}\n",
    "name = [item for item in top_20_important]\n",
    "importance = [top_20_important[item] for item in top_20_important]\n",
    "\n",
    "# Plot top 20 important features\n",
    "_=plt.figure(figsize=(20,10))\n",
    "_=plt.scatter(name,importance)\n",
    "_=plt.xticks(rotation='vertical')\n",
    "_=plt.title('Top 20 Coefficients for Logistic Regression')\n",
    "_=plt.xlabel('Features')\n",
    "_=plt.ylabel('coefficient')"
   ]
  },
  {
   "cell_type": "markdown",
   "metadata": {},
   "source": [
    "## Complete case"
   ]
  },
  {
   "cell_type": "code",
   "execution_count": 24,
   "metadata": {},
   "outputs": [
    {
     "name": "stdout",
     "output_type": "stream",
     "text": [
      "The best parameter for Logistic is {'C': 2.0}\n",
      "Training accuracy for Logistic Regression is 0.67763\n",
      "Testing accuracy for Logistic Regression is 0.54568\n"
     ]
    }
   ],
   "source": [
    "# Logistic regression with l2 norm\n",
    "lg_l2 = LogisticRegression(penalty = 'l2',multi_class = 'auto')\n",
    "\n",
    "# grid search\n",
    "param_grid = {'C': np.linspace(0.00000000000001, 2, 3)}\n",
    "grid = GridSearchCV(lg_l2, param_grid, cv=2)\n",
    "grid.fit(x_train_complete, y_train_complete)\n",
    "print(\"The best parameter for Logistic is {}\".format(grid.best_params_))\n",
    "print(\"Training accuracy for Logistic Regression is {}\".format(round(grid.score(x_train_complete, y_train_complete),5)))\n",
    "print(\"Testing accuracy for Logistic Regression is {}\".format(round(grid.score(x_test_complete, y_test_complete),5)))"
   ]
  },
  {
   "cell_type": "code",
   "execution_count": 25,
   "metadata": {},
   "outputs": [
    {
     "data": {
      "text/plain": [
       "array([[ 91,  85],\n",
       "       [ 99, 130]])"
      ]
     },
     "execution_count": 25,
     "metadata": {},
     "output_type": "execute_result"
    }
   ],
   "source": [
    "# confusion_matrix with order: ['Missing', 'Dissident', 'Management']\n",
    "conf, pre_recall = produce_confusion_matrix(x_test_complete, y_test_complete, grid) \n",
    "conf"
   ]
  },
  {
   "cell_type": "code",
   "execution_count": 26,
   "metadata": {
    "scrolled": true
   },
   "outputs": [
    {
     "data": {
      "text/html": [
       "<div>\n",
       "<style scoped>\n",
       "    .dataframe tbody tr th:only-of-type {\n",
       "        vertical-align: middle;\n",
       "    }\n",
       "\n",
       "    .dataframe tbody tr th {\n",
       "        vertical-align: top;\n",
       "    }\n",
       "\n",
       "    .dataframe thead th {\n",
       "        text-align: right;\n",
       "    }\n",
       "</style>\n",
       "<table border=\"1\" class=\"dataframe\">\n",
       "  <thead>\n",
       "    <tr style=\"text-align: right;\">\n",
       "      <th></th>\n",
       "      <th>Precision</th>\n",
       "      <th>Recall</th>\n",
       "    </tr>\n",
       "  </thead>\n",
       "  <tbody>\n",
       "    <tr>\n",
       "      <th>Management</th>\n",
       "      <td>0.478947</td>\n",
       "      <td>0.517045</td>\n",
       "    </tr>\n",
       "    <tr>\n",
       "      <th>Dissident</th>\n",
       "      <td>0.604651</td>\n",
       "      <td>0.567686</td>\n",
       "    </tr>\n",
       "  </tbody>\n",
       "</table>\n",
       "</div>"
      ],
      "text/plain": [
       "            Precision    Recall\n",
       "Management   0.478947  0.517045\n",
       "Dissident    0.604651  0.567686"
      ]
     },
     "execution_count": 26,
     "metadata": {},
     "output_type": "execute_result"
    }
   ],
   "source": [
    "pre_recall"
   ]
  },
  {
   "cell_type": "code",
   "execution_count": 27,
   "metadata": {},
   "outputs": [
    {
     "data": {
      "image/png": "[encoded data removed]",
      "text/plain": [
       "<Figure size 1440x720 with 1 Axes>"
      ]
     },
     "metadata": {
      "needs_background": "light"
     },
     "output_type": "display_data"
    }
   ],
   "source": [
    "# Logistic regression with best parameter\n",
    "lg_l2 = LogisticRegression(penalty = 'l2',multi_class = 'auto', C = 2)\n",
    "lg_l2.fit(x_train_complete, y_train_complete)\n",
    "\n",
    "# Get top 20 important features\n",
    "feature_importance_dict = dict(zip(combine2, lg_l2.coef_[0]))\n",
    "top_20_important = {k:v for k,v in sorted(feature_importance_dict.items(), key=lambda x: x[1], reverse=True)[:20]}\n",
    "name = [item for item in top_20_important]\n",
    "importance = [top_20_important[item] for item in top_20_important]\n",
    "\n",
    "# Plot top 20 important features\n",
    "_=plt.figure(figsize=(20,10))\n",
    "_=plt.scatter(name,importance)\n",
    "_=plt.xticks(rotation='vertical')\n",
    "_=plt.title('Top 20 Coefficients for Logistic Regression')\n",
    "_=plt.xlabel('Features')\n",
    "_=plt.ylabel('coefficient')"
   ]
  },
  {
   "cell_type": "markdown",
   "metadata": {},
   "source": [
    "## Random Forest"
   ]
  },
  {
   "cell_type": "code",
   "execution_count": 28,
   "metadata": {},
   "outputs": [
    {
     "name": "stdout",
     "output_type": "stream",
     "text": [
      "The best parameter for Logistic is {'n_estimators': 377}\n",
      "Training accuracy for Random Forest is 0.99994\n",
      "Testing accuracy for Random Forest is 0.90961\n"
     ]
    }
   ],
   "source": [
    "rf = RandomForestClassifier()\n",
    "param_grid = {'n_estimators': np.linspace(10, 500, 5).astype('int'),\n",
    "#               'randomforestclassifier__max_depth':np.linspace(10, 500, 5).astype('int'),\n",
    "#               'randomforestclassifier__min_samples_split':np.linspace(10, 500, 5).astype('int'),\n",
    "#               'randomforestclassifier__min_samples_leaf':np.linspace(10, 500, 5).astype('int'),\n",
    "             }\n",
    "grid = GridSearchCV(rf, param_grid, cv=5)\n",
    "grid.fit(x_train, y_train)\n",
    "print(\"The best parameter for Logistic is {}\".format(grid.best_params_))\n",
    "print(\"Training accuracy for Random Forest is {}\".format(round(grid.score(x_train, y_train),5)))\n",
    "print(\"Testing accuracy for Random Forest is {}\".format(round(grid.score(x_test, y_test),5)))"
   ]
  },
  {
   "cell_type": "code",
   "execution_count": 29,
   "metadata": {},
   "outputs": [
    {
     "data": {
      "text/plain": [
       "array([[1340,    6,    2],\n",
       "       [   7,  131,   51],\n",
       "       [   0,   91,  109]])"
      ]
     },
     "execution_count": 29,
     "metadata": {},
     "output_type": "execute_result"
    }
   ],
   "source": [
    "# confusion_matrix with order: ['Missing', 'Dissident', 'Management']\n",
    "conf, pre_recall = produce_confusion_matrix(x_test, y_test, grid) \n",
    "conf"
   ]
  },
  {
   "cell_type": "code",
   "execution_count": 30,
   "metadata": {},
   "outputs": [
    {
     "data": {
      "text/html": [
       "<div>\n",
       "<style scoped>\n",
       "    .dataframe tbody tr th:only-of-type {\n",
       "        vertical-align: middle;\n",
       "    }\n",
       "\n",
       "    .dataframe tbody tr th {\n",
       "        vertical-align: top;\n",
       "    }\n",
       "\n",
       "    .dataframe thead th {\n",
       "        text-align: right;\n",
       "    }\n",
       "</style>\n",
       "<table border=\"1\" class=\"dataframe\">\n",
       "  <thead>\n",
       "    <tr style=\"text-align: right;\">\n",
       "      <th></th>\n",
       "      <th>Precision</th>\n",
       "      <th>Recall</th>\n",
       "    </tr>\n",
       "  </thead>\n",
       "  <tbody>\n",
       "    <tr>\n",
       "      <th>Missing</th>\n",
       "      <td>0.994803</td>\n",
       "      <td>0.994065</td>\n",
       "    </tr>\n",
       "    <tr>\n",
       "      <th>Dissident</th>\n",
       "      <td>0.574561</td>\n",
       "      <td>0.693122</td>\n",
       "    </tr>\n",
       "    <tr>\n",
       "      <th>Management</th>\n",
       "      <td>0.672840</td>\n",
       "      <td>0.545000</td>\n",
       "    </tr>\n",
       "  </tbody>\n",
       "</table>\n",
       "</div>"
      ],
      "text/plain": [
       "            Precision    Recall\n",
       "Missing      0.994803  0.994065\n",
       "Dissident    0.574561  0.693122\n",
       "Management   0.672840  0.545000"
      ]
     },
     "execution_count": 30,
     "metadata": {},
     "output_type": "execute_result"
    }
   ],
   "source": [
    "pre_recall"
   ]
  },
  {
   "cell_type": "code",
   "execution_count": 31,
   "metadata": {},
   "outputs": [
    {
     "data": {
      "image/png": "[encoded data removed]",
      "text/plain": [
       "<Figure size 1440x720 with 1 Axes>"
      ]
     },
     "metadata": {
      "needs_background": "light"
     },
     "output_type": "display_data"
    }
   ],
   "source": [
    "# Random Forest with best parameter\n",
    "rf = RandomForestClassifier(n_estimators= 500)\n",
    "rf.fit(x_train, y_train)\n",
    "\n",
    "# Get top 20 important features\n",
    "feature_importance_dict = dict(zip(combine, rf.feature_importances_))\n",
    "top_20_important = {k:v for k,v in sorted(feature_importance_dict.items(), key=lambda x: x[1], reverse=True)[:20]}\n",
    "name = [item for item in top_20_important]\n",
    "importance = [top_20_important[item] for item in top_20_important]\n",
    "\n",
    "# Plot top 20 important features\n",
    "_=plt.figure(figsize=(20,10))\n",
    "_=plt.scatter(name,importance)\n",
    "_=plt.xticks(rotation='vertical')\n",
    "_=plt.title('Top 20 Coefficients for Random Forest')\n",
    "_=plt.xlabel('Features')\n",
    "_=plt.ylabel('feature_importances')"
   ]
  },
  {
   "cell_type": "markdown",
   "metadata": {},
   "source": [
    "## Xgboost"
   ]
  },
  {
   "cell_type": "code",
   "execution_count": 32,
   "metadata": {},
   "outputs": [
    {
     "name": "stdout",
     "output_type": "stream",
     "text": [
      "The best parameter for xgboost is {'min_child_weight': 5}\n",
      "Training accuracy for xgboost is 0.85634\n",
      "Testing accuracy for xgboost is 0.90789\n"
     ]
    }
   ],
   "source": [
    "xgb = XGBClassifier()\n",
    "param_grid = {\n",
    "        'min_child_weight': [ 5],\n",
    "#         'xgb__gamma': [0.5, 1, 1.5, 2, 5],\n",
    "#         'xgb__subsample': [0.6, 0.8, 1.0],\n",
    "#         'xgb__colsample_bytree': [0.6, 0.8, 1.0],\n",
    "#         'xgb__max_depth': [3, 4, 5]\n",
    "        }\n",
    "# param_test1 = {\n",
    "#  'xgb__max_depth':range(3,10,2),\n",
    "#  'xgb__min_child_weight':range(1,6,2)\n",
    "# }\n",
    "grid = GridSearchCV(xgb, param_grid, cv=5)\n",
    "grid.fit(x_train, y_train)\n",
    "print(\"The best parameter for xgboost is {}\".format(grid.best_params_))\n",
    "print(\"Training accuracy for xgboost is {}\".format(round(grid.score(x_train, y_train),5)))\n",
    "print(\"Testing accuracy for xgboost is {}\".format(round(grid.score(x_test, y_test),5)))\n"
   ]
  },
  {
   "cell_type": "code",
   "execution_count": 33,
   "metadata": {},
   "outputs": [
    {
     "data": {
      "text/plain": [
       "array([[1343,    5,    0],\n",
       "       [   7,  125,   57],\n",
       "       [   0,   91,  109]])"
      ]
     },
     "execution_count": 33,
     "metadata": {},
     "output_type": "execute_result"
    }
   ],
   "source": [
    "# confusion_matrix with order: ['Missing', 'Dissident', 'Management']\n",
    "conf, pre_recall = produce_confusion_matrix(x_test, y_test, grid) \n",
    "conf"
   ]
  },
  {
   "cell_type": "code",
   "execution_count": 34,
   "metadata": {
    "scrolled": true
   },
   "outputs": [
    {
     "data": {
      "text/html": [
       "<div>\n",
       "<style scoped>\n",
       "    .dataframe tbody tr th:only-of-type {\n",
       "        vertical-align: middle;\n",
       "    }\n",
       "\n",
       "    .dataframe tbody tr th {\n",
       "        vertical-align: top;\n",
       "    }\n",
       "\n",
       "    .dataframe thead th {\n",
       "        text-align: right;\n",
       "    }\n",
       "</style>\n",
       "<table border=\"1\" class=\"dataframe\">\n",
       "  <thead>\n",
       "    <tr style=\"text-align: right;\">\n",
       "      <th></th>\n",
       "      <th>Precision</th>\n",
       "      <th>Recall</th>\n",
       "    </tr>\n",
       "  </thead>\n",
       "  <tbody>\n",
       "    <tr>\n",
       "      <th>Missing</th>\n",
       "      <td>0.994815</td>\n",
       "      <td>0.996291</td>\n",
       "    </tr>\n",
       "    <tr>\n",
       "      <th>Dissident</th>\n",
       "      <td>0.565611</td>\n",
       "      <td>0.661376</td>\n",
       "    </tr>\n",
       "    <tr>\n",
       "      <th>Management</th>\n",
       "      <td>0.656627</td>\n",
       "      <td>0.545000</td>\n",
       "    </tr>\n",
       "  </tbody>\n",
       "</table>\n",
       "</div>"
      ],
      "text/plain": [
       "            Precision    Recall\n",
       "Missing      0.994815  0.996291\n",
       "Dissident    0.565611  0.661376\n",
       "Management   0.656627  0.545000"
      ]
     },
     "execution_count": 34,
     "metadata": {},
     "output_type": "execute_result"
    }
   ],
   "source": [
    "pre_recall"
   ]
  },
  {
   "cell_type": "code",
   "execution_count": 35,
   "metadata": {},
   "outputs": [
    {
     "data": {
      "image/png": "[encoded data removed]",
      "text/plain": [
       "<Figure size 1440x720 with 1 Axes>"
      ]
     },
     "metadata": {
      "needs_background": "light"
     },
     "output_type": "display_data"
    }
   ],
   "source": [
    "# XGBoost with best parameter\n",
    "xgb = XGBClassifier(min_child_weight = 5)\n",
    "xgb.fit(x_train, y_train)\n",
    "\n",
    "# Get top 20 important features\n",
    "feature_importance_dict = dict(zip(combine, xgb.feature_importances_))\n",
    "top_20_important = {k:v for k,v in sorted(feature_importance_dict.items(), key=lambda x: x[1], reverse=True)[:20]}\n",
    "name = [item for item in top_20_important]\n",
    "importance = [top_20_important[item] for item in top_20_important]\n",
    "\n",
    "# Plot top 20 important features\n",
    "_=plt.figure(figsize=(20,10))\n",
    "_=plt.scatter(name,importance)\n",
    "_=plt.xticks(rotation='vertical')\n",
    "_=plt.title('Top 20 Coefficients for Random Forest')\n",
    "_=plt.xlabel('Features')\n",
    "_=plt.ylabel('feature_importances')"
   ]
  },
  {
   "cell_type": "markdown",
   "metadata": {},
   "source": [
    "## Nearest Centroid"
   ]
  },
  {
   "cell_type": "code",
   "execution_count": 36,
   "metadata": {},
   "outputs": [
    {
     "name": "stdout",
     "output_type": "stream",
     "text": [
      "The best parameter for Logistic is {'metric': 'manhattan'}\n",
      "Training accuracy for Logistic Regression is 0.47969\n",
      "Testing accuracy for Logistic Regression is 0.56995\n"
     ]
    }
   ],
   "source": [
    "nc = NearestCentroid()\n",
    "param_grid = {'metric':['euclidean','manhattan']}\n",
    "grid = GridSearchCV(nc, param_grid, cv=5)\n",
    "grid.fit(x_train, y_train)\n",
    "print(\"The best parameter for Logistic is {}\".format(grid.best_params_))\n",
    "print(\"Training accuracy for Logistic Regression is {}\".format(round(grid.score(x_train, y_train),5)))\n",
    "print(\"Testing accuracy for Logistic Regression is {}\".format(round(grid.score(x_test, y_test),5)))"
   ]
  },
  {
   "cell_type": "code",
   "execution_count": 37,
   "metadata": {},
   "outputs": [
    {
     "data": {
      "text/plain": [
       "array([[886, 159, 303],\n",
       "       [ 94,  27,  68],\n",
       "       [ 97,  26,  77]])"
      ]
     },
     "execution_count": 37,
     "metadata": {},
     "output_type": "execute_result"
    }
   ],
   "source": [
    "# confusion_matrix with order: ['Missing', 'Dissident', 'Management']\n",
    "conf, pre_recall = produce_confusion_matrix(x_test, y_test, grid) \n",
    "conf"
   ]
  },
  {
   "cell_type": "code",
   "execution_count": 38,
   "metadata": {},
   "outputs": [
    {
     "data": {
      "text/html": [
       "<div>\n",
       "<style scoped>\n",
       "    .dataframe tbody tr th:only-of-type {\n",
       "        vertical-align: middle;\n",
       "    }\n",
       "\n",
       "    .dataframe tbody tr th {\n",
       "        vertical-align: top;\n",
       "    }\n",
       "\n",
       "    .dataframe thead th {\n",
       "        text-align: right;\n",
       "    }\n",
       "</style>\n",
       "<table border=\"1\" class=\"dataframe\">\n",
       "  <thead>\n",
       "    <tr style=\"text-align: right;\">\n",
       "      <th></th>\n",
       "      <th>Precision</th>\n",
       "      <th>Recall</th>\n",
       "    </tr>\n",
       "  </thead>\n",
       "  <tbody>\n",
       "    <tr>\n",
       "      <th>Missing</th>\n",
       "      <td>0.822656</td>\n",
       "      <td>0.657270</td>\n",
       "    </tr>\n",
       "    <tr>\n",
       "      <th>Dissident</th>\n",
       "      <td>0.127358</td>\n",
       "      <td>0.142857</td>\n",
       "    </tr>\n",
       "    <tr>\n",
       "      <th>Management</th>\n",
       "      <td>0.171875</td>\n",
       "      <td>0.385000</td>\n",
       "    </tr>\n",
       "  </tbody>\n",
       "</table>\n",
       "</div>"
      ],
      "text/plain": [
       "            Precision    Recall\n",
       "Missing      0.822656  0.657270\n",
       "Dissident    0.127358  0.142857\n",
       "Management   0.171875  0.385000"
      ]
     },
     "execution_count": 38,
     "metadata": {},
     "output_type": "execute_result"
    }
   ],
   "source": [
    "pre_recall"
   ]
  },
  {
   "cell_type": "markdown",
   "metadata": {},
   "source": [
    "## Support Vector Matchine"
   ]
  },
  {
   "cell_type": "code",
   "execution_count": 39,
   "metadata": {},
   "outputs": [
    {
     "data": {
      "text/plain": [
       "array([[1348,    0,    0],\n",
       "       [ 186,    0,    3],\n",
       "       [ 197,    0,    3]])"
      ]
     },
     "execution_count": 39,
     "metadata": {},
     "output_type": "execute_result"
    }
   ],
   "source": [
    "svc = svm.SVC(kernel='rbf')\n",
    "svc.fit(x_train,y_train)\n",
    "# confusion_matrix with order: ['Missing', 'Dissident', 'Management']\n",
    "conf, pre_recall = produce_confusion_matrix(x_test, y_test, svc) \n",
    "conf"
   ]
  },
  {
   "cell_type": "code",
   "execution_count": 40,
   "metadata": {},
   "outputs": [
    {
     "data": {
      "text/html": [
       "<div>\n",
       "<style scoped>\n",
       "    .dataframe tbody tr th:only-of-type {\n",
       "        vertical-align: middle;\n",
       "    }\n",
       "\n",
       "    .dataframe tbody tr th {\n",
       "        vertical-align: top;\n",
       "    }\n",
       "\n",
       "    .dataframe thead th {\n",
       "        text-align: right;\n",
       "    }\n",
       "</style>\n",
       "<table border=\"1\" class=\"dataframe\">\n",
       "  <thead>\n",
       "    <tr style=\"text-align: right;\">\n",
       "      <th></th>\n",
       "      <th>Precision</th>\n",
       "      <th>Recall</th>\n",
       "    </tr>\n",
       "  </thead>\n",
       "  <tbody>\n",
       "    <tr>\n",
       "      <th>Missing</th>\n",
       "      <td>0.778741</td>\n",
       "      <td>1.000</td>\n",
       "    </tr>\n",
       "    <tr>\n",
       "      <th>Dissident</th>\n",
       "      <td>NaN</td>\n",
       "      <td>0.000</td>\n",
       "    </tr>\n",
       "    <tr>\n",
       "      <th>Management</th>\n",
       "      <td>0.500000</td>\n",
       "      <td>0.015</td>\n",
       "    </tr>\n",
       "  </tbody>\n",
       "</table>\n",
       "</div>"
      ],
      "text/plain": [
       "            Precision  Recall\n",
       "Missing      0.778741   1.000\n",
       "Dissident         NaN   0.000\n",
       "Management   0.500000   0.015"
      ]
     },
     "execution_count": 40,
     "metadata": {},
     "output_type": "execute_result"
    }
   ],
   "source": [
    "pre_recall"
   ]
  },
  {
   "cell_type": "code",
   "execution_count": 41,
   "metadata": {},
   "outputs": [],
   "source": [
    "from sklearn.linear_model import LogisticRegression\n",
    "from sklearn.naive_bayes import GaussianNB\n",
    "from sklearn.ensemble import RandomForestClassifier, VotingClassifier\n",
    "# clf1 = LogisticRegression(solver='lbfgs', multi_class='multinomial',random_state=1)\n",
    "# clf2 = RandomForestClassifier(n_estimators=50, random_state=1)\n",
    "# clf3 = GaussianNB()\n",
    "# lg_pipe = make_pipeline(preprocess, LogisticRegression(penalty = 'l1',multi_class = 'auto', C = 0.5000000000000075))\n",
    "# lg_pipe2 = make_pipeline(preprocess, LogisticRegression(penalty = 'l2',multi_class = 'auto', C = 1.5555555555555578))\n",
    "# rf_pipe = make_pipeline(preprocess, RandomForestClassifier(n_estimators= 132))\n",
    "# xgb_pipe = Pipeline([('preprocess', preprocess),('xgb', XGBClassifier(min_child_weight=5))])\n",
    "# nc_pipe = make_pipeline(preprocess, NearestCentroid(metric = 'manhattan'))"
   ]
  },
  {
   "cell_type": "markdown",
   "metadata": {},
   "source": [
    "## Hard Vote"
   ]
  },
  {
   "cell_type": "code",
   "execution_count": 50,
   "metadata": {},
   "outputs": [
    {
     "name": "stdout",
     "output_type": "stream",
     "text": [
      "Accuracy is 90.79%\n"
     ]
    }
   ],
   "source": [
    "eclf1 = VotingClassifier(estimators=[('lg', lg_l1), \n",
    "                                     ('lg2', lg_l2), \n",
    "                                     ('rf', rf),\n",
    "                                    ('xgb', xgb), \n",
    "                                    ('nc', nc)], \n",
    "                         voting='hard')\n",
    "eclf1 = eclf1.fit(x_train, y_train)\n",
    "y_pred1 = eclf1.predict(x_test)\n",
    "print(\"Accuracy is %.2f%%\" % ((np.sum(y_pred1 == np.array(y_test).flatten()) / len(y_pred1))*100))\n"
   ]
  },
  {
   "cell_type": "code",
   "execution_count": 51,
   "metadata": {},
   "outputs": [
    {
     "data": {
      "text/plain": [
       "array([[1340,    5,    3],\n",
       "       [   5,  139,   45],\n",
       "       [   0,  102,   98]])"
      ]
     },
     "execution_count": 51,
     "metadata": {},
     "output_type": "execute_result"
    }
   ],
   "source": [
    "conf, pre_recall = produce_confusion_matrix(x_test, y_test, eclf1) \n",
    "conf"
   ]
  },
  {
   "cell_type": "code",
   "execution_count": 52,
   "metadata": {},
   "outputs": [
    {
     "data": {
      "text/html": [
       "<div>\n",
       "<style scoped>\n",
       "    .dataframe tbody tr th:only-of-type {\n",
       "        vertical-align: middle;\n",
       "    }\n",
       "\n",
       "    .dataframe tbody tr th {\n",
       "        vertical-align: top;\n",
       "    }\n",
       "\n",
       "    .dataframe thead th {\n",
       "        text-align: right;\n",
       "    }\n",
       "</style>\n",
       "<table border=\"1\" class=\"dataframe\">\n",
       "  <thead>\n",
       "    <tr style=\"text-align: right;\">\n",
       "      <th></th>\n",
       "      <th>Precision</th>\n",
       "      <th>Recall</th>\n",
       "    </tr>\n",
       "  </thead>\n",
       "  <tbody>\n",
       "    <tr>\n",
       "      <th>Missing</th>\n",
       "      <td>0.996283</td>\n",
       "      <td>0.994065</td>\n",
       "    </tr>\n",
       "    <tr>\n",
       "      <th>Dissident</th>\n",
       "      <td>0.565041</td>\n",
       "      <td>0.735450</td>\n",
       "    </tr>\n",
       "    <tr>\n",
       "      <th>Management</th>\n",
       "      <td>0.671233</td>\n",
       "      <td>0.490000</td>\n",
       "    </tr>\n",
       "  </tbody>\n",
       "</table>\n",
       "</div>"
      ],
      "text/plain": [
       "            Precision    Recall\n",
       "Missing      0.996283  0.994065\n",
       "Dissident    0.565041  0.735450\n",
       "Management   0.671233  0.490000"
      ]
     },
     "execution_count": 52,
     "metadata": {},
     "output_type": "execute_result"
    }
   ],
   "source": [
    "pre_recall"
   ]
  },
  {
   "cell_type": "markdown",
   "metadata": {},
   "source": [
    "## Soft Vote"
   ]
  },
  {
   "cell_type": "code",
   "execution_count": 54,
   "metadata": {},
   "outputs": [
    {
     "name": "stdout",
     "output_type": "stream",
     "text": [
      "Accuracy is 91.08%\n"
     ]
    }
   ],
   "source": [
    "eclf2 = VotingClassifier(estimators=[('lg', lg_l1), \n",
    "                                     ('lg2', lg_l2), \n",
    "                                     ('rf', rf),\n",
    "                                    ('xgb', xgb)], \n",
    "                         voting='soft')\n",
    "eclf2 = eclf2.fit(x_train, y_train)\n",
    "y_pred2 = eclf2.predict(x_test)\n",
    "print(\"Accuracy is %.2f%%\" % ((np.sum(y_pred2 == np.array(y_test).flatten()) / len(y_pred2))*100))"
   ]
  },
  {
   "cell_type": "code",
   "execution_count": 55,
   "metadata": {},
   "outputs": [
    {
     "data": {
      "text/plain": [
       "array([[1342,    5,    1],\n",
       "       [   6,  133,   50],\n",
       "       [   0,   93,  107]])"
      ]
     },
     "execution_count": 55,
     "metadata": {},
     "output_type": "execute_result"
    }
   ],
   "source": [
    "conf, pre_recall = produce_confusion_matrix(x_test, y_test, eclf2) \n",
    "conf"
   ]
  },
  {
   "cell_type": "code",
   "execution_count": 56,
   "metadata": {},
   "outputs": [
    {
     "data": {
      "text/html": [
       "<div>\n",
       "<style scoped>\n",
       "    .dataframe tbody tr th:only-of-type {\n",
       "        vertical-align: middle;\n",
       "    }\n",
       "\n",
       "    .dataframe tbody tr th {\n",
       "        vertical-align: top;\n",
       "    }\n",
       "\n",
       "    .dataframe thead th {\n",
       "        text-align: right;\n",
       "    }\n",
       "</style>\n",
       "<table border=\"1\" class=\"dataframe\">\n",
       "  <thead>\n",
       "    <tr style=\"text-align: right;\">\n",
       "      <th></th>\n",
       "      <th>Precision</th>\n",
       "      <th>Recall</th>\n",
       "    </tr>\n",
       "  </thead>\n",
       "  <tbody>\n",
       "    <tr>\n",
       "      <th>Missing</th>\n",
       "      <td>0.995549</td>\n",
       "      <td>0.995549</td>\n",
       "    </tr>\n",
       "    <tr>\n",
       "      <th>Dissident</th>\n",
       "      <td>0.575758</td>\n",
       "      <td>0.703704</td>\n",
       "    </tr>\n",
       "    <tr>\n",
       "      <th>Management</th>\n",
       "      <td>0.677215</td>\n",
       "      <td>0.535000</td>\n",
       "    </tr>\n",
       "  </tbody>\n",
       "</table>\n",
       "</div>"
      ],
      "text/plain": [
       "            Precision    Recall\n",
       "Missing      0.995549  0.995549\n",
       "Dissident    0.575758  0.703704\n",
       "Management   0.677215  0.535000"
      ]
     },
     "execution_count": 56,
     "metadata": {},
     "output_type": "execute_result"
    }
   ],
   "source": [
    "pre_recall"
   ]
  },
  {
   "cell_type": "markdown",
   "metadata": {},
   "source": [
    "## Weights Based Weights Soft Vote"
   ]
  },
  {
   "cell_type": "code",
   "execution_count": 58,
   "metadata": {},
   "outputs": [
    {
     "name": "stdout",
     "output_type": "stream",
     "text": [
      "Accuracy is 91.02%\n"
     ]
    }
   ],
   "source": [
    "compute_weights = lambda pipelines,x_train,y_train,x_test,y_test: [x.fit(x_train,y_train).score(x_test,y_test) for x in pipelines]\n",
    "ensemble = [lg_l1,lg_l2,rf,xgb]\n",
    "weights = compute_weights(ensemble,x_train,y_train,x_test,y_test)\n",
    "\n",
    "eclf3 = VotingClassifier(estimators=[('lg', lg_l1), \n",
    "                                     ('lg2', lg_l2), \n",
    "                                     ('rf', rf),\n",
    "                                    ('xgb', xgb)], \n",
    "                                     voting='soft', \n",
    "                                     weights=weights,\n",
    "                                     flatten_transform=True)\n",
    "eclf3 = eclf3.fit(x_train, y_train)\n",
    "y_pred3 = eclf3.predict(x_test)\n",
    "print(\"Accuracy is %.2f%%\" % ((np.sum(y_pred3 == np.array(y_test).flatten()) / len(y_pred3))*100))"
   ]
  },
  {
   "cell_type": "code",
   "execution_count": 59,
   "metadata": {},
   "outputs": [
    {
     "data": {
      "text/plain": [
       "array([[1342,    5,    1],\n",
       "       [   6,  133,   50],\n",
       "       [   0,   94,  106]])"
      ]
     },
     "execution_count": 59,
     "metadata": {},
     "output_type": "execute_result"
    }
   ],
   "source": [
    "conf, pre_recall = produce_confusion_matrix(x_test, y_test, eclf3) \n",
    "conf"
   ]
  },
  {
   "cell_type": "code",
   "execution_count": 60,
   "metadata": {},
   "outputs": [
    {
     "data": {
      "text/html": [
       "<div>\n",
       "<style scoped>\n",
       "    .dataframe tbody tr th:only-of-type {\n",
       "        vertical-align: middle;\n",
       "    }\n",
       "\n",
       "    .dataframe tbody tr th {\n",
       "        vertical-align: top;\n",
       "    }\n",
       "\n",
       "    .dataframe thead th {\n",
       "        text-align: right;\n",
       "    }\n",
       "</style>\n",
       "<table border=\"1\" class=\"dataframe\">\n",
       "  <thead>\n",
       "    <tr style=\"text-align: right;\">\n",
       "      <th></th>\n",
       "      <th>Precision</th>\n",
       "      <th>Recall</th>\n",
       "    </tr>\n",
       "  </thead>\n",
       "  <tbody>\n",
       "    <tr>\n",
       "      <th>Missing</th>\n",
       "      <td>0.995549</td>\n",
       "      <td>0.995549</td>\n",
       "    </tr>\n",
       "    <tr>\n",
       "      <th>Dissident</th>\n",
       "      <td>0.573276</td>\n",
       "      <td>0.703704</td>\n",
       "    </tr>\n",
       "    <tr>\n",
       "      <th>Management</th>\n",
       "      <td>0.675159</td>\n",
       "      <td>0.530000</td>\n",
       "    </tr>\n",
       "  </tbody>\n",
       "</table>\n",
       "</div>"
      ],
      "text/plain": [
       "            Precision    Recall\n",
       "Missing      0.995549  0.995549\n",
       "Dissident    0.573276  0.703704\n",
       "Management   0.675159  0.530000"
      ]
     },
     "execution_count": 60,
     "metadata": {},
     "output_type": "execute_result"
    }
   ],
   "source": [
    "pre_recall"
   ]
  },
  {
   "cell_type": "code",
   "execution_count": null,
   "metadata": {},
   "outputs": [],
   "source": [
    "X_tf = X.copy()\n",
    "Y_tf = Y.copy()\n",
    "X_tf['ltm_eps_at_announcement'] = 1/ X_tf['ltm_eps_at_announcement']\n",
    "\n",
    "pipeline_component = make_pipeline(SimpleImputer(missing_values = np.nan, strategy = 'constant',fill_value = -9999))\n",
    "pipeline_component_numeric = make_pipeline(SimpleImputer(missing_values = np.nan, strategy = 'constant',fill_value = 'NA'),\n",
    "                                          (OneHotEncoder(handle_unknown='ignore')))\n",
    "preprocess = make_column_transformer((pipeline_component,~cate),\n",
    "                                     (pipeline_component_numeric,cate))\n",
    "\n",
    "le = preprocessing.LabelEncoder()"
   ]
  },
  {
   "cell_type": "code",
   "execution_count": null,
   "metadata": {},
   "outputs": [],
   "source": [
    "X_tf = preprocess.fit_transform(X_tf).toarray()\n",
    "Y_tf_map = le.fit(Y_tf).classes_\n",
    "Y_tf = le.transform(Y_tf)\n",
    "x_train, x_test, y_train, y_test = train_test_split(X_tf,Y_tf,test_size = 0.2)\n"
   ]
  },
  {
   "cell_type": "markdown",
   "metadata": {},
   "source": [
    "## Try Neural Network"
   ]
  },
  {
   "cell_type": "code",
   "execution_count": null,
   "metadata": {},
   "outputs": [],
   "source": [
    "import tensorflow as tf\n",
    "class proxy_results_classifier(tf.keras.Model):\n",
    "    \n",
    "    def __init__(self,num_classes):\n",
    "        super(proxy_results_classifier, self).__init__()\n",
    "        self.d1 = tf.keras.layers.Dense(512)\n",
    "        self.norm_1 = tf.keras.layers.BatchNormalization()\n",
    "        \n",
    "        self.d2 = tf.keras.layers.Dense(256)\n",
    "        self.norm_2 = tf.keras.layers.BatchNormalization()\n",
    "        \n",
    "        self.d3 = tf.keras.layers.Dense(128)\n",
    "        self.norm_3 = tf.keras.layers.BatchNormalization()\n",
    "        \n",
    "        self.d4 = tf.keras.layers.Dense(num_classes, activation='softmax')\n",
    "        self.relu = tf.nn.relu\n",
    "\n",
    "    def call(self, x):\n",
    "        x = self.d1(x)\n",
    "        x = self.norm_1(x)\n",
    "        x = self.relu(x)\n",
    "        \n",
    "        x = self.d2(x)\n",
    "        x = self.norm_2(x)\n",
    "        x = self.relu(x)\n",
    "        \n",
    "        x = self.d3(x)\n",
    "        x = self.norm_3(x)\n",
    "        x = self.relu(x)\n",
    "        \n",
    "        x = self.d4(x)\n",
    "        \n",
    "        return x\n",
    "\n",
    "# Create an instance of the model\n",
    "model = proxy_results_classifier(len(set(y_test)))"
   ]
  },
  {
   "cell_type": "code",
   "execution_count": null,
   "metadata": {},
   "outputs": [],
   "source": [
    "y_test"
   ]
  },
  {
   "cell_type": "code",
   "execution_count": null,
   "metadata": {},
   "outputs": [],
   "source": [
    "model.compile(optimizer=tf.keras.optimizers.Adam(),\n",
    "              loss='categorical_crossentropy',\n",
    "              metrics=['accuracy'])\n",
    "model.fit(x_train, y_train, epochs=30, batch_size=60)"
   ]
  },
  {
   "cell_type": "code",
   "execution_count": null,
   "metadata": {},
   "outputs": [],
   "source": [
    "y_test"
   ]
  },
  {
   "cell_type": "code",
   "execution_count": null,
   "metadata": {},
   "outputs": [],
   "source": [
    "scores = model.evaluate(x_test, y_test)"
   ]
  },
  {
   "cell_type": "code",
   "execution_count": null,
   "metadata": {},
   "outputs": [],
   "source": [
    "optimizer = tf.keras.optimizers.Adam()\n",
    "loss_object = tf.keras.losses.SparseCategoricalCrossentropy()\n",
    "\n",
    "train_loss = tf.keras.metrics.Mean(name='train_loss')\n",
    "train_accuracy = tf.keras.metrics.SparseCategoricalAccuracy(name='train_accuracy')\n",
    "\n",
    "test_loss = tf.keras.metrics.Mean(name='test_loss')\n",
    "test_accuracy = tf.keras.metrics.SparseCategoricalAccuracy(name='test_accuracy')"
   ]
  },
  {
   "cell_type": "code",
   "execution_count": null,
   "metadata": {},
   "outputs": [],
   "source": [
    "@tf.function\n",
    "def train_step(x, y):\n",
    "    with tf.GradientTape() as tape:\n",
    "        predictions = model(x)\n",
    "        loss = loss_object(x, y)\n",
    "    gradients = tape.gradient(loss, model.trainable_variables)\n",
    "    optimizer.apply_gradients(zip(gradients, model.trainable_variables))\n",
    "\n",
    "    train_loss(loss)\n",
    "    train_accuracy(labels, predictions)"
   ]
  },
  {
   "cell_type": "code",
   "execution_count": null,
   "metadata": {},
   "outputs": [],
   "source": [
    "batch = 240\n",
    "x_train_0 = x_train[y_train == 0]\n",
    "x_train_1 = x_train[y_train == 1]\n",
    "x_train_2 = x_train[y_train == 2]\n",
    "x_train_3 = x_train[y_train == 3]\n",
    "x_train_4 = x_train[y_train == 4]\n",
    "x_train_5 = x_train[y_train == 5]"
   ]
  },
  {
   "cell_type": "code",
   "execution_count": null,
   "metadata": {},
   "outputs": [],
   "source": [
    "sample_indinces = lambda sample_num\n",
    "sample = lambda x_list,x_sample_indices: np.concatenate([x_list[i][x_sample_indices[i]] for i in range(len(x_list))],axis = 0)"
   ]
  },
  {
   "cell_type": "code",
   "execution_count": null,
   "metadata": {},
   "outputs": [],
   "source": [
    "EPOCHS = 10\n",
    "\n",
    "for epoch in range(EPOCHS):\n",
    "    for x, y in train_ds:\n",
    "    for i in range(10):\n",
    "        x_t=\n",
    "        train_step(images, labels)\n",
    "\n",
    "    for test_images, test_labels in test_ds:\n",
    "        test_step(test_images, test_labels)\n",
    "\n",
    "    template = 'Epoch {}, Loss: {}, Accuracy: {}, Test Loss: {}, Test Accuracy: {}'\n",
    "    print(template.format(epoch+1,\n",
    "                    train_loss.result(),\n",
    "                    train_accuracy.result()*100,\n",
    "                    test_loss.result(),\n",
    "                    test_accuracy.result()*100))\n",
    "\n",
    "    # Reset the metrics for the next epoch\n",
    "    train_loss.reset_states()\n",
    "    train_accuracy.reset_states()\n",
    "    test_loss.reset_states()\n",
    "    test_accuracy.reset_states()"
   ]
  },
  {
   "cell_type": "code",
   "execution_count": null,
   "metadata": {},
   "outputs": [],
   "source": []
  }
 ],
 "metadata": {
  "kernelspec": {
   "display_name": "database",
   "language": "python",
   "name": "database"
  },
  "language_info": {
   "codemirror_mode": {
    "name": "ipython",
    "version": 3
   },
   "file_extension": ".py",
   "mimetype": "text/x-python",
   "name": "python",
   "nbconvert_exporter": "python",
   "pygments_lexer": "ipython3",
   "version": "3.6.8"
  }
 },
 "nbformat": 4,
 "nbformat_minor": 2
}
